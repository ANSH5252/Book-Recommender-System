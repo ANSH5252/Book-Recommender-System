{
 "cells": [
  {
   "cell_type": "markdown",
   "id": "5d239ce9",
   "metadata": {},
   "source": [
    "# Book Recommender System"
   ]
  },
  {
   "cell_type": "markdown",
   "id": "1f73b16c",
   "metadata": {},
   "source": [
    "## Importing Necessary Libraries/Modules"
   ]
  },
  {
   "cell_type": "code",
   "execution_count": 2,
   "id": "8d587cb8",
   "metadata": {},
   "outputs": [],
   "source": [
    "import numpy as np\n",
    "import pandas as pd\n",
    "\n",
    "import warnings\n",
    "warnings.filterwarnings(\"ignore\")"
   ]
  },
  {
   "cell_type": "markdown",
   "id": "08ab1e94",
   "metadata": {},
   "source": [
    "## Loading the Datasets"
   ]
  },
  {
   "cell_type": "code",
   "execution_count": 3,
   "id": "c4435c20",
   "metadata": {},
   "outputs": [],
   "source": [
    "books = pd.read_csv('books.csv')\n",
    "users = pd.read_csv('users.csv')\n",
    "ratings = pd.read_csv('ratings.csv')"
   ]
  },
  {
   "cell_type": "markdown",
   "id": "a29ca970",
   "metadata": {},
   "source": [
    "## Investigating the Dataframes"
   ]
  },
  {
   "cell_type": "code",
   "execution_count": 4,
   "id": "620e2cba",
   "metadata": {},
   "outputs": [
    {
     "data": {
      "application/vnd.microsoft.datawrangler.viewer.v0+json": {
       "columns": [
        {
         "name": "index",
         "rawType": "int64",
         "type": "integer"
        },
        {
         "name": "ISBN",
         "rawType": "object",
         "type": "string"
        },
        {
         "name": "Book-Title",
         "rawType": "object",
         "type": "string"
        },
        {
         "name": "Book-Author",
         "rawType": "object",
         "type": "unknown"
        },
        {
         "name": "Year-Of-Publication",
         "rawType": "object",
         "type": "unknown"
        },
        {
         "name": "Publisher",
         "rawType": "object",
         "type": "unknown"
        },
        {
         "name": "Image-URL-S",
         "rawType": "object",
         "type": "string"
        },
        {
         "name": "Image-URL-M",
         "rawType": "object",
         "type": "string"
        },
        {
         "name": "Image-URL-L",
         "rawType": "object",
         "type": "unknown"
        }
       ],
       "ref": "6b8fca88-19d1-46d9-a1c3-2fbc009aa7ed",
       "rows": [
        [
         "0",
         "0195153448",
         "Classical Mythology",
         "Mark P. O. Morford",
         "2002",
         "Oxford University Press",
         "http://images.amazon.com/images/P/0195153448.01.THUMBZZZ.jpg",
         "http://images.amazon.com/images/P/0195153448.01.MZZZZZZZ.jpg",
         "http://images.amazon.com/images/P/0195153448.01.LZZZZZZZ.jpg"
        ],
        [
         "1",
         "0002005018",
         "Clara Callan",
         "Richard Bruce Wright",
         "2001",
         "HarperFlamingo Canada",
         "http://images.amazon.com/images/P/0002005018.01.THUMBZZZ.jpg",
         "http://images.amazon.com/images/P/0002005018.01.MZZZZZZZ.jpg",
         "http://images.amazon.com/images/P/0002005018.01.LZZZZZZZ.jpg"
        ],
        [
         "2",
         "0060973129",
         "Decision in Normandy",
         "Carlo D'Este",
         "1991",
         "HarperPerennial",
         "http://images.amazon.com/images/P/0060973129.01.THUMBZZZ.jpg",
         "http://images.amazon.com/images/P/0060973129.01.MZZZZZZZ.jpg",
         "http://images.amazon.com/images/P/0060973129.01.LZZZZZZZ.jpg"
        ],
        [
         "3",
         "0374157065",
         "Flu: The Story of the Great Influenza Pandemic of 1918 and the Search for the Virus That Caused It",
         "Gina Bari Kolata",
         "1999",
         "Farrar Straus Giroux",
         "http://images.amazon.com/images/P/0374157065.01.THUMBZZZ.jpg",
         "http://images.amazon.com/images/P/0374157065.01.MZZZZZZZ.jpg",
         "http://images.amazon.com/images/P/0374157065.01.LZZZZZZZ.jpg"
        ],
        [
         "4",
         "0393045218",
         "The Mummies of Urumchi",
         "E. J. W. Barber",
         "1999",
         "W. W. Norton &amp; Company",
         "http://images.amazon.com/images/P/0393045218.01.THUMBZZZ.jpg",
         "http://images.amazon.com/images/P/0393045218.01.MZZZZZZZ.jpg",
         "http://images.amazon.com/images/P/0393045218.01.LZZZZZZZ.jpg"
        ],
        [
         "5",
         "0399135782",
         "The Kitchen God's Wife",
         "Amy Tan",
         "1991",
         "Putnam Pub Group",
         "http://images.amazon.com/images/P/0399135782.01.THUMBZZZ.jpg",
         "http://images.amazon.com/images/P/0399135782.01.MZZZZZZZ.jpg",
         "http://images.amazon.com/images/P/0399135782.01.LZZZZZZZ.jpg"
        ],
        [
         "6",
         "0425176428",
         "What If?: The World's Foremost Military Historians Imagine What Might Have Been",
         "Robert Cowley",
         "2000",
         "Berkley Publishing Group",
         "http://images.amazon.com/images/P/0425176428.01.THUMBZZZ.jpg",
         "http://images.amazon.com/images/P/0425176428.01.MZZZZZZZ.jpg",
         "http://images.amazon.com/images/P/0425176428.01.LZZZZZZZ.jpg"
        ],
        [
         "7",
         "0671870432",
         "PLEADING GUILTY",
         "Scott Turow",
         "1993",
         "Audioworks",
         "http://images.amazon.com/images/P/0671870432.01.THUMBZZZ.jpg",
         "http://images.amazon.com/images/P/0671870432.01.MZZZZZZZ.jpg",
         "http://images.amazon.com/images/P/0671870432.01.LZZZZZZZ.jpg"
        ],
        [
         "8",
         "0679425608",
         "Under the Black Flag: The Romance and the Reality of Life Among the Pirates",
         "David Cordingly",
         "1996",
         "Random House",
         "http://images.amazon.com/images/P/0679425608.01.THUMBZZZ.jpg",
         "http://images.amazon.com/images/P/0679425608.01.MZZZZZZZ.jpg",
         "http://images.amazon.com/images/P/0679425608.01.LZZZZZZZ.jpg"
        ],
        [
         "9",
         "074322678X",
         "Where You'll Find Me: And Other Stories",
         "Ann Beattie",
         "2002",
         "Scribner",
         "http://images.amazon.com/images/P/074322678X.01.THUMBZZZ.jpg",
         "http://images.amazon.com/images/P/074322678X.01.MZZZZZZZ.jpg",
         "http://images.amazon.com/images/P/074322678X.01.LZZZZZZZ.jpg"
        ],
        [
         "10",
         "0771074670",
         "Nights Below Station Street",
         "David Adams Richards",
         "1988",
         "Emblem Editions",
         "http://images.amazon.com/images/P/0771074670.01.THUMBZZZ.jpg",
         "http://images.amazon.com/images/P/0771074670.01.MZZZZZZZ.jpg",
         "http://images.amazon.com/images/P/0771074670.01.LZZZZZZZ.jpg"
        ],
        [
         "11",
         "080652121X",
         "Hitler's Secret Bankers: The Myth of Swiss Neutrality During the Holocaust",
         "Adam Lebor",
         "2000",
         "Citadel Press",
         "http://images.amazon.com/images/P/080652121X.01.THUMBZZZ.jpg",
         "http://images.amazon.com/images/P/080652121X.01.MZZZZZZZ.jpg",
         "http://images.amazon.com/images/P/080652121X.01.LZZZZZZZ.jpg"
        ],
        [
         "12",
         "0887841740",
         "The Middle Stories",
         "Sheila Heti",
         "2004",
         "House of Anansi Press",
         "http://images.amazon.com/images/P/0887841740.01.THUMBZZZ.jpg",
         "http://images.amazon.com/images/P/0887841740.01.MZZZZZZZ.jpg",
         "http://images.amazon.com/images/P/0887841740.01.LZZZZZZZ.jpg"
        ],
        [
         "13",
         "1552041778",
         "Jane Doe",
         "R. J. Kaiser",
         "1999",
         "Mira Books",
         "http://images.amazon.com/images/P/1552041778.01.THUMBZZZ.jpg",
         "http://images.amazon.com/images/P/1552041778.01.MZZZZZZZ.jpg",
         "http://images.amazon.com/images/P/1552041778.01.LZZZZZZZ.jpg"
        ],
        [
         "14",
         "1558746218",
         "A Second Chicken Soup for the Woman's Soul (Chicken Soup for the Soul Series)",
         "Jack Canfield",
         "1998",
         "Health Communications",
         "http://images.amazon.com/images/P/1558746218.01.THUMBZZZ.jpg",
         "http://images.amazon.com/images/P/1558746218.01.MZZZZZZZ.jpg",
         "http://images.amazon.com/images/P/1558746218.01.LZZZZZZZ.jpg"
        ],
        [
         "15",
         "1567407781",
         "The Witchfinder (Amos Walker Mystery Series)",
         "Loren D. Estleman",
         "1998",
         "Brilliance Audio - Trade",
         "http://images.amazon.com/images/P/1567407781.01.THUMBZZZ.jpg",
         "http://images.amazon.com/images/P/1567407781.01.MZZZZZZZ.jpg",
         "http://images.amazon.com/images/P/1567407781.01.LZZZZZZZ.jpg"
        ],
        [
         "16",
         "1575663937",
         "More Cunning Than Man: A Social History of Rats and Man",
         "Robert Hendrickson",
         "1999",
         "Kensington Publishing Corp.",
         "http://images.amazon.com/images/P/1575663937.01.THUMBZZZ.jpg",
         "http://images.amazon.com/images/P/1575663937.01.MZZZZZZZ.jpg",
         "http://images.amazon.com/images/P/1575663937.01.LZZZZZZZ.jpg"
        ],
        [
         "17",
         "1881320189",
         "Goodbye to the Buttermilk Sky",
         "Julia Oliver",
         "1994",
         "River City Pub",
         "http://images.amazon.com/images/P/1881320189.01.THUMBZZZ.jpg",
         "http://images.amazon.com/images/P/1881320189.01.MZZZZZZZ.jpg",
         "http://images.amazon.com/images/P/1881320189.01.LZZZZZZZ.jpg"
        ],
        [
         "18",
         "0440234743",
         "The Testament",
         "John Grisham",
         "1999",
         "Dell",
         "http://images.amazon.com/images/P/0440234743.01.THUMBZZZ.jpg",
         "http://images.amazon.com/images/P/0440234743.01.MZZZZZZZ.jpg",
         "http://images.amazon.com/images/P/0440234743.01.LZZZZZZZ.jpg"
        ],
        [
         "19",
         "0452264464",
         "Beloved (Plume Contemporary Fiction)",
         "Toni Morrison",
         "1994",
         "Plume",
         "http://images.amazon.com/images/P/0452264464.01.THUMBZZZ.jpg",
         "http://images.amazon.com/images/P/0452264464.01.MZZZZZZZ.jpg",
         "http://images.amazon.com/images/P/0452264464.01.LZZZZZZZ.jpg"
        ],
        [
         "20",
         "0609804618",
         "Our Dumb Century: The Onion Presents 100 Years of Headlines from America's Finest News Source",
         "The Onion",
         "1999",
         "Three Rivers Press",
         "http://images.amazon.com/images/P/0609804618.01.THUMBZZZ.jpg",
         "http://images.amazon.com/images/P/0609804618.01.MZZZZZZZ.jpg",
         "http://images.amazon.com/images/P/0609804618.01.LZZZZZZZ.jpg"
        ],
        [
         "21",
         "1841721522",
         "New Vegetarian: Bold and Beautiful Recipes for Every Occasion",
         "Celia Brooks Brown",
         "2001",
         "Ryland Peters &amp; Small Ltd",
         "http://images.amazon.com/images/P/1841721522.01.THUMBZZZ.jpg",
         "http://images.amazon.com/images/P/1841721522.01.MZZZZZZZ.jpg",
         "http://images.amazon.com/images/P/1841721522.01.LZZZZZZZ.jpg"
        ],
        [
         "22",
         "1879384493",
         "If I'd Known Then What I Know Now: Why Not Learn from the Mistakes of Others? : You Can't Afford to Make Them All Yourself",
         "J. R. Parrish",
         "2003",
         "Cypress House",
         "http://images.amazon.com/images/P/1879384493.01.THUMBZZZ.jpg",
         "http://images.amazon.com/images/P/1879384493.01.MZZZZZZZ.jpg",
         "http://images.amazon.com/images/P/1879384493.01.LZZZZZZZ.jpg"
        ],
        [
         "23",
         "0061076031",
         "Mary-Kate &amp; Ashley Switching Goals (Mary-Kate and Ashley Starring in)",
         "Mary-Kate &amp; Ashley Olsen",
         "2000",
         "HarperEntertainment",
         "http://images.amazon.com/images/P/0061076031.01.THUMBZZZ.jpg",
         "http://images.amazon.com/images/P/0061076031.01.MZZZZZZZ.jpg",
         "http://images.amazon.com/images/P/0061076031.01.LZZZZZZZ.jpg"
        ],
        [
         "24",
         "0439095026",
         "Tell Me This Isn't Happening",
         "Robynn Clairday",
         "1999",
         "Scholastic",
         "http://images.amazon.com/images/P/0439095026.01.THUMBZZZ.jpg",
         "http://images.amazon.com/images/P/0439095026.01.MZZZZZZZ.jpg",
         "http://images.amazon.com/images/P/0439095026.01.LZZZZZZZ.jpg"
        ],
        [
         "25",
         "0689821166",
         "Flood : Mississippi 1927",
         "Kathleen Duey",
         "1998",
         "Aladdin",
         "http://images.amazon.com/images/P/0689821166.01.THUMBZZZ.jpg",
         "http://images.amazon.com/images/P/0689821166.01.MZZZZZZZ.jpg",
         "http://images.amazon.com/images/P/0689821166.01.LZZZZZZZ.jpg"
        ],
        [
         "26",
         "0971880107",
         "Wild Animus",
         "Rich Shapero",
         "2004",
         "Too Far",
         "http://images.amazon.com/images/P/0971880107.01.THUMBZZZ.jpg",
         "http://images.amazon.com/images/P/0971880107.01.MZZZZZZZ.jpg",
         "http://images.amazon.com/images/P/0971880107.01.LZZZZZZZ.jpg"
        ],
        [
         "27",
         "0345402871",
         "Airframe",
         "Michael Crichton",
         "1997",
         "Ballantine Books",
         "http://images.amazon.com/images/P/0345402871.01.THUMBZZZ.jpg",
         "http://images.amazon.com/images/P/0345402871.01.MZZZZZZZ.jpg",
         "http://images.amazon.com/images/P/0345402871.01.LZZZZZZZ.jpg"
        ],
        [
         "28",
         "0345417623",
         "Timeline",
         "MICHAEL CRICHTON",
         "2000",
         "Ballantine Books",
         "http://images.amazon.com/images/P/0345417623.01.THUMBZZZ.jpg",
         "http://images.amazon.com/images/P/0345417623.01.MZZZZZZZ.jpg",
         "http://images.amazon.com/images/P/0345417623.01.LZZZZZZZ.jpg"
        ],
        [
         "29",
         "0684823802",
         "OUT OF THE SILENT PLANET",
         "C.S. Lewis",
         "1996",
         "Scribner",
         "http://images.amazon.com/images/P/0684823802.01.THUMBZZZ.jpg",
         "http://images.amazon.com/images/P/0684823802.01.MZZZZZZZ.jpg",
         "http://images.amazon.com/images/P/0684823802.01.LZZZZZZZ.jpg"
        ],
        [
         "30",
         "0375759778",
         "Prague : A Novel",
         "ARTHUR PHILLIPS",
         "2003",
         "Random House Trade Paperbacks",
         "http://images.amazon.com/images/P/0375759778.01.THUMBZZZ.jpg",
         "http://images.amazon.com/images/P/0375759778.01.MZZZZZZZ.jpg",
         "http://images.amazon.com/images/P/0375759778.01.LZZZZZZZ.jpg"
        ],
        [
         "31",
         "0425163091",
         "Chocolate Jesus",
         "Stephan Jaramillo",
         "1998",
         "Berkley Publishing Group",
         "http://images.amazon.com/images/P/0425163091.01.THUMBZZZ.jpg",
         "http://images.amazon.com/images/P/0425163091.01.MZZZZZZZ.jpg",
         "http://images.amazon.com/images/P/0425163091.01.LZZZZZZZ.jpg"
        ],
        [
         "32",
         "3404921038",
         "Wie Barney es sieht.",
         "Mordecai Richler",
         "2002",
         "LÃ?Â¼bbe",
         "http://images.amazon.com/images/P/3404921038.01.THUMBZZZ.jpg",
         "http://images.amazon.com/images/P/3404921038.01.MZZZZZZZ.jpg",
         "http://images.amazon.com/images/P/3404921038.01.LZZZZZZZ.jpg"
        ],
        [
         "33",
         "3442353866",
         "Der Fluch der Kaiserin. Ein Richter- Di- Roman.",
         "Eleanor Cooney",
         "2001",
         "Goldmann",
         "http://images.amazon.com/images/P/3442353866.01.THUMBZZZ.jpg",
         "http://images.amazon.com/images/P/3442353866.01.MZZZZZZZ.jpg",
         "http://images.amazon.com/images/P/3442353866.01.LZZZZZZZ.jpg"
        ],
        [
         "34",
         "3442410665",
         "Sturmzeit. Roman.",
         "Charlotte Link",
         "1991",
         "Goldmann",
         "http://images.amazon.com/images/P/3442410665.01.THUMBZZZ.jpg",
         "http://images.amazon.com/images/P/3442410665.01.MZZZZZZZ.jpg",
         "http://images.amazon.com/images/P/3442410665.01.LZZZZZZZ.jpg"
        ],
        [
         "35",
         "3442446937",
         "Tage der Unschuld.",
         "Richard North Patterson",
         "2000",
         "Goldmann",
         "http://images.amazon.com/images/P/3442446937.01.THUMBZZZ.jpg",
         "http://images.amazon.com/images/P/3442446937.01.MZZZZZZZ.jpg",
         "http://images.amazon.com/images/P/3442446937.01.LZZZZZZZ.jpg"
        ],
        [
         "36",
         "0375406328",
         "Lying Awake",
         "Mark Salzman",
         "2000",
         "Alfred A. Knopf",
         "http://images.amazon.com/images/P/0375406328.01.THUMBZZZ.jpg",
         "http://images.amazon.com/images/P/0375406328.01.MZZZZZZZ.jpg",
         "http://images.amazon.com/images/P/0375406328.01.LZZZZZZZ.jpg"
        ],
        [
         "37",
         "0446310786",
         "To Kill a Mockingbird",
         "Harper Lee",
         "1988",
         "Little Brown &amp; Company",
         "http://images.amazon.com/images/P/0446310786.01.THUMBZZZ.jpg",
         "http://images.amazon.com/images/P/0446310786.01.MZZZZZZZ.jpg",
         "http://images.amazon.com/images/P/0446310786.01.LZZZZZZZ.jpg"
        ],
        [
         "38",
         "0449005615",
         "Seabiscuit: An American Legend",
         "LAURA HILLENBRAND",
         "2002",
         "Ballantine Books",
         "http://images.amazon.com/images/P/0449005615.01.THUMBZZZ.jpg",
         "http://images.amazon.com/images/P/0449005615.01.MZZZZZZZ.jpg",
         "http://images.amazon.com/images/P/0449005615.01.LZZZZZZZ.jpg"
        ],
        [
         "39",
         "0060168013",
         "Pigs in Heaven",
         "Barbara Kingsolver",
         "1993",
         "Harpercollins",
         "http://images.amazon.com/images/P/0060168013.01.THUMBZZZ.jpg",
         "http://images.amazon.com/images/P/0060168013.01.MZZZZZZZ.jpg",
         "http://images.amazon.com/images/P/0060168013.01.LZZZZZZZ.jpg"
        ],
        [
         "40",
         "038078243X",
         "Miss Zukas and the Raven's Dance",
         "Jo Dereske",
         "1996",
         "Avon",
         "http://images.amazon.com/images/P/038078243X.01.THUMBZZZ.jpg",
         "http://images.amazon.com/images/P/038078243X.01.MZZZZZZZ.jpg",
         "http://images.amazon.com/images/P/038078243X.01.LZZZZZZZ.jpg"
        ],
        [
         "41",
         "055321215X",
         "Pride and Prejudice",
         "Jane Austen",
         "1983",
         "Bantam",
         "http://images.amazon.com/images/P/055321215X.01.THUMBZZZ.jpg",
         "http://images.amazon.com/images/P/055321215X.01.MZZZZZZZ.jpg",
         "http://images.amazon.com/images/P/055321215X.01.LZZZZZZZ.jpg"
        ],
        [
         "42",
         "067176537X",
         "The Therapeutic Touch: How to Use Your Hands to Help or to Heal",
         "Dolores Krieger",
         "1979",
         "Fireside",
         "http://images.amazon.com/images/P/067176537X.01.THUMBZZZ.jpg",
         "http://images.amazon.com/images/P/067176537X.01.MZZZZZZZ.jpg",
         "http://images.amazon.com/images/P/067176537X.01.LZZZZZZZ.jpg"
        ],
        [
         "43",
         "0061099686",
         "Downtown",
         "Anne Rivers Siddons",
         "1995",
         "HarperTorch",
         "http://images.amazon.com/images/P/0061099686.01.THUMBZZZ.jpg",
         "http://images.amazon.com/images/P/0061099686.01.MZZZZZZZ.jpg",
         "http://images.amazon.com/images/P/0061099686.01.LZZZZZZZ.jpg"
        ],
        [
         "44",
         "0553582909",
         "Icebound",
         "Dean R. Koontz",
         "2000",
         "Bantam Books",
         "http://images.amazon.com/images/P/0553582909.01.THUMBZZZ.jpg",
         "http://images.amazon.com/images/P/0553582909.01.MZZZZZZZ.jpg",
         "http://images.amazon.com/images/P/0553582909.01.LZZZZZZZ.jpg"
        ],
        [
         "45",
         "0671888587",
         "I'll Be Seeing You",
         "Mary Higgins Clark",
         "1994",
         "Pocket",
         "http://images.amazon.com/images/P/0671888587.01.THUMBZZZ.jpg",
         "http://images.amazon.com/images/P/0671888587.01.MZZZZZZZ.jpg",
         "http://images.amazon.com/images/P/0671888587.01.LZZZZZZZ.jpg"
        ],
        [
         "46",
         "0553582747",
         "From the Corner of His Eye",
         "Dean Koontz",
         "2001",
         "Bantam Books",
         "http://images.amazon.com/images/P/0553582747.01.THUMBZZZ.jpg",
         "http://images.amazon.com/images/P/0553582747.01.MZZZZZZZ.jpg",
         "http://images.amazon.com/images/P/0553582747.01.LZZZZZZZ.jpg"
        ],
        [
         "47",
         "0425182908",
         "Isle of Dogs",
         "Patricia Cornwell",
         "2002",
         "Berkley Publishing Group",
         "http://images.amazon.com/images/P/0425182908.01.THUMBZZZ.jpg",
         "http://images.amazon.com/images/P/0425182908.01.MZZZZZZZ.jpg",
         "http://images.amazon.com/images/P/0425182908.01.LZZZZZZZ.jpg"
        ],
        [
         "48",
         "042518630X",
         "Purity in Death",
         "J.D. Robb",
         "2002",
         "Berkley Publishing Group",
         "http://images.amazon.com/images/P/042518630X.01.THUMBZZZ.jpg",
         "http://images.amazon.com/images/P/042518630X.01.MZZZZZZZ.jpg",
         "http://images.amazon.com/images/P/042518630X.01.LZZZZZZZ.jpg"
        ],
        [
         "49",
         "0440223571",
         "This Year It Will Be Different: And Other Stories",
         "Maeve Binchy",
         "1997",
         "Dell",
         "http://images.amazon.com/images/P/0440223571.01.THUMBZZZ.jpg",
         "http://images.amazon.com/images/P/0440223571.01.MZZZZZZZ.jpg",
         "http://images.amazon.com/images/P/0440223571.01.LZZZZZZZ.jpg"
        ]
       ],
       "shape": {
        "columns": 8,
        "rows": 271360
       }
      },
      "text/html": [
       "<div>\n",
       "<style scoped>\n",
       "    .dataframe tbody tr th:only-of-type {\n",
       "        vertical-align: middle;\n",
       "    }\n",
       "\n",
       "    .dataframe tbody tr th {\n",
       "        vertical-align: top;\n",
       "    }\n",
       "\n",
       "    .dataframe thead th {\n",
       "        text-align: right;\n",
       "    }\n",
       "</style>\n",
       "<table border=\"1\" class=\"dataframe\">\n",
       "  <thead>\n",
       "    <tr style=\"text-align: right;\">\n",
       "      <th></th>\n",
       "      <th>ISBN</th>\n",
       "      <th>Book-Title</th>\n",
       "      <th>Book-Author</th>\n",
       "      <th>Year-Of-Publication</th>\n",
       "      <th>Publisher</th>\n",
       "      <th>Image-URL-S</th>\n",
       "      <th>Image-URL-M</th>\n",
       "      <th>Image-URL-L</th>\n",
       "    </tr>\n",
       "  </thead>\n",
       "  <tbody>\n",
       "    <tr>\n",
       "      <th>0</th>\n",
       "      <td>0195153448</td>\n",
       "      <td>Classical Mythology</td>\n",
       "      <td>Mark P. O. Morford</td>\n",
       "      <td>2002</td>\n",
       "      <td>Oxford University Press</td>\n",
       "      <td>http://images.amazon.com/images/P/0195153448.0...</td>\n",
       "      <td>http://images.amazon.com/images/P/0195153448.0...</td>\n",
       "      <td>http://images.amazon.com/images/P/0195153448.0...</td>\n",
       "    </tr>\n",
       "    <tr>\n",
       "      <th>1</th>\n",
       "      <td>0002005018</td>\n",
       "      <td>Clara Callan</td>\n",
       "      <td>Richard Bruce Wright</td>\n",
       "      <td>2001</td>\n",
       "      <td>HarperFlamingo Canada</td>\n",
       "      <td>http://images.amazon.com/images/P/0002005018.0...</td>\n",
       "      <td>http://images.amazon.com/images/P/0002005018.0...</td>\n",
       "      <td>http://images.amazon.com/images/P/0002005018.0...</td>\n",
       "    </tr>\n",
       "    <tr>\n",
       "      <th>2</th>\n",
       "      <td>0060973129</td>\n",
       "      <td>Decision in Normandy</td>\n",
       "      <td>Carlo D'Este</td>\n",
       "      <td>1991</td>\n",
       "      <td>HarperPerennial</td>\n",
       "      <td>http://images.amazon.com/images/P/0060973129.0...</td>\n",
       "      <td>http://images.amazon.com/images/P/0060973129.0...</td>\n",
       "      <td>http://images.amazon.com/images/P/0060973129.0...</td>\n",
       "    </tr>\n",
       "    <tr>\n",
       "      <th>3</th>\n",
       "      <td>0374157065</td>\n",
       "      <td>Flu: The Story of the Great Influenza Pandemic...</td>\n",
       "      <td>Gina Bari Kolata</td>\n",
       "      <td>1999</td>\n",
       "      <td>Farrar Straus Giroux</td>\n",
       "      <td>http://images.amazon.com/images/P/0374157065.0...</td>\n",
       "      <td>http://images.amazon.com/images/P/0374157065.0...</td>\n",
       "      <td>http://images.amazon.com/images/P/0374157065.0...</td>\n",
       "    </tr>\n",
       "    <tr>\n",
       "      <th>4</th>\n",
       "      <td>0393045218</td>\n",
       "      <td>The Mummies of Urumchi</td>\n",
       "      <td>E. J. W. Barber</td>\n",
       "      <td>1999</td>\n",
       "      <td>W. W. Norton &amp;amp; Company</td>\n",
       "      <td>http://images.amazon.com/images/P/0393045218.0...</td>\n",
       "      <td>http://images.amazon.com/images/P/0393045218.0...</td>\n",
       "      <td>http://images.amazon.com/images/P/0393045218.0...</td>\n",
       "    </tr>\n",
       "    <tr>\n",
       "      <th>...</th>\n",
       "      <td>...</td>\n",
       "      <td>...</td>\n",
       "      <td>...</td>\n",
       "      <td>...</td>\n",
       "      <td>...</td>\n",
       "      <td>...</td>\n",
       "      <td>...</td>\n",
       "      <td>...</td>\n",
       "    </tr>\n",
       "    <tr>\n",
       "      <th>271355</th>\n",
       "      <td>0440400988</td>\n",
       "      <td>There's a Bat in Bunk Five</td>\n",
       "      <td>Paula Danziger</td>\n",
       "      <td>1988</td>\n",
       "      <td>Random House Childrens Pub (Mm)</td>\n",
       "      <td>http://images.amazon.com/images/P/0440400988.0...</td>\n",
       "      <td>http://images.amazon.com/images/P/0440400988.0...</td>\n",
       "      <td>http://images.amazon.com/images/P/0440400988.0...</td>\n",
       "    </tr>\n",
       "    <tr>\n",
       "      <th>271356</th>\n",
       "      <td>0525447644</td>\n",
       "      <td>From One to One Hundred</td>\n",
       "      <td>Teri Sloat</td>\n",
       "      <td>1991</td>\n",
       "      <td>Dutton Books</td>\n",
       "      <td>http://images.amazon.com/images/P/0525447644.0...</td>\n",
       "      <td>http://images.amazon.com/images/P/0525447644.0...</td>\n",
       "      <td>http://images.amazon.com/images/P/0525447644.0...</td>\n",
       "    </tr>\n",
       "    <tr>\n",
       "      <th>271357</th>\n",
       "      <td>006008667X</td>\n",
       "      <td>Lily Dale : The True Story of the Town that Ta...</td>\n",
       "      <td>Christine Wicker</td>\n",
       "      <td>2004</td>\n",
       "      <td>HarperSanFrancisco</td>\n",
       "      <td>http://images.amazon.com/images/P/006008667X.0...</td>\n",
       "      <td>http://images.amazon.com/images/P/006008667X.0...</td>\n",
       "      <td>http://images.amazon.com/images/P/006008667X.0...</td>\n",
       "    </tr>\n",
       "    <tr>\n",
       "      <th>271358</th>\n",
       "      <td>0192126040</td>\n",
       "      <td>Republic (World's Classics)</td>\n",
       "      <td>Plato</td>\n",
       "      <td>1996</td>\n",
       "      <td>Oxford University Press</td>\n",
       "      <td>http://images.amazon.com/images/P/0192126040.0...</td>\n",
       "      <td>http://images.amazon.com/images/P/0192126040.0...</td>\n",
       "      <td>http://images.amazon.com/images/P/0192126040.0...</td>\n",
       "    </tr>\n",
       "    <tr>\n",
       "      <th>271359</th>\n",
       "      <td>0767409752</td>\n",
       "      <td>A Guided Tour of Rene Descartes' Meditations o...</td>\n",
       "      <td>Christopher  Biffle</td>\n",
       "      <td>2000</td>\n",
       "      <td>McGraw-Hill Humanities/Social Sciences/Languages</td>\n",
       "      <td>http://images.amazon.com/images/P/0767409752.0...</td>\n",
       "      <td>http://images.amazon.com/images/P/0767409752.0...</td>\n",
       "      <td>http://images.amazon.com/images/P/0767409752.0...</td>\n",
       "    </tr>\n",
       "  </tbody>\n",
       "</table>\n",
       "<p>271360 rows × 8 columns</p>\n",
       "</div>"
      ],
      "text/plain": [
       "              ISBN                                         Book-Title  \\\n",
       "0       0195153448                                Classical Mythology   \n",
       "1       0002005018                                       Clara Callan   \n",
       "2       0060973129                               Decision in Normandy   \n",
       "3       0374157065  Flu: The Story of the Great Influenza Pandemic...   \n",
       "4       0393045218                             The Mummies of Urumchi   \n",
       "...            ...                                                ...   \n",
       "271355  0440400988                         There's a Bat in Bunk Five   \n",
       "271356  0525447644                            From One to One Hundred   \n",
       "271357  006008667X  Lily Dale : The True Story of the Town that Ta...   \n",
       "271358  0192126040                        Republic (World's Classics)   \n",
       "271359  0767409752  A Guided Tour of Rene Descartes' Meditations o...   \n",
       "\n",
       "                 Book-Author Year-Of-Publication  \\\n",
       "0         Mark P. O. Morford                2002   \n",
       "1       Richard Bruce Wright                2001   \n",
       "2               Carlo D'Este                1991   \n",
       "3           Gina Bari Kolata                1999   \n",
       "4            E. J. W. Barber                1999   \n",
       "...                      ...                 ...   \n",
       "271355        Paula Danziger                1988   \n",
       "271356            Teri Sloat                1991   \n",
       "271357      Christine Wicker                2004   \n",
       "271358                 Plato                1996   \n",
       "271359   Christopher  Biffle                2000   \n",
       "\n",
       "                                               Publisher  \\\n",
       "0                                Oxford University Press   \n",
       "1                                  HarperFlamingo Canada   \n",
       "2                                        HarperPerennial   \n",
       "3                                   Farrar Straus Giroux   \n",
       "4                             W. W. Norton &amp; Company   \n",
       "...                                                  ...   \n",
       "271355                   Random House Childrens Pub (Mm)   \n",
       "271356                                      Dutton Books   \n",
       "271357                                HarperSanFrancisco   \n",
       "271358                           Oxford University Press   \n",
       "271359  McGraw-Hill Humanities/Social Sciences/Languages   \n",
       "\n",
       "                                              Image-URL-S  \\\n",
       "0       http://images.amazon.com/images/P/0195153448.0...   \n",
       "1       http://images.amazon.com/images/P/0002005018.0...   \n",
       "2       http://images.amazon.com/images/P/0060973129.0...   \n",
       "3       http://images.amazon.com/images/P/0374157065.0...   \n",
       "4       http://images.amazon.com/images/P/0393045218.0...   \n",
       "...                                                   ...   \n",
       "271355  http://images.amazon.com/images/P/0440400988.0...   \n",
       "271356  http://images.amazon.com/images/P/0525447644.0...   \n",
       "271357  http://images.amazon.com/images/P/006008667X.0...   \n",
       "271358  http://images.amazon.com/images/P/0192126040.0...   \n",
       "271359  http://images.amazon.com/images/P/0767409752.0...   \n",
       "\n",
       "                                              Image-URL-M  \\\n",
       "0       http://images.amazon.com/images/P/0195153448.0...   \n",
       "1       http://images.amazon.com/images/P/0002005018.0...   \n",
       "2       http://images.amazon.com/images/P/0060973129.0...   \n",
       "3       http://images.amazon.com/images/P/0374157065.0...   \n",
       "4       http://images.amazon.com/images/P/0393045218.0...   \n",
       "...                                                   ...   \n",
       "271355  http://images.amazon.com/images/P/0440400988.0...   \n",
       "271356  http://images.amazon.com/images/P/0525447644.0...   \n",
       "271357  http://images.amazon.com/images/P/006008667X.0...   \n",
       "271358  http://images.amazon.com/images/P/0192126040.0...   \n",
       "271359  http://images.amazon.com/images/P/0767409752.0...   \n",
       "\n",
       "                                              Image-URL-L  \n",
       "0       http://images.amazon.com/images/P/0195153448.0...  \n",
       "1       http://images.amazon.com/images/P/0002005018.0...  \n",
       "2       http://images.amazon.com/images/P/0060973129.0...  \n",
       "3       http://images.amazon.com/images/P/0374157065.0...  \n",
       "4       http://images.amazon.com/images/P/0393045218.0...  \n",
       "...                                                   ...  \n",
       "271355  http://images.amazon.com/images/P/0440400988.0...  \n",
       "271356  http://images.amazon.com/images/P/0525447644.0...  \n",
       "271357  http://images.amazon.com/images/P/006008667X.0...  \n",
       "271358  http://images.amazon.com/images/P/0192126040.0...  \n",
       "271359  http://images.amazon.com/images/P/0767409752.0...  \n",
       "\n",
       "[271360 rows x 8 columns]"
      ]
     },
     "execution_count": 4,
     "metadata": {},
     "output_type": "execute_result"
    }
   ],
   "source": [
    "books"
   ]
  },
  {
   "cell_type": "code",
   "execution_count": 5,
   "id": "f3fb120d",
   "metadata": {},
   "outputs": [
    {
     "data": {
      "application/vnd.microsoft.datawrangler.viewer.v0+json": {
       "columns": [
        {
         "name": "index",
         "rawType": "int64",
         "type": "integer"
        },
        {
         "name": "User-ID",
         "rawType": "int64",
         "type": "integer"
        },
        {
         "name": "Location",
         "rawType": "object",
         "type": "string"
        },
        {
         "name": "Age",
         "rawType": "float64",
         "type": "float"
        }
       ],
       "ref": "902eea7c-4084-4eff-beb7-f0defbd9d910",
       "rows": [
        [
         "0",
         "1",
         "nyc, new york, usa",
         null
        ],
        [
         "1",
         "2",
         "stockton, california, usa",
         "18.0"
        ],
        [
         "2",
         "3",
         "moscow, yukon territory, russia",
         null
        ],
        [
         "3",
         "4",
         "porto, v.n.gaia, portugal",
         "17.0"
        ],
        [
         "4",
         "5",
         "farnborough, hants, united kingdom",
         null
        ],
        [
         "5",
         "6",
         "santa monica, california, usa",
         "61.0"
        ],
        [
         "6",
         "7",
         "washington, dc, usa",
         null
        ],
        [
         "7",
         "8",
         "timmins, ontario, canada",
         null
        ],
        [
         "8",
         "9",
         "germantown, tennessee, usa",
         null
        ],
        [
         "9",
         "10",
         "albacete, wisconsin, spain",
         "26.0"
        ],
        [
         "10",
         "11",
         "melbourne, victoria, australia",
         "14.0"
        ],
        [
         "11",
         "12",
         "fort bragg, california, usa",
         null
        ],
        [
         "12",
         "13",
         "barcelona, barcelona, spain",
         "26.0"
        ],
        [
         "13",
         "14",
         "mediapolis, iowa, usa",
         null
        ],
        [
         "14",
         "15",
         "calgary, alberta, canada",
         null
        ],
        [
         "15",
         "16",
         "albuquerque, new mexico, usa",
         null
        ],
        [
         "16",
         "17",
         "chesapeake, virginia, usa",
         null
        ],
        [
         "17",
         "18",
         "rio de janeiro, rio de janeiro, brazil",
         "25.0"
        ],
        [
         "18",
         "19",
         "weston, ,",
         "14.0"
        ],
        [
         "19",
         "20",
         "langhorne, pennsylvania, usa",
         "19.0"
        ],
        [
         "20",
         "21",
         "ferrol / spain, alabama, spain",
         "46.0"
        ],
        [
         "21",
         "22",
         "erfurt, thueringen, germany",
         null
        ],
        [
         "22",
         "23",
         "philadelphia, pennsylvania, usa",
         null
        ],
        [
         "23",
         "24",
         "cologne, nrw, germany",
         "19.0"
        ],
        [
         "24",
         "25",
         "oakland, california, usa",
         "55.0"
        ],
        [
         "25",
         "26",
         "bellevue, washington, usa",
         null
        ],
        [
         "26",
         "27",
         "chicago, illinois, usa",
         "32.0"
        ],
        [
         "27",
         "28",
         "freiburg, baden-wuerttemberg, germany",
         "24.0"
        ],
        [
         "28",
         "29",
         "cuernavaca, alabama, mexico",
         "19.0"
        ],
        [
         "29",
         "30",
         "anchorage, alaska, usa",
         "24.0"
        ],
        [
         "30",
         "31",
         "shanghai, n/a, china",
         "20.0"
        ],
        [
         "31",
         "32",
         "portland, oregon, usa",
         null
        ],
        [
         "32",
         "33",
         "costa mesa, california, usa",
         "34.0"
        ],
        [
         "33",
         "34",
         "london, england, united kingdom",
         null
        ],
        [
         "34",
         "35",
         "grafton, wisconsin, usa",
         "17.0"
        ],
        [
         "35",
         "36",
         "montreal, quebec, canada",
         "24.0"
        ],
        [
         "36",
         "37",
         "san sebastian, n/a, spain",
         "23.0"
        ],
        [
         "37",
         "38",
         "viterbo, lazio, italy",
         "34.0"
        ],
        [
         "38",
         "39",
         "cary, north carolina, usa",
         null
        ],
        [
         "39",
         "40",
         "tonawanda, new york, usa",
         "32.0"
        ],
        [
         "40",
         "41",
         "santee, california, usa",
         "14.0"
        ],
        [
         "41",
         "42",
         "appleton, wisconsin, usa",
         "17.0"
        ],
        [
         "42",
         "43",
         "méxico, méxico city, distrito federal",
         null
        ],
        [
         "43",
         "44",
         "black mountain, north carolina, usa",
         "51.0"
        ],
        [
         "44",
         "45",
         "berlin, n/a, germany",
         null
        ],
        [
         "45",
         "46",
         "heidelberg, baden-wuerttemberg, germany",
         "31.0"
        ],
        [
         "46",
         "47",
         "vicenza, veneto, italy",
         "21.0"
        ],
        [
         "47",
         "48",
         "chicago, illinois, usa",
         null
        ],
        [
         "48",
         "49",
         "rome, rome, italy",
         null
        ],
        [
         "49",
         "50",
         "london, england, united kingdom",
         "17.0"
        ]
       ],
       "shape": {
        "columns": 3,
        "rows": 278858
       }
      },
      "text/html": [
       "<div>\n",
       "<style scoped>\n",
       "    .dataframe tbody tr th:only-of-type {\n",
       "        vertical-align: middle;\n",
       "    }\n",
       "\n",
       "    .dataframe tbody tr th {\n",
       "        vertical-align: top;\n",
       "    }\n",
       "\n",
       "    .dataframe thead th {\n",
       "        text-align: right;\n",
       "    }\n",
       "</style>\n",
       "<table border=\"1\" class=\"dataframe\">\n",
       "  <thead>\n",
       "    <tr style=\"text-align: right;\">\n",
       "      <th></th>\n",
       "      <th>User-ID</th>\n",
       "      <th>Location</th>\n",
       "      <th>Age</th>\n",
       "    </tr>\n",
       "  </thead>\n",
       "  <tbody>\n",
       "    <tr>\n",
       "      <th>0</th>\n",
       "      <td>1</td>\n",
       "      <td>nyc, new york, usa</td>\n",
       "      <td>NaN</td>\n",
       "    </tr>\n",
       "    <tr>\n",
       "      <th>1</th>\n",
       "      <td>2</td>\n",
       "      <td>stockton, california, usa</td>\n",
       "      <td>18.0</td>\n",
       "    </tr>\n",
       "    <tr>\n",
       "      <th>2</th>\n",
       "      <td>3</td>\n",
       "      <td>moscow, yukon territory, russia</td>\n",
       "      <td>NaN</td>\n",
       "    </tr>\n",
       "    <tr>\n",
       "      <th>3</th>\n",
       "      <td>4</td>\n",
       "      <td>porto, v.n.gaia, portugal</td>\n",
       "      <td>17.0</td>\n",
       "    </tr>\n",
       "    <tr>\n",
       "      <th>4</th>\n",
       "      <td>5</td>\n",
       "      <td>farnborough, hants, united kingdom</td>\n",
       "      <td>NaN</td>\n",
       "    </tr>\n",
       "    <tr>\n",
       "      <th>...</th>\n",
       "      <td>...</td>\n",
       "      <td>...</td>\n",
       "      <td>...</td>\n",
       "    </tr>\n",
       "    <tr>\n",
       "      <th>278853</th>\n",
       "      <td>278854</td>\n",
       "      <td>portland, oregon, usa</td>\n",
       "      <td>NaN</td>\n",
       "    </tr>\n",
       "    <tr>\n",
       "      <th>278854</th>\n",
       "      <td>278855</td>\n",
       "      <td>tacoma, washington, united kingdom</td>\n",
       "      <td>50.0</td>\n",
       "    </tr>\n",
       "    <tr>\n",
       "      <th>278855</th>\n",
       "      <td>278856</td>\n",
       "      <td>brampton, ontario, canada</td>\n",
       "      <td>NaN</td>\n",
       "    </tr>\n",
       "    <tr>\n",
       "      <th>278856</th>\n",
       "      <td>278857</td>\n",
       "      <td>knoxville, tennessee, usa</td>\n",
       "      <td>NaN</td>\n",
       "    </tr>\n",
       "    <tr>\n",
       "      <th>278857</th>\n",
       "      <td>278858</td>\n",
       "      <td>dublin, n/a, ireland</td>\n",
       "      <td>NaN</td>\n",
       "    </tr>\n",
       "  </tbody>\n",
       "</table>\n",
       "<p>278858 rows × 3 columns</p>\n",
       "</div>"
      ],
      "text/plain": [
       "        User-ID                            Location   Age\n",
       "0             1                  nyc, new york, usa   NaN\n",
       "1             2           stockton, california, usa  18.0\n",
       "2             3     moscow, yukon territory, russia   NaN\n",
       "3             4           porto, v.n.gaia, portugal  17.0\n",
       "4             5  farnborough, hants, united kingdom   NaN\n",
       "...         ...                                 ...   ...\n",
       "278853   278854               portland, oregon, usa   NaN\n",
       "278854   278855  tacoma, washington, united kingdom  50.0\n",
       "278855   278856           brampton, ontario, canada   NaN\n",
       "278856   278857           knoxville, tennessee, usa   NaN\n",
       "278857   278858                dublin, n/a, ireland   NaN\n",
       "\n",
       "[278858 rows x 3 columns]"
      ]
     },
     "execution_count": 5,
     "metadata": {},
     "output_type": "execute_result"
    }
   ],
   "source": [
    "users"
   ]
  },
  {
   "cell_type": "code",
   "execution_count": 6,
   "id": "87503c3c",
   "metadata": {},
   "outputs": [
    {
     "data": {
      "application/vnd.microsoft.datawrangler.viewer.v0+json": {
       "columns": [
        {
         "name": "index",
         "rawType": "int64",
         "type": "integer"
        },
        {
         "name": "User-ID",
         "rawType": "int64",
         "type": "integer"
        },
        {
         "name": "ISBN",
         "rawType": "object",
         "type": "string"
        },
        {
         "name": "Book-Rating",
         "rawType": "int64",
         "type": "integer"
        }
       ],
       "ref": "3049e201-d4d3-4fc8-96c5-ea866115b562",
       "rows": [
        [
         "0",
         "276725",
         "034545104X",
         "0"
        ],
        [
         "1",
         "276726",
         "0155061224",
         "5"
        ],
        [
         "2",
         "276727",
         "0446520802",
         "0"
        ],
        [
         "3",
         "276729",
         "052165615X",
         "3"
        ],
        [
         "4",
         "276729",
         "0521795028",
         "6"
        ],
        [
         "5",
         "276733",
         "2080674722",
         "0"
        ],
        [
         "6",
         "276736",
         "3257224281",
         "8"
        ],
        [
         "7",
         "276737",
         "0600570967",
         "6"
        ],
        [
         "8",
         "276744",
         "038550120X",
         "7"
        ],
        [
         "9",
         "276745",
         "342310538",
         "10"
        ],
        [
         "10",
         "276746",
         "0425115801",
         "0"
        ],
        [
         "11",
         "276746",
         "0449006522",
         "0"
        ],
        [
         "12",
         "276746",
         "0553561618",
         "0"
        ],
        [
         "13",
         "276746",
         "055356451X",
         "0"
        ],
        [
         "14",
         "276746",
         "0786013990",
         "0"
        ],
        [
         "15",
         "276746",
         "0786014512",
         "0"
        ],
        [
         "16",
         "276747",
         "0060517794",
         "9"
        ],
        [
         "17",
         "276747",
         "0451192001",
         "0"
        ],
        [
         "18",
         "276747",
         "0609801279",
         "0"
        ],
        [
         "19",
         "276747",
         "0671537458",
         "9"
        ],
        [
         "20",
         "276747",
         "0679776818",
         "8"
        ],
        [
         "21",
         "276747",
         "0943066433",
         "7"
        ],
        [
         "22",
         "276747",
         "1570231028",
         "0"
        ],
        [
         "23",
         "276747",
         "1885408226",
         "7"
        ],
        [
         "24",
         "276748",
         "0747558167",
         "6"
        ],
        [
         "25",
         "276748",
         "3442437407",
         "0"
        ],
        [
         "26",
         "276751",
         "033390804X",
         "0"
        ],
        [
         "27",
         "276751",
         "3596218098",
         "8"
        ],
        [
         "28",
         "276754",
         "0684867621",
         "8"
        ],
        [
         "29",
         "276755",
         "0451166892",
         "5"
        ],
        [
         "30",
         "276760",
         "8440682697",
         "10"
        ],
        [
         "31",
         "276762",
         "034544003X",
         "0"
        ],
        [
         "32",
         "276762",
         "0380000059",
         "0"
        ],
        [
         "33",
         "276762",
         "0380711524",
         "5"
        ],
        [
         "34",
         "276762",
         "0451167317",
         "0"
        ],
        [
         "35",
         "276762",
         "0451454952",
         "0"
        ],
        [
         "36",
         "276762",
         "0843920262",
         "0"
        ],
        [
         "37",
         "276762",
         "3404122879",
         "0"
        ],
        [
         "38",
         "276762",
         "3404182928",
         "0"
        ],
        [
         "39",
         "276762",
         "3404611306",
         "0"
        ],
        [
         "40",
         "276762",
         "342662429",
         "0"
        ],
        [
         "41",
         "276762",
         "3426690179",
         "0"
        ],
        [
         "42",
         "276762",
         "3442424216",
         "0"
        ],
        [
         "43",
         "276762",
         "3442425573",
         "0"
        ],
        [
         "44",
         "276762",
         "3453092007",
         "8"
        ],
        [
         "45",
         "276762",
         "3453157745",
         "0"
        ],
        [
         "46",
         "276762",
         "3453176944",
         "0"
        ],
        [
         "47",
         "276762",
         "3453185137",
         "0"
        ],
        [
         "48",
         "276762",
         "3453185323",
         "0"
        ],
        [
         "49",
         "276762",
         "3453213025",
         "3"
        ]
       ],
       "shape": {
        "columns": 3,
        "rows": 1149780
       }
      },
      "text/html": [
       "<div>\n",
       "<style scoped>\n",
       "    .dataframe tbody tr th:only-of-type {\n",
       "        vertical-align: middle;\n",
       "    }\n",
       "\n",
       "    .dataframe tbody tr th {\n",
       "        vertical-align: top;\n",
       "    }\n",
       "\n",
       "    .dataframe thead th {\n",
       "        text-align: right;\n",
       "    }\n",
       "</style>\n",
       "<table border=\"1\" class=\"dataframe\">\n",
       "  <thead>\n",
       "    <tr style=\"text-align: right;\">\n",
       "      <th></th>\n",
       "      <th>User-ID</th>\n",
       "      <th>ISBN</th>\n",
       "      <th>Book-Rating</th>\n",
       "    </tr>\n",
       "  </thead>\n",
       "  <tbody>\n",
       "    <tr>\n",
       "      <th>0</th>\n",
       "      <td>276725</td>\n",
       "      <td>034545104X</td>\n",
       "      <td>0</td>\n",
       "    </tr>\n",
       "    <tr>\n",
       "      <th>1</th>\n",
       "      <td>276726</td>\n",
       "      <td>0155061224</td>\n",
       "      <td>5</td>\n",
       "    </tr>\n",
       "    <tr>\n",
       "      <th>2</th>\n",
       "      <td>276727</td>\n",
       "      <td>0446520802</td>\n",
       "      <td>0</td>\n",
       "    </tr>\n",
       "    <tr>\n",
       "      <th>3</th>\n",
       "      <td>276729</td>\n",
       "      <td>052165615X</td>\n",
       "      <td>3</td>\n",
       "    </tr>\n",
       "    <tr>\n",
       "      <th>4</th>\n",
       "      <td>276729</td>\n",
       "      <td>0521795028</td>\n",
       "      <td>6</td>\n",
       "    </tr>\n",
       "    <tr>\n",
       "      <th>...</th>\n",
       "      <td>...</td>\n",
       "      <td>...</td>\n",
       "      <td>...</td>\n",
       "    </tr>\n",
       "    <tr>\n",
       "      <th>1149775</th>\n",
       "      <td>276704</td>\n",
       "      <td>1563526298</td>\n",
       "      <td>9</td>\n",
       "    </tr>\n",
       "    <tr>\n",
       "      <th>1149776</th>\n",
       "      <td>276706</td>\n",
       "      <td>0679447156</td>\n",
       "      <td>0</td>\n",
       "    </tr>\n",
       "    <tr>\n",
       "      <th>1149777</th>\n",
       "      <td>276709</td>\n",
       "      <td>0515107662</td>\n",
       "      <td>10</td>\n",
       "    </tr>\n",
       "    <tr>\n",
       "      <th>1149778</th>\n",
       "      <td>276721</td>\n",
       "      <td>0590442449</td>\n",
       "      <td>10</td>\n",
       "    </tr>\n",
       "    <tr>\n",
       "      <th>1149779</th>\n",
       "      <td>276723</td>\n",
       "      <td>05162443314</td>\n",
       "      <td>8</td>\n",
       "    </tr>\n",
       "  </tbody>\n",
       "</table>\n",
       "<p>1149780 rows × 3 columns</p>\n",
       "</div>"
      ],
      "text/plain": [
       "         User-ID         ISBN  Book-Rating\n",
       "0         276725   034545104X            0\n",
       "1         276726   0155061224            5\n",
       "2         276727   0446520802            0\n",
       "3         276729   052165615X            3\n",
       "4         276729   0521795028            6\n",
       "...          ...          ...          ...\n",
       "1149775   276704   1563526298            9\n",
       "1149776   276706   0679447156            0\n",
       "1149777   276709   0515107662           10\n",
       "1149778   276721   0590442449           10\n",
       "1149779   276723  05162443314            8\n",
       "\n",
       "[1149780 rows x 3 columns]"
      ]
     },
     "execution_count": 6,
     "metadata": {},
     "output_type": "execute_result"
    }
   ],
   "source": [
    "ratings"
   ]
  },
  {
   "cell_type": "code",
   "execution_count": 7,
   "id": "6c0855f9",
   "metadata": {},
   "outputs": [
    {
     "name": "stdout",
     "output_type": "stream",
     "text": [
      "Shape of Books Dataframe =  (271360, 8)\n",
      "Shape of Users Dataframe =  (278858, 3)\n",
      "Shape of Ratings Dataframe =  (1149780, 3)\n"
     ]
    }
   ],
   "source": [
    "print(\"Shape of Books Dataframe = \", books.shape)\n",
    "print(\"Shape of Users Dataframe = \", users.shape)\n",
    "print(\"Shape of Ratings Dataframe = \", ratings.shape)"
   ]
  },
  {
   "cell_type": "code",
   "execution_count": null,
   "id": "51118595",
   "metadata": {},
   "outputs": [],
   "source": []
  }
 ],
 "metadata": {
  "kernelspec": {
   "display_name": "env2",
   "language": "python",
   "name": "python3"
  },
  "language_info": {
   "codemirror_mode": {
    "name": "ipython",
    "version": 3
   },
   "file_extension": ".py",
   "mimetype": "text/x-python",
   "name": "python",
   "nbconvert_exporter": "python",
   "pygments_lexer": "ipython3",
   "version": "3.12.9"
  }
 },
 "nbformat": 4,
 "nbformat_minor": 5
}
