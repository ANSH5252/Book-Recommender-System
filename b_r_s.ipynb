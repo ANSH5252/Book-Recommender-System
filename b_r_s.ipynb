{
 "cells": [
  {
   "cell_type": "markdown",
   "id": "5d239ce9",
   "metadata": {},
   "source": [
    "# Book Recommender System"
   ]
  },
  {
   "cell_type": "markdown",
   "id": "1f73b16c",
   "metadata": {},
   "source": [
    "## Importing Necessary Libraries/Modules"
   ]
  },
  {
   "cell_type": "code",
   "execution_count": 2,
   "id": "8d587cb8",
   "metadata": {},
   "outputs": [],
   "source": [
    "import numpy as np\n",
    "import pandas as pd\n",
    "\n",
    "import warnings\n",
    "warnings.filterwarnings(\"ignore\")"
   ]
  },
  {
   "cell_type": "markdown",
   "id": "08ab1e94",
   "metadata": {},
   "source": [
    "## Loading the Datasets"
   ]
  },
  {
   "cell_type": "code",
   "execution_count": 3,
   "id": "c4435c20",
   "metadata": {},
   "outputs": [],
   "source": [
    "books = pd.read_csv('books.csv')\n",
    "users = pd.read_csv('users.csv')\n",
    "ratings = pd.read_csv('ratings.csv')"
   ]
  },
  {
   "cell_type": "markdown",
   "id": "a29ca970",
   "metadata": {},
   "source": [
    "## Investigating the Dataframes"
   ]
  },
  {
   "cell_type": "code",
   "execution_count": 4,
   "id": "620e2cba",
   "metadata": {},
   "outputs": [
    {
     "data": {
      "application/vnd.microsoft.datawrangler.viewer.v0+json": {
       "columns": [
        {
         "name": "index",
         "rawType": "int64",
         "type": "integer"
        },
        {
         "name": "ISBN",
         "rawType": "object",
         "type": "string"
        },
        {
         "name": "Book-Title",
         "rawType": "object",
         "type": "string"
        },
        {
         "name": "Book-Author",
         "rawType": "object",
         "type": "unknown"
        },
        {
         "name": "Year-Of-Publication",
         "rawType": "object",
         "type": "unknown"
        },
        {
         "name": "Publisher",
         "rawType": "object",
         "type": "unknown"
        },
        {
         "name": "Image-URL-S",
         "rawType": "object",
         "type": "string"
        },
        {
         "name": "Image-URL-M",
         "rawType": "object",
         "type": "string"
        },
        {
         "name": "Image-URL-L",
         "rawType": "object",
         "type": "unknown"
        }
       ],
       "ref": "4cd2023d-d25a-4002-b884-a85c465ed989",
       "rows": [
        [
         "0",
         "0195153448",
         "Classical Mythology",
         "Mark P. O. Morford",
         "2002",
         "Oxford University Press",
         "http://images.amazon.com/images/P/0195153448.01.THUMBZZZ.jpg",
         "http://images.amazon.com/images/P/0195153448.01.MZZZZZZZ.jpg",
         "http://images.amazon.com/images/P/0195153448.01.LZZZZZZZ.jpg"
        ],
        [
         "1",
         "0002005018",
         "Clara Callan",
         "Richard Bruce Wright",
         "2001",
         "HarperFlamingo Canada",
         "http://images.amazon.com/images/P/0002005018.01.THUMBZZZ.jpg",
         "http://images.amazon.com/images/P/0002005018.01.MZZZZZZZ.jpg",
         "http://images.amazon.com/images/P/0002005018.01.LZZZZZZZ.jpg"
        ],
        [
         "2",
         "0060973129",
         "Decision in Normandy",
         "Carlo D'Este",
         "1991",
         "HarperPerennial",
         "http://images.amazon.com/images/P/0060973129.01.THUMBZZZ.jpg",
         "http://images.amazon.com/images/P/0060973129.01.MZZZZZZZ.jpg",
         "http://images.amazon.com/images/P/0060973129.01.LZZZZZZZ.jpg"
        ],
        [
         "3",
         "0374157065",
         "Flu: The Story of the Great Influenza Pandemic of 1918 and the Search for the Virus That Caused It",
         "Gina Bari Kolata",
         "1999",
         "Farrar Straus Giroux",
         "http://images.amazon.com/images/P/0374157065.01.THUMBZZZ.jpg",
         "http://images.amazon.com/images/P/0374157065.01.MZZZZZZZ.jpg",
         "http://images.amazon.com/images/P/0374157065.01.LZZZZZZZ.jpg"
        ],
        [
         "4",
         "0393045218",
         "The Mummies of Urumchi",
         "E. J. W. Barber",
         "1999",
         "W. W. Norton &amp; Company",
         "http://images.amazon.com/images/P/0393045218.01.THUMBZZZ.jpg",
         "http://images.amazon.com/images/P/0393045218.01.MZZZZZZZ.jpg",
         "http://images.amazon.com/images/P/0393045218.01.LZZZZZZZ.jpg"
        ],
        [
         "5",
         "0399135782",
         "The Kitchen God's Wife",
         "Amy Tan",
         "1991",
         "Putnam Pub Group",
         "http://images.amazon.com/images/P/0399135782.01.THUMBZZZ.jpg",
         "http://images.amazon.com/images/P/0399135782.01.MZZZZZZZ.jpg",
         "http://images.amazon.com/images/P/0399135782.01.LZZZZZZZ.jpg"
        ],
        [
         "6",
         "0425176428",
         "What If?: The World's Foremost Military Historians Imagine What Might Have Been",
         "Robert Cowley",
         "2000",
         "Berkley Publishing Group",
         "http://images.amazon.com/images/P/0425176428.01.THUMBZZZ.jpg",
         "http://images.amazon.com/images/P/0425176428.01.MZZZZZZZ.jpg",
         "http://images.amazon.com/images/P/0425176428.01.LZZZZZZZ.jpg"
        ],
        [
         "7",
         "0671870432",
         "PLEADING GUILTY",
         "Scott Turow",
         "1993",
         "Audioworks",
         "http://images.amazon.com/images/P/0671870432.01.THUMBZZZ.jpg",
         "http://images.amazon.com/images/P/0671870432.01.MZZZZZZZ.jpg",
         "http://images.amazon.com/images/P/0671870432.01.LZZZZZZZ.jpg"
        ],
        [
         "8",
         "0679425608",
         "Under the Black Flag: The Romance and the Reality of Life Among the Pirates",
         "David Cordingly",
         "1996",
         "Random House",
         "http://images.amazon.com/images/P/0679425608.01.THUMBZZZ.jpg",
         "http://images.amazon.com/images/P/0679425608.01.MZZZZZZZ.jpg",
         "http://images.amazon.com/images/P/0679425608.01.LZZZZZZZ.jpg"
        ],
        [
         "9",
         "074322678X",
         "Where You'll Find Me: And Other Stories",
         "Ann Beattie",
         "2002",
         "Scribner",
         "http://images.amazon.com/images/P/074322678X.01.THUMBZZZ.jpg",
         "http://images.amazon.com/images/P/074322678X.01.MZZZZZZZ.jpg",
         "http://images.amazon.com/images/P/074322678X.01.LZZZZZZZ.jpg"
        ],
        [
         "10",
         "0771074670",
         "Nights Below Station Street",
         "David Adams Richards",
         "1988",
         "Emblem Editions",
         "http://images.amazon.com/images/P/0771074670.01.THUMBZZZ.jpg",
         "http://images.amazon.com/images/P/0771074670.01.MZZZZZZZ.jpg",
         "http://images.amazon.com/images/P/0771074670.01.LZZZZZZZ.jpg"
        ],
        [
         "11",
         "080652121X",
         "Hitler's Secret Bankers: The Myth of Swiss Neutrality During the Holocaust",
         "Adam Lebor",
         "2000",
         "Citadel Press",
         "http://images.amazon.com/images/P/080652121X.01.THUMBZZZ.jpg",
         "http://images.amazon.com/images/P/080652121X.01.MZZZZZZZ.jpg",
         "http://images.amazon.com/images/P/080652121X.01.LZZZZZZZ.jpg"
        ],
        [
         "12",
         "0887841740",
         "The Middle Stories",
         "Sheila Heti",
         "2004",
         "House of Anansi Press",
         "http://images.amazon.com/images/P/0887841740.01.THUMBZZZ.jpg",
         "http://images.amazon.com/images/P/0887841740.01.MZZZZZZZ.jpg",
         "http://images.amazon.com/images/P/0887841740.01.LZZZZZZZ.jpg"
        ],
        [
         "13",
         "1552041778",
         "Jane Doe",
         "R. J. Kaiser",
         "1999",
         "Mira Books",
         "http://images.amazon.com/images/P/1552041778.01.THUMBZZZ.jpg",
         "http://images.amazon.com/images/P/1552041778.01.MZZZZZZZ.jpg",
         "http://images.amazon.com/images/P/1552041778.01.LZZZZZZZ.jpg"
        ],
        [
         "14",
         "1558746218",
         "A Second Chicken Soup for the Woman's Soul (Chicken Soup for the Soul Series)",
         "Jack Canfield",
         "1998",
         "Health Communications",
         "http://images.amazon.com/images/P/1558746218.01.THUMBZZZ.jpg",
         "http://images.amazon.com/images/P/1558746218.01.MZZZZZZZ.jpg",
         "http://images.amazon.com/images/P/1558746218.01.LZZZZZZZ.jpg"
        ],
        [
         "15",
         "1567407781",
         "The Witchfinder (Amos Walker Mystery Series)",
         "Loren D. Estleman",
         "1998",
         "Brilliance Audio - Trade",
         "http://images.amazon.com/images/P/1567407781.01.THUMBZZZ.jpg",
         "http://images.amazon.com/images/P/1567407781.01.MZZZZZZZ.jpg",
         "http://images.amazon.com/images/P/1567407781.01.LZZZZZZZ.jpg"
        ],
        [
         "16",
         "1575663937",
         "More Cunning Than Man: A Social History of Rats and Man",
         "Robert Hendrickson",
         "1999",
         "Kensington Publishing Corp.",
         "http://images.amazon.com/images/P/1575663937.01.THUMBZZZ.jpg",
         "http://images.amazon.com/images/P/1575663937.01.MZZZZZZZ.jpg",
         "http://images.amazon.com/images/P/1575663937.01.LZZZZZZZ.jpg"
        ],
        [
         "17",
         "1881320189",
         "Goodbye to the Buttermilk Sky",
         "Julia Oliver",
         "1994",
         "River City Pub",
         "http://images.amazon.com/images/P/1881320189.01.THUMBZZZ.jpg",
         "http://images.amazon.com/images/P/1881320189.01.MZZZZZZZ.jpg",
         "http://images.amazon.com/images/P/1881320189.01.LZZZZZZZ.jpg"
        ],
        [
         "18",
         "0440234743",
         "The Testament",
         "John Grisham",
         "1999",
         "Dell",
         "http://images.amazon.com/images/P/0440234743.01.THUMBZZZ.jpg",
         "http://images.amazon.com/images/P/0440234743.01.MZZZZZZZ.jpg",
         "http://images.amazon.com/images/P/0440234743.01.LZZZZZZZ.jpg"
        ],
        [
         "19",
         "0452264464",
         "Beloved (Plume Contemporary Fiction)",
         "Toni Morrison",
         "1994",
         "Plume",
         "http://images.amazon.com/images/P/0452264464.01.THUMBZZZ.jpg",
         "http://images.amazon.com/images/P/0452264464.01.MZZZZZZZ.jpg",
         "http://images.amazon.com/images/P/0452264464.01.LZZZZZZZ.jpg"
        ],
        [
         "20",
         "0609804618",
         "Our Dumb Century: The Onion Presents 100 Years of Headlines from America's Finest News Source",
         "The Onion",
         "1999",
         "Three Rivers Press",
         "http://images.amazon.com/images/P/0609804618.01.THUMBZZZ.jpg",
         "http://images.amazon.com/images/P/0609804618.01.MZZZZZZZ.jpg",
         "http://images.amazon.com/images/P/0609804618.01.LZZZZZZZ.jpg"
        ],
        [
         "21",
         "1841721522",
         "New Vegetarian: Bold and Beautiful Recipes for Every Occasion",
         "Celia Brooks Brown",
         "2001",
         "Ryland Peters &amp; Small Ltd",
         "http://images.amazon.com/images/P/1841721522.01.THUMBZZZ.jpg",
         "http://images.amazon.com/images/P/1841721522.01.MZZZZZZZ.jpg",
         "http://images.amazon.com/images/P/1841721522.01.LZZZZZZZ.jpg"
        ],
        [
         "22",
         "1879384493",
         "If I'd Known Then What I Know Now: Why Not Learn from the Mistakes of Others? : You Can't Afford to Make Them All Yourself",
         "J. R. Parrish",
         "2003",
         "Cypress House",
         "http://images.amazon.com/images/P/1879384493.01.THUMBZZZ.jpg",
         "http://images.amazon.com/images/P/1879384493.01.MZZZZZZZ.jpg",
         "http://images.amazon.com/images/P/1879384493.01.LZZZZZZZ.jpg"
        ],
        [
         "23",
         "0061076031",
         "Mary-Kate &amp; Ashley Switching Goals (Mary-Kate and Ashley Starring in)",
         "Mary-Kate &amp; Ashley Olsen",
         "2000",
         "HarperEntertainment",
         "http://images.amazon.com/images/P/0061076031.01.THUMBZZZ.jpg",
         "http://images.amazon.com/images/P/0061076031.01.MZZZZZZZ.jpg",
         "http://images.amazon.com/images/P/0061076031.01.LZZZZZZZ.jpg"
        ],
        [
         "24",
         "0439095026",
         "Tell Me This Isn't Happening",
         "Robynn Clairday",
         "1999",
         "Scholastic",
         "http://images.amazon.com/images/P/0439095026.01.THUMBZZZ.jpg",
         "http://images.amazon.com/images/P/0439095026.01.MZZZZZZZ.jpg",
         "http://images.amazon.com/images/P/0439095026.01.LZZZZZZZ.jpg"
        ],
        [
         "25",
         "0689821166",
         "Flood : Mississippi 1927",
         "Kathleen Duey",
         "1998",
         "Aladdin",
         "http://images.amazon.com/images/P/0689821166.01.THUMBZZZ.jpg",
         "http://images.amazon.com/images/P/0689821166.01.MZZZZZZZ.jpg",
         "http://images.amazon.com/images/P/0689821166.01.LZZZZZZZ.jpg"
        ],
        [
         "26",
         "0971880107",
         "Wild Animus",
         "Rich Shapero",
         "2004",
         "Too Far",
         "http://images.amazon.com/images/P/0971880107.01.THUMBZZZ.jpg",
         "http://images.amazon.com/images/P/0971880107.01.MZZZZZZZ.jpg",
         "http://images.amazon.com/images/P/0971880107.01.LZZZZZZZ.jpg"
        ],
        [
         "27",
         "0345402871",
         "Airframe",
         "Michael Crichton",
         "1997",
         "Ballantine Books",
         "http://images.amazon.com/images/P/0345402871.01.THUMBZZZ.jpg",
         "http://images.amazon.com/images/P/0345402871.01.MZZZZZZZ.jpg",
         "http://images.amazon.com/images/P/0345402871.01.LZZZZZZZ.jpg"
        ],
        [
         "28",
         "0345417623",
         "Timeline",
         "MICHAEL CRICHTON",
         "2000",
         "Ballantine Books",
         "http://images.amazon.com/images/P/0345417623.01.THUMBZZZ.jpg",
         "http://images.amazon.com/images/P/0345417623.01.MZZZZZZZ.jpg",
         "http://images.amazon.com/images/P/0345417623.01.LZZZZZZZ.jpg"
        ],
        [
         "29",
         "0684823802",
         "OUT OF THE SILENT PLANET",
         "C.S. Lewis",
         "1996",
         "Scribner",
         "http://images.amazon.com/images/P/0684823802.01.THUMBZZZ.jpg",
         "http://images.amazon.com/images/P/0684823802.01.MZZZZZZZ.jpg",
         "http://images.amazon.com/images/P/0684823802.01.LZZZZZZZ.jpg"
        ],
        [
         "30",
         "0375759778",
         "Prague : A Novel",
         "ARTHUR PHILLIPS",
         "2003",
         "Random House Trade Paperbacks",
         "http://images.amazon.com/images/P/0375759778.01.THUMBZZZ.jpg",
         "http://images.amazon.com/images/P/0375759778.01.MZZZZZZZ.jpg",
         "http://images.amazon.com/images/P/0375759778.01.LZZZZZZZ.jpg"
        ],
        [
         "31",
         "0425163091",
         "Chocolate Jesus",
         "Stephan Jaramillo",
         "1998",
         "Berkley Publishing Group",
         "http://images.amazon.com/images/P/0425163091.01.THUMBZZZ.jpg",
         "http://images.amazon.com/images/P/0425163091.01.MZZZZZZZ.jpg",
         "http://images.amazon.com/images/P/0425163091.01.LZZZZZZZ.jpg"
        ],
        [
         "32",
         "3404921038",
         "Wie Barney es sieht.",
         "Mordecai Richler",
         "2002",
         "LÃ?Â¼bbe",
         "http://images.amazon.com/images/P/3404921038.01.THUMBZZZ.jpg",
         "http://images.amazon.com/images/P/3404921038.01.MZZZZZZZ.jpg",
         "http://images.amazon.com/images/P/3404921038.01.LZZZZZZZ.jpg"
        ],
        [
         "33",
         "3442353866",
         "Der Fluch der Kaiserin. Ein Richter- Di- Roman.",
         "Eleanor Cooney",
         "2001",
         "Goldmann",
         "http://images.amazon.com/images/P/3442353866.01.THUMBZZZ.jpg",
         "http://images.amazon.com/images/P/3442353866.01.MZZZZZZZ.jpg",
         "http://images.amazon.com/images/P/3442353866.01.LZZZZZZZ.jpg"
        ],
        [
         "34",
         "3442410665",
         "Sturmzeit. Roman.",
         "Charlotte Link",
         "1991",
         "Goldmann",
         "http://images.amazon.com/images/P/3442410665.01.THUMBZZZ.jpg",
         "http://images.amazon.com/images/P/3442410665.01.MZZZZZZZ.jpg",
         "http://images.amazon.com/images/P/3442410665.01.LZZZZZZZ.jpg"
        ],
        [
         "35",
         "3442446937",
         "Tage der Unschuld.",
         "Richard North Patterson",
         "2000",
         "Goldmann",
         "http://images.amazon.com/images/P/3442446937.01.THUMBZZZ.jpg",
         "http://images.amazon.com/images/P/3442446937.01.MZZZZZZZ.jpg",
         "http://images.amazon.com/images/P/3442446937.01.LZZZZZZZ.jpg"
        ],
        [
         "36",
         "0375406328",
         "Lying Awake",
         "Mark Salzman",
         "2000",
         "Alfred A. Knopf",
         "http://images.amazon.com/images/P/0375406328.01.THUMBZZZ.jpg",
         "http://images.amazon.com/images/P/0375406328.01.MZZZZZZZ.jpg",
         "http://images.amazon.com/images/P/0375406328.01.LZZZZZZZ.jpg"
        ],
        [
         "37",
         "0446310786",
         "To Kill a Mockingbird",
         "Harper Lee",
         "1988",
         "Little Brown &amp; Company",
         "http://images.amazon.com/images/P/0446310786.01.THUMBZZZ.jpg",
         "http://images.amazon.com/images/P/0446310786.01.MZZZZZZZ.jpg",
         "http://images.amazon.com/images/P/0446310786.01.LZZZZZZZ.jpg"
        ],
        [
         "38",
         "0449005615",
         "Seabiscuit: An American Legend",
         "LAURA HILLENBRAND",
         "2002",
         "Ballantine Books",
         "http://images.amazon.com/images/P/0449005615.01.THUMBZZZ.jpg",
         "http://images.amazon.com/images/P/0449005615.01.MZZZZZZZ.jpg",
         "http://images.amazon.com/images/P/0449005615.01.LZZZZZZZ.jpg"
        ],
        [
         "39",
         "0060168013",
         "Pigs in Heaven",
         "Barbara Kingsolver",
         "1993",
         "Harpercollins",
         "http://images.amazon.com/images/P/0060168013.01.THUMBZZZ.jpg",
         "http://images.amazon.com/images/P/0060168013.01.MZZZZZZZ.jpg",
         "http://images.amazon.com/images/P/0060168013.01.LZZZZZZZ.jpg"
        ],
        [
         "40",
         "038078243X",
         "Miss Zukas and the Raven's Dance",
         "Jo Dereske",
         "1996",
         "Avon",
         "http://images.amazon.com/images/P/038078243X.01.THUMBZZZ.jpg",
         "http://images.amazon.com/images/P/038078243X.01.MZZZZZZZ.jpg",
         "http://images.amazon.com/images/P/038078243X.01.LZZZZZZZ.jpg"
        ],
        [
         "41",
         "055321215X",
         "Pride and Prejudice",
         "Jane Austen",
         "1983",
         "Bantam",
         "http://images.amazon.com/images/P/055321215X.01.THUMBZZZ.jpg",
         "http://images.amazon.com/images/P/055321215X.01.MZZZZZZZ.jpg",
         "http://images.amazon.com/images/P/055321215X.01.LZZZZZZZ.jpg"
        ],
        [
         "42",
         "067176537X",
         "The Therapeutic Touch: How to Use Your Hands to Help or to Heal",
         "Dolores Krieger",
         "1979",
         "Fireside",
         "http://images.amazon.com/images/P/067176537X.01.THUMBZZZ.jpg",
         "http://images.amazon.com/images/P/067176537X.01.MZZZZZZZ.jpg",
         "http://images.amazon.com/images/P/067176537X.01.LZZZZZZZ.jpg"
        ],
        [
         "43",
         "0061099686",
         "Downtown",
         "Anne Rivers Siddons",
         "1995",
         "HarperTorch",
         "http://images.amazon.com/images/P/0061099686.01.THUMBZZZ.jpg",
         "http://images.amazon.com/images/P/0061099686.01.MZZZZZZZ.jpg",
         "http://images.amazon.com/images/P/0061099686.01.LZZZZZZZ.jpg"
        ],
        [
         "44",
         "0553582909",
         "Icebound",
         "Dean R. Koontz",
         "2000",
         "Bantam Books",
         "http://images.amazon.com/images/P/0553582909.01.THUMBZZZ.jpg",
         "http://images.amazon.com/images/P/0553582909.01.MZZZZZZZ.jpg",
         "http://images.amazon.com/images/P/0553582909.01.LZZZZZZZ.jpg"
        ],
        [
         "45",
         "0671888587",
         "I'll Be Seeing You",
         "Mary Higgins Clark",
         "1994",
         "Pocket",
         "http://images.amazon.com/images/P/0671888587.01.THUMBZZZ.jpg",
         "http://images.amazon.com/images/P/0671888587.01.MZZZZZZZ.jpg",
         "http://images.amazon.com/images/P/0671888587.01.LZZZZZZZ.jpg"
        ],
        [
         "46",
         "0553582747",
         "From the Corner of His Eye",
         "Dean Koontz",
         "2001",
         "Bantam Books",
         "http://images.amazon.com/images/P/0553582747.01.THUMBZZZ.jpg",
         "http://images.amazon.com/images/P/0553582747.01.MZZZZZZZ.jpg",
         "http://images.amazon.com/images/P/0553582747.01.LZZZZZZZ.jpg"
        ],
        [
         "47",
         "0425182908",
         "Isle of Dogs",
         "Patricia Cornwell",
         "2002",
         "Berkley Publishing Group",
         "http://images.amazon.com/images/P/0425182908.01.THUMBZZZ.jpg",
         "http://images.amazon.com/images/P/0425182908.01.MZZZZZZZ.jpg",
         "http://images.amazon.com/images/P/0425182908.01.LZZZZZZZ.jpg"
        ],
        [
         "48",
         "042518630X",
         "Purity in Death",
         "J.D. Robb",
         "2002",
         "Berkley Publishing Group",
         "http://images.amazon.com/images/P/042518630X.01.THUMBZZZ.jpg",
         "http://images.amazon.com/images/P/042518630X.01.MZZZZZZZ.jpg",
         "http://images.amazon.com/images/P/042518630X.01.LZZZZZZZ.jpg"
        ],
        [
         "49",
         "0440223571",
         "This Year It Will Be Different: And Other Stories",
         "Maeve Binchy",
         "1997",
         "Dell",
         "http://images.amazon.com/images/P/0440223571.01.THUMBZZZ.jpg",
         "http://images.amazon.com/images/P/0440223571.01.MZZZZZZZ.jpg",
         "http://images.amazon.com/images/P/0440223571.01.LZZZZZZZ.jpg"
        ]
       ],
       "shape": {
        "columns": 8,
        "rows": 271360
       }
      },
      "text/html": [
       "<div>\n",
       "<style scoped>\n",
       "    .dataframe tbody tr th:only-of-type {\n",
       "        vertical-align: middle;\n",
       "    }\n",
       "\n",
       "    .dataframe tbody tr th {\n",
       "        vertical-align: top;\n",
       "    }\n",
       "\n",
       "    .dataframe thead th {\n",
       "        text-align: right;\n",
       "    }\n",
       "</style>\n",
       "<table border=\"1\" class=\"dataframe\">\n",
       "  <thead>\n",
       "    <tr style=\"text-align: right;\">\n",
       "      <th></th>\n",
       "      <th>ISBN</th>\n",
       "      <th>Book-Title</th>\n",
       "      <th>Book-Author</th>\n",
       "      <th>Year-Of-Publication</th>\n",
       "      <th>Publisher</th>\n",
       "      <th>Image-URL-S</th>\n",
       "      <th>Image-URL-M</th>\n",
       "      <th>Image-URL-L</th>\n",
       "    </tr>\n",
       "  </thead>\n",
       "  <tbody>\n",
       "    <tr>\n",
       "      <th>0</th>\n",
       "      <td>0195153448</td>\n",
       "      <td>Classical Mythology</td>\n",
       "      <td>Mark P. O. Morford</td>\n",
       "      <td>2002</td>\n",
       "      <td>Oxford University Press</td>\n",
       "      <td>http://images.amazon.com/images/P/0195153448.0...</td>\n",
       "      <td>http://images.amazon.com/images/P/0195153448.0...</td>\n",
       "      <td>http://images.amazon.com/images/P/0195153448.0...</td>\n",
       "    </tr>\n",
       "    <tr>\n",
       "      <th>1</th>\n",
       "      <td>0002005018</td>\n",
       "      <td>Clara Callan</td>\n",
       "      <td>Richard Bruce Wright</td>\n",
       "      <td>2001</td>\n",
       "      <td>HarperFlamingo Canada</td>\n",
       "      <td>http://images.amazon.com/images/P/0002005018.0...</td>\n",
       "      <td>http://images.amazon.com/images/P/0002005018.0...</td>\n",
       "      <td>http://images.amazon.com/images/P/0002005018.0...</td>\n",
       "    </tr>\n",
       "    <tr>\n",
       "      <th>2</th>\n",
       "      <td>0060973129</td>\n",
       "      <td>Decision in Normandy</td>\n",
       "      <td>Carlo D'Este</td>\n",
       "      <td>1991</td>\n",
       "      <td>HarperPerennial</td>\n",
       "      <td>http://images.amazon.com/images/P/0060973129.0...</td>\n",
       "      <td>http://images.amazon.com/images/P/0060973129.0...</td>\n",
       "      <td>http://images.amazon.com/images/P/0060973129.0...</td>\n",
       "    </tr>\n",
       "    <tr>\n",
       "      <th>3</th>\n",
       "      <td>0374157065</td>\n",
       "      <td>Flu: The Story of the Great Influenza Pandemic...</td>\n",
       "      <td>Gina Bari Kolata</td>\n",
       "      <td>1999</td>\n",
       "      <td>Farrar Straus Giroux</td>\n",
       "      <td>http://images.amazon.com/images/P/0374157065.0...</td>\n",
       "      <td>http://images.amazon.com/images/P/0374157065.0...</td>\n",
       "      <td>http://images.amazon.com/images/P/0374157065.0...</td>\n",
       "    </tr>\n",
       "    <tr>\n",
       "      <th>4</th>\n",
       "      <td>0393045218</td>\n",
       "      <td>The Mummies of Urumchi</td>\n",
       "      <td>E. J. W. Barber</td>\n",
       "      <td>1999</td>\n",
       "      <td>W. W. Norton &amp;amp; Company</td>\n",
       "      <td>http://images.amazon.com/images/P/0393045218.0...</td>\n",
       "      <td>http://images.amazon.com/images/P/0393045218.0...</td>\n",
       "      <td>http://images.amazon.com/images/P/0393045218.0...</td>\n",
       "    </tr>\n",
       "    <tr>\n",
       "      <th>...</th>\n",
       "      <td>...</td>\n",
       "      <td>...</td>\n",
       "      <td>...</td>\n",
       "      <td>...</td>\n",
       "      <td>...</td>\n",
       "      <td>...</td>\n",
       "      <td>...</td>\n",
       "      <td>...</td>\n",
       "    </tr>\n",
       "    <tr>\n",
       "      <th>271355</th>\n",
       "      <td>0440400988</td>\n",
       "      <td>There's a Bat in Bunk Five</td>\n",
       "      <td>Paula Danziger</td>\n",
       "      <td>1988</td>\n",
       "      <td>Random House Childrens Pub (Mm)</td>\n",
       "      <td>http://images.amazon.com/images/P/0440400988.0...</td>\n",
       "      <td>http://images.amazon.com/images/P/0440400988.0...</td>\n",
       "      <td>http://images.amazon.com/images/P/0440400988.0...</td>\n",
       "    </tr>\n",
       "    <tr>\n",
       "      <th>271356</th>\n",
       "      <td>0525447644</td>\n",
       "      <td>From One to One Hundred</td>\n",
       "      <td>Teri Sloat</td>\n",
       "      <td>1991</td>\n",
       "      <td>Dutton Books</td>\n",
       "      <td>http://images.amazon.com/images/P/0525447644.0...</td>\n",
       "      <td>http://images.amazon.com/images/P/0525447644.0...</td>\n",
       "      <td>http://images.amazon.com/images/P/0525447644.0...</td>\n",
       "    </tr>\n",
       "    <tr>\n",
       "      <th>271357</th>\n",
       "      <td>006008667X</td>\n",
       "      <td>Lily Dale : The True Story of the Town that Ta...</td>\n",
       "      <td>Christine Wicker</td>\n",
       "      <td>2004</td>\n",
       "      <td>HarperSanFrancisco</td>\n",
       "      <td>http://images.amazon.com/images/P/006008667X.0...</td>\n",
       "      <td>http://images.amazon.com/images/P/006008667X.0...</td>\n",
       "      <td>http://images.amazon.com/images/P/006008667X.0...</td>\n",
       "    </tr>\n",
       "    <tr>\n",
       "      <th>271358</th>\n",
       "      <td>0192126040</td>\n",
       "      <td>Republic (World's Classics)</td>\n",
       "      <td>Plato</td>\n",
       "      <td>1996</td>\n",
       "      <td>Oxford University Press</td>\n",
       "      <td>http://images.amazon.com/images/P/0192126040.0...</td>\n",
       "      <td>http://images.amazon.com/images/P/0192126040.0...</td>\n",
       "      <td>http://images.amazon.com/images/P/0192126040.0...</td>\n",
       "    </tr>\n",
       "    <tr>\n",
       "      <th>271359</th>\n",
       "      <td>0767409752</td>\n",
       "      <td>A Guided Tour of Rene Descartes' Meditations o...</td>\n",
       "      <td>Christopher  Biffle</td>\n",
       "      <td>2000</td>\n",
       "      <td>McGraw-Hill Humanities/Social Sciences/Languages</td>\n",
       "      <td>http://images.amazon.com/images/P/0767409752.0...</td>\n",
       "      <td>http://images.amazon.com/images/P/0767409752.0...</td>\n",
       "      <td>http://images.amazon.com/images/P/0767409752.0...</td>\n",
       "    </tr>\n",
       "  </tbody>\n",
       "</table>\n",
       "<p>271360 rows × 8 columns</p>\n",
       "</div>"
      ],
      "text/plain": [
       "              ISBN                                         Book-Title  \\\n",
       "0       0195153448                                Classical Mythology   \n",
       "1       0002005018                                       Clara Callan   \n",
       "2       0060973129                               Decision in Normandy   \n",
       "3       0374157065  Flu: The Story of the Great Influenza Pandemic...   \n",
       "4       0393045218                             The Mummies of Urumchi   \n",
       "...            ...                                                ...   \n",
       "271355  0440400988                         There's a Bat in Bunk Five   \n",
       "271356  0525447644                            From One to One Hundred   \n",
       "271357  006008667X  Lily Dale : The True Story of the Town that Ta...   \n",
       "271358  0192126040                        Republic (World's Classics)   \n",
       "271359  0767409752  A Guided Tour of Rene Descartes' Meditations o...   \n",
       "\n",
       "                 Book-Author Year-Of-Publication  \\\n",
       "0         Mark P. O. Morford                2002   \n",
       "1       Richard Bruce Wright                2001   \n",
       "2               Carlo D'Este                1991   \n",
       "3           Gina Bari Kolata                1999   \n",
       "4            E. J. W. Barber                1999   \n",
       "...                      ...                 ...   \n",
       "271355        Paula Danziger                1988   \n",
       "271356            Teri Sloat                1991   \n",
       "271357      Christine Wicker                2004   \n",
       "271358                 Plato                1996   \n",
       "271359   Christopher  Biffle                2000   \n",
       "\n",
       "                                               Publisher  \\\n",
       "0                                Oxford University Press   \n",
       "1                                  HarperFlamingo Canada   \n",
       "2                                        HarperPerennial   \n",
       "3                                   Farrar Straus Giroux   \n",
       "4                             W. W. Norton &amp; Company   \n",
       "...                                                  ...   \n",
       "271355                   Random House Childrens Pub (Mm)   \n",
       "271356                                      Dutton Books   \n",
       "271357                                HarperSanFrancisco   \n",
       "271358                           Oxford University Press   \n",
       "271359  McGraw-Hill Humanities/Social Sciences/Languages   \n",
       "\n",
       "                                              Image-URL-S  \\\n",
       "0       http://images.amazon.com/images/P/0195153448.0...   \n",
       "1       http://images.amazon.com/images/P/0002005018.0...   \n",
       "2       http://images.amazon.com/images/P/0060973129.0...   \n",
       "3       http://images.amazon.com/images/P/0374157065.0...   \n",
       "4       http://images.amazon.com/images/P/0393045218.0...   \n",
       "...                                                   ...   \n",
       "271355  http://images.amazon.com/images/P/0440400988.0...   \n",
       "271356  http://images.amazon.com/images/P/0525447644.0...   \n",
       "271357  http://images.amazon.com/images/P/006008667X.0...   \n",
       "271358  http://images.amazon.com/images/P/0192126040.0...   \n",
       "271359  http://images.amazon.com/images/P/0767409752.0...   \n",
       "\n",
       "                                              Image-URL-M  \\\n",
       "0       http://images.amazon.com/images/P/0195153448.0...   \n",
       "1       http://images.amazon.com/images/P/0002005018.0...   \n",
       "2       http://images.amazon.com/images/P/0060973129.0...   \n",
       "3       http://images.amazon.com/images/P/0374157065.0...   \n",
       "4       http://images.amazon.com/images/P/0393045218.0...   \n",
       "...                                                   ...   \n",
       "271355  http://images.amazon.com/images/P/0440400988.0...   \n",
       "271356  http://images.amazon.com/images/P/0525447644.0...   \n",
       "271357  http://images.amazon.com/images/P/006008667X.0...   \n",
       "271358  http://images.amazon.com/images/P/0192126040.0...   \n",
       "271359  http://images.amazon.com/images/P/0767409752.0...   \n",
       "\n",
       "                                              Image-URL-L  \n",
       "0       http://images.amazon.com/images/P/0195153448.0...  \n",
       "1       http://images.amazon.com/images/P/0002005018.0...  \n",
       "2       http://images.amazon.com/images/P/0060973129.0...  \n",
       "3       http://images.amazon.com/images/P/0374157065.0...  \n",
       "4       http://images.amazon.com/images/P/0393045218.0...  \n",
       "...                                                   ...  \n",
       "271355  http://images.amazon.com/images/P/0440400988.0...  \n",
       "271356  http://images.amazon.com/images/P/0525447644.0...  \n",
       "271357  http://images.amazon.com/images/P/006008667X.0...  \n",
       "271358  http://images.amazon.com/images/P/0192126040.0...  \n",
       "271359  http://images.amazon.com/images/P/0767409752.0...  \n",
       "\n",
       "[271360 rows x 8 columns]"
      ]
     },
     "execution_count": 4,
     "metadata": {},
     "output_type": "execute_result"
    }
   ],
   "source": [
    "books"
   ]
  },
  {
   "cell_type": "code",
   "execution_count": 5,
   "id": "f3fb120d",
   "metadata": {},
   "outputs": [
    {
     "data": {
      "application/vnd.microsoft.datawrangler.viewer.v0+json": {
       "columns": [
        {
         "name": "index",
         "rawType": "int64",
         "type": "integer"
        },
        {
         "name": "User-ID",
         "rawType": "int64",
         "type": "integer"
        },
        {
         "name": "Location",
         "rawType": "object",
         "type": "string"
        },
        {
         "name": "Age",
         "rawType": "float64",
         "type": "float"
        }
       ],
       "ref": "1d91e5c4-e887-4cc6-9f76-6dd7602ee64d",
       "rows": [
        [
         "0",
         "1",
         "nyc, new york, usa",
         null
        ],
        [
         "1",
         "2",
         "stockton, california, usa",
         "18.0"
        ],
        [
         "2",
         "3",
         "moscow, yukon territory, russia",
         null
        ],
        [
         "3",
         "4",
         "porto, v.n.gaia, portugal",
         "17.0"
        ],
        [
         "4",
         "5",
         "farnborough, hants, united kingdom",
         null
        ],
        [
         "5",
         "6",
         "santa monica, california, usa",
         "61.0"
        ],
        [
         "6",
         "7",
         "washington, dc, usa",
         null
        ],
        [
         "7",
         "8",
         "timmins, ontario, canada",
         null
        ],
        [
         "8",
         "9",
         "germantown, tennessee, usa",
         null
        ],
        [
         "9",
         "10",
         "albacete, wisconsin, spain",
         "26.0"
        ],
        [
         "10",
         "11",
         "melbourne, victoria, australia",
         "14.0"
        ],
        [
         "11",
         "12",
         "fort bragg, california, usa",
         null
        ],
        [
         "12",
         "13",
         "barcelona, barcelona, spain",
         "26.0"
        ],
        [
         "13",
         "14",
         "mediapolis, iowa, usa",
         null
        ],
        [
         "14",
         "15",
         "calgary, alberta, canada",
         null
        ],
        [
         "15",
         "16",
         "albuquerque, new mexico, usa",
         null
        ],
        [
         "16",
         "17",
         "chesapeake, virginia, usa",
         null
        ],
        [
         "17",
         "18",
         "rio de janeiro, rio de janeiro, brazil",
         "25.0"
        ],
        [
         "18",
         "19",
         "weston, ,",
         "14.0"
        ],
        [
         "19",
         "20",
         "langhorne, pennsylvania, usa",
         "19.0"
        ],
        [
         "20",
         "21",
         "ferrol / spain, alabama, spain",
         "46.0"
        ],
        [
         "21",
         "22",
         "erfurt, thueringen, germany",
         null
        ],
        [
         "22",
         "23",
         "philadelphia, pennsylvania, usa",
         null
        ],
        [
         "23",
         "24",
         "cologne, nrw, germany",
         "19.0"
        ],
        [
         "24",
         "25",
         "oakland, california, usa",
         "55.0"
        ],
        [
         "25",
         "26",
         "bellevue, washington, usa",
         null
        ],
        [
         "26",
         "27",
         "chicago, illinois, usa",
         "32.0"
        ],
        [
         "27",
         "28",
         "freiburg, baden-wuerttemberg, germany",
         "24.0"
        ],
        [
         "28",
         "29",
         "cuernavaca, alabama, mexico",
         "19.0"
        ],
        [
         "29",
         "30",
         "anchorage, alaska, usa",
         "24.0"
        ],
        [
         "30",
         "31",
         "shanghai, n/a, china",
         "20.0"
        ],
        [
         "31",
         "32",
         "portland, oregon, usa",
         null
        ],
        [
         "32",
         "33",
         "costa mesa, california, usa",
         "34.0"
        ],
        [
         "33",
         "34",
         "london, england, united kingdom",
         null
        ],
        [
         "34",
         "35",
         "grafton, wisconsin, usa",
         "17.0"
        ],
        [
         "35",
         "36",
         "montreal, quebec, canada",
         "24.0"
        ],
        [
         "36",
         "37",
         "san sebastian, n/a, spain",
         "23.0"
        ],
        [
         "37",
         "38",
         "viterbo, lazio, italy",
         "34.0"
        ],
        [
         "38",
         "39",
         "cary, north carolina, usa",
         null
        ],
        [
         "39",
         "40",
         "tonawanda, new york, usa",
         "32.0"
        ],
        [
         "40",
         "41",
         "santee, california, usa",
         "14.0"
        ],
        [
         "41",
         "42",
         "appleton, wisconsin, usa",
         "17.0"
        ],
        [
         "42",
         "43",
         "méxico, méxico city, distrito federal",
         null
        ],
        [
         "43",
         "44",
         "black mountain, north carolina, usa",
         "51.0"
        ],
        [
         "44",
         "45",
         "berlin, n/a, germany",
         null
        ],
        [
         "45",
         "46",
         "heidelberg, baden-wuerttemberg, germany",
         "31.0"
        ],
        [
         "46",
         "47",
         "vicenza, veneto, italy",
         "21.0"
        ],
        [
         "47",
         "48",
         "chicago, illinois, usa",
         null
        ],
        [
         "48",
         "49",
         "rome, rome, italy",
         null
        ],
        [
         "49",
         "50",
         "london, england, united kingdom",
         "17.0"
        ]
       ],
       "shape": {
        "columns": 3,
        "rows": 278858
       }
      },
      "text/html": [
       "<div>\n",
       "<style scoped>\n",
       "    .dataframe tbody tr th:only-of-type {\n",
       "        vertical-align: middle;\n",
       "    }\n",
       "\n",
       "    .dataframe tbody tr th {\n",
       "        vertical-align: top;\n",
       "    }\n",
       "\n",
       "    .dataframe thead th {\n",
       "        text-align: right;\n",
       "    }\n",
       "</style>\n",
       "<table border=\"1\" class=\"dataframe\">\n",
       "  <thead>\n",
       "    <tr style=\"text-align: right;\">\n",
       "      <th></th>\n",
       "      <th>User-ID</th>\n",
       "      <th>Location</th>\n",
       "      <th>Age</th>\n",
       "    </tr>\n",
       "  </thead>\n",
       "  <tbody>\n",
       "    <tr>\n",
       "      <th>0</th>\n",
       "      <td>1</td>\n",
       "      <td>nyc, new york, usa</td>\n",
       "      <td>NaN</td>\n",
       "    </tr>\n",
       "    <tr>\n",
       "      <th>1</th>\n",
       "      <td>2</td>\n",
       "      <td>stockton, california, usa</td>\n",
       "      <td>18.0</td>\n",
       "    </tr>\n",
       "    <tr>\n",
       "      <th>2</th>\n",
       "      <td>3</td>\n",
       "      <td>moscow, yukon territory, russia</td>\n",
       "      <td>NaN</td>\n",
       "    </tr>\n",
       "    <tr>\n",
       "      <th>3</th>\n",
       "      <td>4</td>\n",
       "      <td>porto, v.n.gaia, portugal</td>\n",
       "      <td>17.0</td>\n",
       "    </tr>\n",
       "    <tr>\n",
       "      <th>4</th>\n",
       "      <td>5</td>\n",
       "      <td>farnborough, hants, united kingdom</td>\n",
       "      <td>NaN</td>\n",
       "    </tr>\n",
       "    <tr>\n",
       "      <th>...</th>\n",
       "      <td>...</td>\n",
       "      <td>...</td>\n",
       "      <td>...</td>\n",
       "    </tr>\n",
       "    <tr>\n",
       "      <th>278853</th>\n",
       "      <td>278854</td>\n",
       "      <td>portland, oregon, usa</td>\n",
       "      <td>NaN</td>\n",
       "    </tr>\n",
       "    <tr>\n",
       "      <th>278854</th>\n",
       "      <td>278855</td>\n",
       "      <td>tacoma, washington, united kingdom</td>\n",
       "      <td>50.0</td>\n",
       "    </tr>\n",
       "    <tr>\n",
       "      <th>278855</th>\n",
       "      <td>278856</td>\n",
       "      <td>brampton, ontario, canada</td>\n",
       "      <td>NaN</td>\n",
       "    </tr>\n",
       "    <tr>\n",
       "      <th>278856</th>\n",
       "      <td>278857</td>\n",
       "      <td>knoxville, tennessee, usa</td>\n",
       "      <td>NaN</td>\n",
       "    </tr>\n",
       "    <tr>\n",
       "      <th>278857</th>\n",
       "      <td>278858</td>\n",
       "      <td>dublin, n/a, ireland</td>\n",
       "      <td>NaN</td>\n",
       "    </tr>\n",
       "  </tbody>\n",
       "</table>\n",
       "<p>278858 rows × 3 columns</p>\n",
       "</div>"
      ],
      "text/plain": [
       "        User-ID                            Location   Age\n",
       "0             1                  nyc, new york, usa   NaN\n",
       "1             2           stockton, california, usa  18.0\n",
       "2             3     moscow, yukon territory, russia   NaN\n",
       "3             4           porto, v.n.gaia, portugal  17.0\n",
       "4             5  farnborough, hants, united kingdom   NaN\n",
       "...         ...                                 ...   ...\n",
       "278853   278854               portland, oregon, usa   NaN\n",
       "278854   278855  tacoma, washington, united kingdom  50.0\n",
       "278855   278856           brampton, ontario, canada   NaN\n",
       "278856   278857           knoxville, tennessee, usa   NaN\n",
       "278857   278858                dublin, n/a, ireland   NaN\n",
       "\n",
       "[278858 rows x 3 columns]"
      ]
     },
     "execution_count": 5,
     "metadata": {},
     "output_type": "execute_result"
    }
   ],
   "source": [
    "users"
   ]
  },
  {
   "cell_type": "code",
   "execution_count": 6,
   "id": "87503c3c",
   "metadata": {},
   "outputs": [
    {
     "data": {
      "application/vnd.microsoft.datawrangler.viewer.v0+json": {
       "columns": [
        {
         "name": "index",
         "rawType": "int64",
         "type": "integer"
        },
        {
         "name": "User-ID",
         "rawType": "int64",
         "type": "integer"
        },
        {
         "name": "ISBN",
         "rawType": "object",
         "type": "string"
        },
        {
         "name": "Book-Rating",
         "rawType": "int64",
         "type": "integer"
        }
       ],
       "ref": "b53c58de-5388-4d2d-af9d-637adadc77ff",
       "rows": [
        [
         "0",
         "276725",
         "034545104X",
         "0"
        ],
        [
         "1",
         "276726",
         "0155061224",
         "5"
        ],
        [
         "2",
         "276727",
         "0446520802",
         "0"
        ],
        [
         "3",
         "276729",
         "052165615X",
         "3"
        ],
        [
         "4",
         "276729",
         "0521795028",
         "6"
        ],
        [
         "5",
         "276733",
         "2080674722",
         "0"
        ],
        [
         "6",
         "276736",
         "3257224281",
         "8"
        ],
        [
         "7",
         "276737",
         "0600570967",
         "6"
        ],
        [
         "8",
         "276744",
         "038550120X",
         "7"
        ],
        [
         "9",
         "276745",
         "342310538",
         "10"
        ],
        [
         "10",
         "276746",
         "0425115801",
         "0"
        ],
        [
         "11",
         "276746",
         "0449006522",
         "0"
        ],
        [
         "12",
         "276746",
         "0553561618",
         "0"
        ],
        [
         "13",
         "276746",
         "055356451X",
         "0"
        ],
        [
         "14",
         "276746",
         "0786013990",
         "0"
        ],
        [
         "15",
         "276746",
         "0786014512",
         "0"
        ],
        [
         "16",
         "276747",
         "0060517794",
         "9"
        ],
        [
         "17",
         "276747",
         "0451192001",
         "0"
        ],
        [
         "18",
         "276747",
         "0609801279",
         "0"
        ],
        [
         "19",
         "276747",
         "0671537458",
         "9"
        ],
        [
         "20",
         "276747",
         "0679776818",
         "8"
        ],
        [
         "21",
         "276747",
         "0943066433",
         "7"
        ],
        [
         "22",
         "276747",
         "1570231028",
         "0"
        ],
        [
         "23",
         "276747",
         "1885408226",
         "7"
        ],
        [
         "24",
         "276748",
         "0747558167",
         "6"
        ],
        [
         "25",
         "276748",
         "3442437407",
         "0"
        ],
        [
         "26",
         "276751",
         "033390804X",
         "0"
        ],
        [
         "27",
         "276751",
         "3596218098",
         "8"
        ],
        [
         "28",
         "276754",
         "0684867621",
         "8"
        ],
        [
         "29",
         "276755",
         "0451166892",
         "5"
        ],
        [
         "30",
         "276760",
         "8440682697",
         "10"
        ],
        [
         "31",
         "276762",
         "034544003X",
         "0"
        ],
        [
         "32",
         "276762",
         "0380000059",
         "0"
        ],
        [
         "33",
         "276762",
         "0380711524",
         "5"
        ],
        [
         "34",
         "276762",
         "0451167317",
         "0"
        ],
        [
         "35",
         "276762",
         "0451454952",
         "0"
        ],
        [
         "36",
         "276762",
         "0843920262",
         "0"
        ],
        [
         "37",
         "276762",
         "3404122879",
         "0"
        ],
        [
         "38",
         "276762",
         "3404182928",
         "0"
        ],
        [
         "39",
         "276762",
         "3404611306",
         "0"
        ],
        [
         "40",
         "276762",
         "342662429",
         "0"
        ],
        [
         "41",
         "276762",
         "3426690179",
         "0"
        ],
        [
         "42",
         "276762",
         "3442424216",
         "0"
        ],
        [
         "43",
         "276762",
         "3442425573",
         "0"
        ],
        [
         "44",
         "276762",
         "3453092007",
         "8"
        ],
        [
         "45",
         "276762",
         "3453157745",
         "0"
        ],
        [
         "46",
         "276762",
         "3453176944",
         "0"
        ],
        [
         "47",
         "276762",
         "3453185137",
         "0"
        ],
        [
         "48",
         "276762",
         "3453185323",
         "0"
        ],
        [
         "49",
         "276762",
         "3453213025",
         "3"
        ]
       ],
       "shape": {
        "columns": 3,
        "rows": 1149780
       }
      },
      "text/html": [
       "<div>\n",
       "<style scoped>\n",
       "    .dataframe tbody tr th:only-of-type {\n",
       "        vertical-align: middle;\n",
       "    }\n",
       "\n",
       "    .dataframe tbody tr th {\n",
       "        vertical-align: top;\n",
       "    }\n",
       "\n",
       "    .dataframe thead th {\n",
       "        text-align: right;\n",
       "    }\n",
       "</style>\n",
       "<table border=\"1\" class=\"dataframe\">\n",
       "  <thead>\n",
       "    <tr style=\"text-align: right;\">\n",
       "      <th></th>\n",
       "      <th>User-ID</th>\n",
       "      <th>ISBN</th>\n",
       "      <th>Book-Rating</th>\n",
       "    </tr>\n",
       "  </thead>\n",
       "  <tbody>\n",
       "    <tr>\n",
       "      <th>0</th>\n",
       "      <td>276725</td>\n",
       "      <td>034545104X</td>\n",
       "      <td>0</td>\n",
       "    </tr>\n",
       "    <tr>\n",
       "      <th>1</th>\n",
       "      <td>276726</td>\n",
       "      <td>0155061224</td>\n",
       "      <td>5</td>\n",
       "    </tr>\n",
       "    <tr>\n",
       "      <th>2</th>\n",
       "      <td>276727</td>\n",
       "      <td>0446520802</td>\n",
       "      <td>0</td>\n",
       "    </tr>\n",
       "    <tr>\n",
       "      <th>3</th>\n",
       "      <td>276729</td>\n",
       "      <td>052165615X</td>\n",
       "      <td>3</td>\n",
       "    </tr>\n",
       "    <tr>\n",
       "      <th>4</th>\n",
       "      <td>276729</td>\n",
       "      <td>0521795028</td>\n",
       "      <td>6</td>\n",
       "    </tr>\n",
       "    <tr>\n",
       "      <th>...</th>\n",
       "      <td>...</td>\n",
       "      <td>...</td>\n",
       "      <td>...</td>\n",
       "    </tr>\n",
       "    <tr>\n",
       "      <th>1149775</th>\n",
       "      <td>276704</td>\n",
       "      <td>1563526298</td>\n",
       "      <td>9</td>\n",
       "    </tr>\n",
       "    <tr>\n",
       "      <th>1149776</th>\n",
       "      <td>276706</td>\n",
       "      <td>0679447156</td>\n",
       "      <td>0</td>\n",
       "    </tr>\n",
       "    <tr>\n",
       "      <th>1149777</th>\n",
       "      <td>276709</td>\n",
       "      <td>0515107662</td>\n",
       "      <td>10</td>\n",
       "    </tr>\n",
       "    <tr>\n",
       "      <th>1149778</th>\n",
       "      <td>276721</td>\n",
       "      <td>0590442449</td>\n",
       "      <td>10</td>\n",
       "    </tr>\n",
       "    <tr>\n",
       "      <th>1149779</th>\n",
       "      <td>276723</td>\n",
       "      <td>05162443314</td>\n",
       "      <td>8</td>\n",
       "    </tr>\n",
       "  </tbody>\n",
       "</table>\n",
       "<p>1149780 rows × 3 columns</p>\n",
       "</div>"
      ],
      "text/plain": [
       "         User-ID         ISBN  Book-Rating\n",
       "0         276725   034545104X            0\n",
       "1         276726   0155061224            5\n",
       "2         276727   0446520802            0\n",
       "3         276729   052165615X            3\n",
       "4         276729   0521795028            6\n",
       "...          ...          ...          ...\n",
       "1149775   276704   1563526298            9\n",
       "1149776   276706   0679447156            0\n",
       "1149777   276709   0515107662           10\n",
       "1149778   276721   0590442449           10\n",
       "1149779   276723  05162443314            8\n",
       "\n",
       "[1149780 rows x 3 columns]"
      ]
     },
     "execution_count": 6,
     "metadata": {},
     "output_type": "execute_result"
    }
   ],
   "source": [
    "ratings"
   ]
  },
  {
   "cell_type": "code",
   "execution_count": 7,
   "id": "6c0855f9",
   "metadata": {},
   "outputs": [
    {
     "name": "stdout",
     "output_type": "stream",
     "text": [
      "Shape of Books Dataframe =  (271360, 8)\n",
      "Shape of Users Dataframe =  (278858, 3)\n",
      "Shape of Ratings Dataframe =  (1149780, 3)\n"
     ]
    }
   ],
   "source": [
    "print(\"Shape of Books Dataframe = \", books.shape)\n",
    "print(\"Shape of Users Dataframe = \", users.shape)\n",
    "print(\"Shape of Ratings Dataframe = \", ratings.shape)"
   ]
  },
  {
   "cell_type": "code",
   "execution_count": 8,
   "id": "51118595",
   "metadata": {},
   "outputs": [
    {
     "data": {
      "application/vnd.microsoft.datawrangler.viewer.v0+json": {
       "columns": [
        {
         "name": "index",
         "rawType": "object",
         "type": "string"
        },
        {
         "name": "0",
         "rawType": "int64",
         "type": "integer"
        }
       ],
       "ref": "b9ebc9a9-e0f4-4f2e-a2d3-65137d94aaf5",
       "rows": [
        [
         "ISBN",
         "0"
        ],
        [
         "Book-Title",
         "0"
        ],
        [
         "Book-Author",
         "2"
        ],
        [
         "Year-Of-Publication",
         "0"
        ],
        [
         "Publisher",
         "2"
        ],
        [
         "Image-URL-S",
         "0"
        ],
        [
         "Image-URL-M",
         "0"
        ],
        [
         "Image-URL-L",
         "3"
        ]
       ],
       "shape": {
        "columns": 1,
        "rows": 8
       }
      },
      "text/plain": [
       "ISBN                   0\n",
       "Book-Title             0\n",
       "Book-Author            2\n",
       "Year-Of-Publication    0\n",
       "Publisher              2\n",
       "Image-URL-S            0\n",
       "Image-URL-M            0\n",
       "Image-URL-L            3\n",
       "dtype: int64"
      ]
     },
     "execution_count": 8,
     "metadata": {},
     "output_type": "execute_result"
    }
   ],
   "source": [
    "books.isnull().sum()"
   ]
  },
  {
   "cell_type": "code",
   "execution_count": 9,
   "id": "0e40dded",
   "metadata": {},
   "outputs": [
    {
     "data": {
      "application/vnd.microsoft.datawrangler.viewer.v0+json": {
       "columns": [
        {
         "name": "index",
         "rawType": "object",
         "type": "string"
        },
        {
         "name": "0",
         "rawType": "int64",
         "type": "integer"
        }
       ],
       "ref": "c354e51c-5a8f-458d-a673-19ea313a0f25",
       "rows": [
        [
         "User-ID",
         "0"
        ],
        [
         "Location",
         "0"
        ],
        [
         "Age",
         "110762"
        ]
       ],
       "shape": {
        "columns": 1,
        "rows": 3
       }
      },
      "text/plain": [
       "User-ID          0\n",
       "Location         0\n",
       "Age         110762\n",
       "dtype: int64"
      ]
     },
     "execution_count": 9,
     "metadata": {},
     "output_type": "execute_result"
    }
   ],
   "source": [
    "users.isnull().sum()"
   ]
  },
  {
   "cell_type": "code",
   "execution_count": 10,
   "id": "f7bd0f16",
   "metadata": {},
   "outputs": [
    {
     "data": {
      "application/vnd.microsoft.datawrangler.viewer.v0+json": {
       "columns": [
        {
         "name": "index",
         "rawType": "object",
         "type": "string"
        },
        {
         "name": "0",
         "rawType": "int64",
         "type": "integer"
        }
       ],
       "ref": "bb59faf0-14c1-4ab8-8a84-71993bf0960c",
       "rows": [
        [
         "User-ID",
         "0"
        ],
        [
         "ISBN",
         "0"
        ],
        [
         "Book-Rating",
         "0"
        ]
       ],
       "shape": {
        "columns": 1,
        "rows": 3
       }
      },
      "text/plain": [
       "User-ID        0\n",
       "ISBN           0\n",
       "Book-Rating    0\n",
       "dtype: int64"
      ]
     },
     "execution_count": 10,
     "metadata": {},
     "output_type": "execute_result"
    }
   ],
   "source": [
    "ratings.isnull().sum()"
   ]
  },
  {
   "cell_type": "code",
   "execution_count": 11,
   "id": "8f8d9124",
   "metadata": {},
   "outputs": [
    {
     "data": {
      "text/plain": [
       "np.int64(0)"
      ]
     },
     "execution_count": 11,
     "metadata": {},
     "output_type": "execute_result"
    }
   ],
   "source": [
    "books.duplicated().sum()"
   ]
  },
  {
   "cell_type": "code",
   "execution_count": 12,
   "id": "ee1fd79a",
   "metadata": {},
   "outputs": [
    {
     "data": {
      "text/plain": [
       "np.int64(0)"
      ]
     },
     "execution_count": 12,
     "metadata": {},
     "output_type": "execute_result"
    }
   ],
   "source": [
    "users.duplicated().sum()"
   ]
  },
  {
   "cell_type": "code",
   "execution_count": 13,
   "id": "5eb239b7",
   "metadata": {},
   "outputs": [
    {
     "data": {
      "text/plain": [
       "np.int64(0)"
      ]
     },
     "execution_count": 13,
     "metadata": {},
     "output_type": "execute_result"
    }
   ],
   "source": [
    "ratings.duplicated().sum()"
   ]
  },
  {
   "cell_type": "markdown",
   "id": "ee16668b",
   "metadata": {},
   "source": [
    "## Popularity Based Recommendation System"
   ]
  },
  {
   "cell_type": "code",
   "execution_count": 14,
   "id": "ced14a36",
   "metadata": {},
   "outputs": [],
   "source": [
    "ratings_and_books = ratings.merge(books,on=\"ISBN\")"
   ]
  },
  {
   "cell_type": "code",
   "execution_count": 15,
   "id": "488cba95",
   "metadata": {},
   "outputs": [
    {
     "data": {
      "application/vnd.microsoft.datawrangler.viewer.v0+json": {
       "columns": [
        {
         "name": "index",
         "rawType": "int64",
         "type": "integer"
        },
        {
         "name": "User-ID",
         "rawType": "int64",
         "type": "integer"
        },
        {
         "name": "ISBN",
         "rawType": "object",
         "type": "string"
        },
        {
         "name": "Book-Rating",
         "rawType": "int64",
         "type": "integer"
        },
        {
         "name": "Book-Title",
         "rawType": "object",
         "type": "string"
        },
        {
         "name": "Book-Author",
         "rawType": "object",
         "type": "unknown"
        },
        {
         "name": "Year-Of-Publication",
         "rawType": "object",
         "type": "unknown"
        },
        {
         "name": "Publisher",
         "rawType": "object",
         "type": "unknown"
        },
        {
         "name": "Image-URL-S",
         "rawType": "object",
         "type": "string"
        },
        {
         "name": "Image-URL-M",
         "rawType": "object",
         "type": "string"
        },
        {
         "name": "Image-URL-L",
         "rawType": "object",
         "type": "unknown"
        }
       ],
       "ref": "78b13189-e1aa-43bc-80ba-b3512df21738",
       "rows": [
        [
         "0",
         "276725",
         "034545104X",
         "0",
         "Flesh Tones: A Novel",
         "M. J. Rose",
         "2002",
         "Ballantine Books",
         "http://images.amazon.com/images/P/034545104X.01.THUMBZZZ.jpg",
         "http://images.amazon.com/images/P/034545104X.01.MZZZZZZZ.jpg",
         "http://images.amazon.com/images/P/034545104X.01.LZZZZZZZ.jpg"
        ],
        [
         "1",
         "276726",
         "0155061224",
         "5",
         "Rites of Passage",
         "Judith Rae",
         "2001",
         "Heinle",
         "http://images.amazon.com/images/P/0155061224.01.THUMBZZZ.jpg",
         "http://images.amazon.com/images/P/0155061224.01.MZZZZZZZ.jpg",
         "http://images.amazon.com/images/P/0155061224.01.LZZZZZZZ.jpg"
        ],
        [
         "2",
         "276727",
         "0446520802",
         "0",
         "The Notebook",
         "Nicholas Sparks",
         "1996",
         "Warner Books",
         "http://images.amazon.com/images/P/0446520802.01.THUMBZZZ.jpg",
         "http://images.amazon.com/images/P/0446520802.01.MZZZZZZZ.jpg",
         "http://images.amazon.com/images/P/0446520802.01.LZZZZZZZ.jpg"
        ],
        [
         "3",
         "276729",
         "052165615X",
         "3",
         "Help!: Level 1",
         "Philip Prowse",
         "1999",
         "Cambridge University Press",
         "http://images.amazon.com/images/P/052165615X.01.THUMBZZZ.jpg",
         "http://images.amazon.com/images/P/052165615X.01.MZZZZZZZ.jpg",
         "http://images.amazon.com/images/P/052165615X.01.LZZZZZZZ.jpg"
        ],
        [
         "4",
         "276729",
         "0521795028",
         "6",
         "The Amsterdam Connection : Level 4 (Cambridge English Readers)",
         "Sue Leather",
         "2001",
         "Cambridge University Press",
         "http://images.amazon.com/images/P/0521795028.01.THUMBZZZ.jpg",
         "http://images.amazon.com/images/P/0521795028.01.MZZZZZZZ.jpg",
         "http://images.amazon.com/images/P/0521795028.01.LZZZZZZZ.jpg"
        ],
        [
         "5",
         "276733",
         "2080674722",
         "0",
         "Les Particules Elementaires",
         "Michel Houellebecq",
         "1998",
         "Flammarion",
         "http://images.amazon.com/images/P/2080674722.01.THUMBZZZ.jpg",
         "http://images.amazon.com/images/P/2080674722.01.MZZZZZZZ.jpg",
         "http://images.amazon.com/images/P/2080674722.01.LZZZZZZZ.jpg"
        ],
        [
         "6",
         "276744",
         "038550120X",
         "7",
         "A Painted House",
         "JOHN GRISHAM",
         "2001",
         "Doubleday",
         "http://images.amazon.com/images/P/038550120X.01.THUMBZZZ.jpg",
         "http://images.amazon.com/images/P/038550120X.01.MZZZZZZZ.jpg",
         "http://images.amazon.com/images/P/038550120X.01.LZZZZZZZ.jpg"
        ],
        [
         "7",
         "276746",
         "0425115801",
         "0",
         "Lightning",
         "Dean R. Koontz",
         "1996",
         "Berkley Publishing Group",
         "http://images.amazon.com/images/P/0425115801.01.THUMBZZZ.jpg",
         "http://images.amazon.com/images/P/0425115801.01.MZZZZZZZ.jpg",
         "http://images.amazon.com/images/P/0425115801.01.LZZZZZZZ.jpg"
        ],
        [
         "8",
         "276746",
         "0449006522",
         "0",
         "Manhattan Hunt Club",
         "JOHN SAUL",
         "2002",
         "Ballantine Books",
         "http://images.amazon.com/images/P/0449006522.01.THUMBZZZ.jpg",
         "http://images.amazon.com/images/P/0449006522.01.MZZZZZZZ.jpg",
         "http://images.amazon.com/images/P/0449006522.01.LZZZZZZZ.jpg"
        ],
        [
         "9",
         "276746",
         "0553561618",
         "0",
         "Dark Paradise",
         "TAMI HOAG",
         "1994",
         "Bantam",
         "http://images.amazon.com/images/P/0553561618.01.THUMBZZZ.jpg",
         "http://images.amazon.com/images/P/0553561618.01.MZZZZZZZ.jpg",
         "http://images.amazon.com/images/P/0553561618.01.LZZZZZZZ.jpg"
        ],
        [
         "10",
         "276746",
         "055356451X",
         "0",
         "Night Sins",
         "TAMI HOAG",
         "1995",
         "Bantam",
         "http://images.amazon.com/images/P/055356451X.01.THUMBZZZ.jpg",
         "http://images.amazon.com/images/P/055356451X.01.MZZZZZZZ.jpg",
         "http://images.amazon.com/images/P/055356451X.01.LZZZZZZZ.jpg"
        ],
        [
         "11",
         "276746",
         "0786013990",
         "0",
         "At the Edge",
         "David Dun",
         "2002",
         "Pinnacle Books",
         "http://images.amazon.com/images/P/0786013990.01.THUMBZZZ.jpg",
         "http://images.amazon.com/images/P/0786013990.01.MZZZZZZZ.jpg",
         "http://images.amazon.com/images/P/0786013990.01.LZZZZZZZ.jpg"
        ],
        [
         "12",
         "276746",
         "0786014512",
         "0",
         "Make Them Cry",
         "Kevin O'Brien",
         "2002",
         "Pinnacle Books",
         "http://images.amazon.com/images/P/0786014512.01.THUMBZZZ.jpg",
         "http://images.amazon.com/images/P/0786014512.01.MZZZZZZZ.jpg",
         "http://images.amazon.com/images/P/0786014512.01.LZZZZZZZ.jpg"
        ],
        [
         "13",
         "276747",
         "0060517794",
         "9",
         "Little Altars Everywhere",
         "Rebecca Wells",
         "2003",
         "HarperTorch",
         "http://images.amazon.com/images/P/0060517794.01.THUMBZZZ.jpg",
         "http://images.amazon.com/images/P/0060517794.01.MZZZZZZZ.jpg",
         "http://images.amazon.com/images/P/0060517794.01.LZZZZZZZ.jpg"
        ],
        [
         "14",
         "276747",
         "0451192001",
         "0",
         "How Stella Got Her Groove Back",
         "Terry McMillan",
         "1997",
         "Signet Book",
         "http://images.amazon.com/images/P/0451192001.01.THUMBZZZ.jpg",
         "http://images.amazon.com/images/P/0451192001.01.MZZZZZZZ.jpg",
         "http://images.amazon.com/images/P/0451192001.01.LZZZZZZZ.jpg"
        ],
        [
         "15",
         "276747",
         "0609801279",
         "0",
         "The Law of Love",
         "Laura Esquivel",
         "1997",
         "Three Rivers Press (CA)",
         "http://images.amazon.com/images/P/0609801279.01.THUMBZZZ.jpg",
         "http://images.amazon.com/images/P/0609801279.01.MZZZZZZZ.jpg",
         "http://images.amazon.com/images/P/0609801279.01.LZZZZZZZ.jpg"
        ],
        [
         "16",
         "276747",
         "0671537458",
         "9",
         "Waiting to Exhale",
         "Terry McMillan",
         "1995",
         "Pocket",
         "http://images.amazon.com/images/P/0671537458.01.THUMBZZZ.jpg",
         "http://images.amazon.com/images/P/0671537458.01.MZZZZZZZ.jpg",
         "http://images.amazon.com/images/P/0671537458.01.LZZZZZZZ.jpg"
        ],
        [
         "17",
         "276747",
         "0679776818",
         "8",
         "Birdsong: A Novel of Love and War",
         "Sebastian Faulks",
         "1997",
         "Vintage Books USA",
         "http://images.amazon.com/images/P/0679776818.01.THUMBZZZ.jpg",
         "http://images.amazon.com/images/P/0679776818.01.MZZZZZZZ.jpg",
         "http://images.amazon.com/images/P/0679776818.01.LZZZZZZZ.jpg"
        ],
        [
         "18",
         "276747",
         "0943066433",
         "7",
         "How to Deal With Difficult People",
         "Rick Brinkman",
         "1995",
         "Careertrack Inc.",
         "http://images.amazon.com/images/P/0943066433.01.THUMBZZZ.jpg",
         "http://images.amazon.com/images/P/0943066433.01.MZZZZZZZ.jpg",
         "http://images.amazon.com/images/P/0943066433.01.LZZZZZZZ.jpg"
        ],
        [
         "19",
         "276747",
         "1570231028",
         "0",
         "Change Your Job, Change Your Life: High Impact Strategies for Finding Great Jobs in the Decade Ahead (Change Your Job Change Your Life, 7th ed)",
         "Ronald L. Krannich",
         "1999",
         "Impact Publications",
         "http://images.amazon.com/images/P/1570231028.01.THUMBZZZ.jpg",
         "http://images.amazon.com/images/P/1570231028.01.MZZZZZZZ.jpg",
         "http://images.amazon.com/images/P/1570231028.01.LZZZZZZZ.jpg"
        ],
        [
         "20",
         "276747",
         "1885408226",
         "7",
         "The Golden Rule of Schmoozing",
         "Aye Jaye",
         "1998",
         "Listen &amp; Live Audio",
         "http://images.amazon.com/images/P/1885408226.01.THUMBZZZ.jpg",
         "http://images.amazon.com/images/P/1885408226.01.MZZZZZZZ.jpg",
         "http://images.amazon.com/images/P/1885408226.01.LZZZZZZZ.jpg"
        ],
        [
         "21",
         "276748",
         "0747558167",
         "6",
         "Apricots on the Nile: A Memoir with Recipes",
         "Colette Rossant",
         "2002",
         "Bloomsbury Publishing Plc",
         "http://images.amazon.com/images/P/0747558167.01.THUMBZZZ.jpg",
         "http://images.amazon.com/images/P/0747558167.01.MZZZZZZZ.jpg",
         "http://images.amazon.com/images/P/0747558167.01.LZZZZZZZ.jpg"
        ],
        [
         "22",
         "276751",
         "3596218098",
         "8",
         "Reise nach Ixtlan. Die Lehre des Don Juan.",
         "Carlos Castaneda",
         "1998",
         "Fischer (Tb.), Frankfurt",
         "http://images.amazon.com/images/P/3596218098.01.THUMBZZZ.jpg",
         "http://images.amazon.com/images/P/3596218098.01.MZZZZZZZ.jpg",
         "http://images.amazon.com/images/P/3596218098.01.LZZZZZZZ.jpg"
        ],
        [
         "23",
         "276754",
         "0684867621",
         "8",
         "The Girl Who Loved Tom Gordon : A Novel",
         "Stephen King",
         "1999",
         "Scribner",
         "http://images.amazon.com/images/P/0684867621.01.THUMBZZZ.jpg",
         "http://images.amazon.com/images/P/0684867621.01.MZZZZZZZ.jpg",
         "http://images.amazon.com/images/P/0684867621.01.LZZZZZZZ.jpg"
        ],
        [
         "24",
         "276755",
         "0451166892",
         "5",
         "The Pillars of the Earth",
         "Ken Follett",
         "1996",
         "Signet Book",
         "http://images.amazon.com/images/P/0451166892.01.THUMBZZZ.jpg",
         "http://images.amazon.com/images/P/0451166892.01.MZZZZZZZ.jpg",
         "http://images.amazon.com/images/P/0451166892.01.LZZZZZZZ.jpg"
        ],
        [
         "25",
         "276762",
         "034544003X",
         "0",
         "Southampton Row (Charlotte &amp; Thomas Pitt Novels (Hardcover))",
         "Anne Perry",
         "2002",
         "Ballantine Books",
         "http://images.amazon.com/images/P/034544003X.01.THUMBZZZ.jpg",
         "http://images.amazon.com/images/P/034544003X.01.MZZZZZZZ.jpg",
         "http://images.amazon.com/images/P/034544003X.01.LZZZZZZZ.jpg"
        ],
        [
         "26",
         "276762",
         "0380000059",
         "0",
         "CLOUT",
         "D. GIBBONS",
         "2024",
         "Avon",
         "http://images.amazon.com/images/P/0380000059.01.THUMBZZZ.jpg",
         "http://images.amazon.com/images/P/0380000059.01.MZZZZZZZ.jpg",
         "http://images.amazon.com/images/P/0380000059.01.LZZZZZZZ.jpg"
        ],
        [
         "27",
         "276762",
         "0380711524",
         "5",
         "See Jane Run",
         "Joy Fielding",
         "1992",
         "Avon",
         "http://images.amazon.com/images/P/0380711524.01.THUMBZZZ.jpg",
         "http://images.amazon.com/images/P/0380711524.01.MZZZZZZZ.jpg",
         "http://images.amazon.com/images/P/0380711524.01.LZZZZZZZ.jpg"
        ],
        [
         "28",
         "276762",
         "0451167317",
         "0",
         "The Dark Half",
         "Stephen King",
         "1994",
         "Signet Book",
         "http://images.amazon.com/images/P/0451167317.01.THUMBZZZ.jpg",
         "http://images.amazon.com/images/P/0451167317.01.MZZZZZZZ.jpg",
         "http://images.amazon.com/images/P/0451167317.01.LZZZZZZZ.jpg"
        ],
        [
         "29",
         "276762",
         "0451454952",
         "0",
         "House of the Sun (Shadowrun)",
         "Fanpro",
         "2003",
         "Fanpro",
         "http://images.amazon.com/images/P/0451454952.01.THUMBZZZ.jpg",
         "http://images.amazon.com/images/P/0451454952.01.MZZZZZZZ.jpg",
         "http://images.amazon.com/images/P/0451454952.01.LZZZZZZZ.jpg"
        ],
        [
         "30",
         "276762",
         "0843920262",
         "0",
         "God Game",
         "Ralph Hayes",
         "1983",
         "Ingram Book Co",
         "http://images.amazon.com/images/P/0843920262.01.THUMBZZZ.jpg",
         "http://images.amazon.com/images/P/0843920262.01.MZZZZZZZ.jpg",
         "http://images.amazon.com/images/P/0843920262.01.LZZZZZZZ.jpg"
        ],
        [
         "31",
         "276762",
         "3404122879",
         "0",
         "Vater Himmel, Mutter Erde.",
         "Sue Harrison",
         "1995",
         "LÃ?Â¼bbe",
         "http://images.amazon.com/images/P/3404122879.01.THUMBZZZ.jpg",
         "http://images.amazon.com/images/P/3404122879.01.MZZZZZZZ.jpg",
         "http://images.amazon.com/images/P/3404122879.01.LZZZZZZZ.jpg"
        ],
        [
         "32",
         "276762",
         "3404182928",
         "0",
         "Besiegt vom Sturm der Leidenschaft.",
         "Patricia Potter",
         "2002",
         "LÃ?Â¼bbe",
         "http://images.amazon.com/images/P/3404182928.01.THUMBZZZ.jpg",
         "http://images.amazon.com/images/P/3404182928.01.MZZZZZZZ.jpg",
         "http://images.amazon.com/images/P/3404182928.01.LZZZZZZZ.jpg"
        ],
        [
         "33",
         "276762",
         "3426690179",
         "0",
         "Sturm der Liebe.",
         "Rosemary Rogers",
         "2001",
         "Droemer Knaur",
         "http://images.amazon.com/images/P/3426690179.01.THUMBZZZ.jpg",
         "http://images.amazon.com/images/P/3426690179.01.MZZZZZZZ.jpg",
         "http://images.amazon.com/images/P/3426690179.01.LZZZZZZZ.jpg"
        ],
        [
         "34",
         "276762",
         "3442424216",
         "0",
         "Ich, Prinzessin aus dem Hause Al Saud. Ein Leben hinter tausend Schleiern.",
         "Jean P. Sasson",
         "1994",
         "Goldmann",
         "http://images.amazon.com/images/P/3442424216.01.THUMBZZZ.jpg",
         "http://images.amazon.com/images/P/3442424216.01.MZZZZZZZ.jpg",
         "http://images.amazon.com/images/P/3442424216.01.LZZZZZZZ.jpg"
        ],
        [
         "35",
         "276762",
         "3442425573",
         "0",
         "Der BronzehÃ?Â¤ndler.",
         "Hanns Kneifel",
         "1996",
         "Goldmann",
         "http://images.amazon.com/images/P/3442425573.01.THUMBZZZ.jpg",
         "http://images.amazon.com/images/P/3442425573.01.MZZZZZZZ.jpg",
         "http://images.amazon.com/images/P/3442425573.01.LZZZZZZZ.jpg"
        ],
        [
         "36",
         "276762",
         "3453092007",
         "8",
         "Die zweite Haut.",
         "Dean Koontz",
         "1995",
         "Heyne",
         "http://images.amazon.com/images/P/3453092007.01.THUMBZZZ.jpg",
         "http://images.amazon.com/images/P/3453092007.01.MZZZZZZZ.jpg",
         "http://images.amazon.com/images/P/3453092007.01.LZZZZZZZ.jpg"
        ],
        [
         "37",
         "276762",
         "3453176944",
         "0",
         "Der Spion und die Zauberin.",
         "Susan King",
         "2000",
         "Heyne",
         "http://images.amazon.com/images/P/3453176944.01.THUMBZZZ.jpg",
         "http://images.amazon.com/images/P/3453176944.01.MZZZZZZZ.jpg",
         "http://images.amazon.com/images/P/3453176944.01.LZZZZZZZ.jpg"
        ],
        [
         "38",
         "276762",
         "3453185137",
         "0",
         "Prinz der Kelche.",
         "Gayle Feyrer",
         "2001",
         "Heyne",
         "http://images.amazon.com/images/P/3453185137.01.THUMBZZZ.jpg",
         "http://images.amazon.com/images/P/3453185137.01.MZZZZZZZ.jpg",
         "http://images.amazon.com/images/P/3453185137.01.LZZZZZZZ.jpg"
        ],
        [
         "39",
         "276762",
         "3453877241",
         "0",
         "Live aus Bagdad. Das Tagebuch einer Kriegs-Reporterin.",
         "Antonia Rados",
         "2003",
         "Heyne",
         "http://images.amazon.com/images/P/3453877241.01.THUMBZZZ.jpg",
         "http://images.amazon.com/images/P/3453877241.01.MZZZZZZZ.jpg",
         "http://images.amazon.com/images/P/3453877241.01.LZZZZZZZ.jpg"
        ],
        [
         "40",
         "276762",
         "3517017442",
         "0",
         "Durch TeebaumÃ?Â¶l gesund und schÃ?Â¶n.",
         "Heidelore Kluge",
         "1995",
         "SÃ?Â¼dwest-Verlag",
         "http://images.amazon.com/images/P/3517017442.01.THUMBZZZ.jpg",
         "http://images.amazon.com/images/P/3517017442.01.MZZZZZZZ.jpg",
         "http://images.amazon.com/images/P/3517017442.01.LZZZZZZZ.jpg"
        ],
        [
         "41",
         "276762",
         "3596125006",
         "0",
         "Briefe der Liebe.",
         "Maria Nurowska",
         "1995",
         "Fischer (Tb.), Frankfurt",
         "http://images.amazon.com/images/P/3596125006.01.THUMBZZZ.jpg",
         "http://images.amazon.com/images/P/3596125006.01.MZZZZZZZ.jpg",
         "http://images.amazon.com/images/P/3596125006.01.LZZZZZZZ.jpg"
        ],
        [
         "42",
         "276772",
         "0140279091",
         "0",
         "Saving Private Ryan",
         "Max Allan Collins",
         "1998",
         "Penguin Books Ltd",
         "http://images.amazon.com/images/P/0140279091.01.THUMBZZZ.jpg",
         "http://images.amazon.com/images/P/0140279091.01.MZZZZZZZ.jpg",
         "http://images.amazon.com/images/P/0140279091.01.LZZZZZZZ.jpg"
        ],
        [
         "43",
         "276772",
         "0553572369",
         "7",
         "Pay Dirt (Mrs. Murphy Mysteries (Paperback))",
         "RITA MAE BROWN",
         "1996",
         "Bantam",
         "http://images.amazon.com/images/P/0553572369.01.THUMBZZZ.jpg",
         "http://images.amazon.com/images/P/0553572369.01.MZZZZZZZ.jpg",
         "http://images.amazon.com/images/P/0553572369.01.LZZZZZZZ.jpg"
        ],
        [
         "44",
         "276772",
         "0571058086",
         "0",
         "Waiting for Godot",
         "Samuel Beckett",
         "0",
         "Faber Faber Inc",
         "http://images.amazon.com/images/P/0571058086.01.THUMBZZZ.jpg",
         "http://images.amazon.com/images/P/0571058086.01.MZZZZZZZ.jpg",
         "http://images.amazon.com/images/P/0571058086.01.LZZZZZZZ.jpg"
        ],
        [
         "45",
         "276772",
         "3499230933",
         "10",
         "Adressat unbekannt.",
         "Kathrine Kressmann Taylor",
         "2002",
         "Rowohlt Tb.",
         "http://images.amazon.com/images/P/3499230933.01.THUMBZZZ.jpg",
         "http://images.amazon.com/images/P/3499230933.01.MZZZZZZZ.jpg",
         "http://images.amazon.com/images/P/3499230933.01.LZZZZZZZ.jpg"
        ],
        [
         "46",
         "276772",
         "3596151465",
         "10",
         "Henry der Held.",
         "Roddy Doyle",
         "2001",
         "Fischer (Tb.), Frankfurt",
         "http://images.amazon.com/images/P/3596151465.01.THUMBZZZ.jpg",
         "http://images.amazon.com/images/P/3596151465.01.MZZZZZZZ.jpg",
         "http://images.amazon.com/images/P/3596151465.01.LZZZZZZZ.jpg"
        ],
        [
         "47",
         "276774",
         "0099543818",
         "0",
         "East, West",
         "Salman Rushdie",
         "1995",
         "Vintage Books",
         "http://images.amazon.com/images/P/0099543818.01.THUMBZZZ.jpg",
         "http://images.amazon.com/images/P/0099543818.01.MZZZZZZZ.jpg",
         "http://images.amazon.com/images/P/0099543818.01.LZZZZZZZ.jpg"
        ],
        [
         "48",
         "276774",
         "3404147723",
         "0",
         "Im Schatten der Lilie. Die Erinnerungen der Eleonore von Aquitanien.",
         "Patrice Leavold",
         "2002",
         "LÃ?Â¼bbe",
         "http://images.amazon.com/images/P/3404147723.01.THUMBZZZ.jpg",
         "http://images.amazon.com/images/P/3404147723.01.MZZZZZZZ.jpg",
         "http://images.amazon.com/images/P/3404147723.01.LZZZZZZZ.jpg"
        ],
        [
         "49",
         "276774",
         "3423111321",
         "0",
         "Die Teufelin. Roman.",
         "Fay Weldon",
         "1989",
         "Dtv",
         "http://images.amazon.com/images/P/3423111321.01.THUMBZZZ.jpg",
         "http://images.amazon.com/images/P/3423111321.01.MZZZZZZZ.jpg",
         "http://images.amazon.com/images/P/3423111321.01.LZZZZZZZ.jpg"
        ]
       ],
       "shape": {
        "columns": 10,
        "rows": 1031136
       }
      },
      "text/html": [
       "<div>\n",
       "<style scoped>\n",
       "    .dataframe tbody tr th:only-of-type {\n",
       "        vertical-align: middle;\n",
       "    }\n",
       "\n",
       "    .dataframe tbody tr th {\n",
       "        vertical-align: top;\n",
       "    }\n",
       "\n",
       "    .dataframe thead th {\n",
       "        text-align: right;\n",
       "    }\n",
       "</style>\n",
       "<table border=\"1\" class=\"dataframe\">\n",
       "  <thead>\n",
       "    <tr style=\"text-align: right;\">\n",
       "      <th></th>\n",
       "      <th>User-ID</th>\n",
       "      <th>ISBN</th>\n",
       "      <th>Book-Rating</th>\n",
       "      <th>Book-Title</th>\n",
       "      <th>Book-Author</th>\n",
       "      <th>Year-Of-Publication</th>\n",
       "      <th>Publisher</th>\n",
       "      <th>Image-URL-S</th>\n",
       "      <th>Image-URL-M</th>\n",
       "      <th>Image-URL-L</th>\n",
       "    </tr>\n",
       "  </thead>\n",
       "  <tbody>\n",
       "    <tr>\n",
       "      <th>0</th>\n",
       "      <td>276725</td>\n",
       "      <td>034545104X</td>\n",
       "      <td>0</td>\n",
       "      <td>Flesh Tones: A Novel</td>\n",
       "      <td>M. J. Rose</td>\n",
       "      <td>2002</td>\n",
       "      <td>Ballantine Books</td>\n",
       "      <td>http://images.amazon.com/images/P/034545104X.0...</td>\n",
       "      <td>http://images.amazon.com/images/P/034545104X.0...</td>\n",
       "      <td>http://images.amazon.com/images/P/034545104X.0...</td>\n",
       "    </tr>\n",
       "    <tr>\n",
       "      <th>1</th>\n",
       "      <td>276726</td>\n",
       "      <td>0155061224</td>\n",
       "      <td>5</td>\n",
       "      <td>Rites of Passage</td>\n",
       "      <td>Judith Rae</td>\n",
       "      <td>2001</td>\n",
       "      <td>Heinle</td>\n",
       "      <td>http://images.amazon.com/images/P/0155061224.0...</td>\n",
       "      <td>http://images.amazon.com/images/P/0155061224.0...</td>\n",
       "      <td>http://images.amazon.com/images/P/0155061224.0...</td>\n",
       "    </tr>\n",
       "    <tr>\n",
       "      <th>2</th>\n",
       "      <td>276727</td>\n",
       "      <td>0446520802</td>\n",
       "      <td>0</td>\n",
       "      <td>The Notebook</td>\n",
       "      <td>Nicholas Sparks</td>\n",
       "      <td>1996</td>\n",
       "      <td>Warner Books</td>\n",
       "      <td>http://images.amazon.com/images/P/0446520802.0...</td>\n",
       "      <td>http://images.amazon.com/images/P/0446520802.0...</td>\n",
       "      <td>http://images.amazon.com/images/P/0446520802.0...</td>\n",
       "    </tr>\n",
       "    <tr>\n",
       "      <th>3</th>\n",
       "      <td>276729</td>\n",
       "      <td>052165615X</td>\n",
       "      <td>3</td>\n",
       "      <td>Help!: Level 1</td>\n",
       "      <td>Philip Prowse</td>\n",
       "      <td>1999</td>\n",
       "      <td>Cambridge University Press</td>\n",
       "      <td>http://images.amazon.com/images/P/052165615X.0...</td>\n",
       "      <td>http://images.amazon.com/images/P/052165615X.0...</td>\n",
       "      <td>http://images.amazon.com/images/P/052165615X.0...</td>\n",
       "    </tr>\n",
       "    <tr>\n",
       "      <th>4</th>\n",
       "      <td>276729</td>\n",
       "      <td>0521795028</td>\n",
       "      <td>6</td>\n",
       "      <td>The Amsterdam Connection : Level 4 (Cambridge ...</td>\n",
       "      <td>Sue Leather</td>\n",
       "      <td>2001</td>\n",
       "      <td>Cambridge University Press</td>\n",
       "      <td>http://images.amazon.com/images/P/0521795028.0...</td>\n",
       "      <td>http://images.amazon.com/images/P/0521795028.0...</td>\n",
       "      <td>http://images.amazon.com/images/P/0521795028.0...</td>\n",
       "    </tr>\n",
       "    <tr>\n",
       "      <th>...</th>\n",
       "      <td>...</td>\n",
       "      <td>...</td>\n",
       "      <td>...</td>\n",
       "      <td>...</td>\n",
       "      <td>...</td>\n",
       "      <td>...</td>\n",
       "      <td>...</td>\n",
       "      <td>...</td>\n",
       "      <td>...</td>\n",
       "      <td>...</td>\n",
       "    </tr>\n",
       "    <tr>\n",
       "      <th>1031131</th>\n",
       "      <td>276704</td>\n",
       "      <td>0876044011</td>\n",
       "      <td>0</td>\n",
       "      <td>Edgar Cayce on the Akashic Records: The Book o...</td>\n",
       "      <td>Kevin J. Todeschi</td>\n",
       "      <td>1998</td>\n",
       "      <td>A.R.E. Press (Association of Research &amp;amp; Enlig</td>\n",
       "      <td>http://images.amazon.com/images/P/0876044011.0...</td>\n",
       "      <td>http://images.amazon.com/images/P/0876044011.0...</td>\n",
       "      <td>http://images.amazon.com/images/P/0876044011.0...</td>\n",
       "    </tr>\n",
       "    <tr>\n",
       "      <th>1031132</th>\n",
       "      <td>276704</td>\n",
       "      <td>1563526298</td>\n",
       "      <td>9</td>\n",
       "      <td>Get Clark Smart : The Ultimate Guide for the S...</td>\n",
       "      <td>Clark Howard</td>\n",
       "      <td>2000</td>\n",
       "      <td>Longstreet Press</td>\n",
       "      <td>http://images.amazon.com/images/P/1563526298.0...</td>\n",
       "      <td>http://images.amazon.com/images/P/1563526298.0...</td>\n",
       "      <td>http://images.amazon.com/images/P/1563526298.0...</td>\n",
       "    </tr>\n",
       "    <tr>\n",
       "      <th>1031133</th>\n",
       "      <td>276706</td>\n",
       "      <td>0679447156</td>\n",
       "      <td>0</td>\n",
       "      <td>Eight Weeks to Optimum Health: A Proven Progra...</td>\n",
       "      <td>Andrew Weil</td>\n",
       "      <td>1997</td>\n",
       "      <td>Alfred A. Knopf</td>\n",
       "      <td>http://images.amazon.com/images/P/0679447156.0...</td>\n",
       "      <td>http://images.amazon.com/images/P/0679447156.0...</td>\n",
       "      <td>http://images.amazon.com/images/P/0679447156.0...</td>\n",
       "    </tr>\n",
       "    <tr>\n",
       "      <th>1031134</th>\n",
       "      <td>276709</td>\n",
       "      <td>0515107662</td>\n",
       "      <td>10</td>\n",
       "      <td>The Sherbrooke Bride (Bride Trilogy (Paperback))</td>\n",
       "      <td>Catherine Coulter</td>\n",
       "      <td>1996</td>\n",
       "      <td>Jove Books</td>\n",
       "      <td>http://images.amazon.com/images/P/0515107662.0...</td>\n",
       "      <td>http://images.amazon.com/images/P/0515107662.0...</td>\n",
       "      <td>http://images.amazon.com/images/P/0515107662.0...</td>\n",
       "    </tr>\n",
       "    <tr>\n",
       "      <th>1031135</th>\n",
       "      <td>276721</td>\n",
       "      <td>0590442449</td>\n",
       "      <td>10</td>\n",
       "      <td>Fourth Grade Rats</td>\n",
       "      <td>Jerry Spinelli</td>\n",
       "      <td>1996</td>\n",
       "      <td>Scholastic</td>\n",
       "      <td>http://images.amazon.com/images/P/0590442449.0...</td>\n",
       "      <td>http://images.amazon.com/images/P/0590442449.0...</td>\n",
       "      <td>http://images.amazon.com/images/P/0590442449.0...</td>\n",
       "    </tr>\n",
       "  </tbody>\n",
       "</table>\n",
       "<p>1031136 rows × 10 columns</p>\n",
       "</div>"
      ],
      "text/plain": [
       "         User-ID        ISBN  Book-Rating  \\\n",
       "0         276725  034545104X            0   \n",
       "1         276726  0155061224            5   \n",
       "2         276727  0446520802            0   \n",
       "3         276729  052165615X            3   \n",
       "4         276729  0521795028            6   \n",
       "...          ...         ...          ...   \n",
       "1031131   276704  0876044011            0   \n",
       "1031132   276704  1563526298            9   \n",
       "1031133   276706  0679447156            0   \n",
       "1031134   276709  0515107662           10   \n",
       "1031135   276721  0590442449           10   \n",
       "\n",
       "                                                Book-Title        Book-Author  \\\n",
       "0                                     Flesh Tones: A Novel         M. J. Rose   \n",
       "1                                         Rites of Passage         Judith Rae   \n",
       "2                                             The Notebook    Nicholas Sparks   \n",
       "3                                           Help!: Level 1      Philip Prowse   \n",
       "4        The Amsterdam Connection : Level 4 (Cambridge ...        Sue Leather   \n",
       "...                                                    ...                ...   \n",
       "1031131  Edgar Cayce on the Akashic Records: The Book o...  Kevin J. Todeschi   \n",
       "1031132  Get Clark Smart : The Ultimate Guide for the S...       Clark Howard   \n",
       "1031133  Eight Weeks to Optimum Health: A Proven Progra...        Andrew Weil   \n",
       "1031134   The Sherbrooke Bride (Bride Trilogy (Paperback))  Catherine Coulter   \n",
       "1031135                                  Fourth Grade Rats     Jerry Spinelli   \n",
       "\n",
       "        Year-Of-Publication  \\\n",
       "0                      2002   \n",
       "1                      2001   \n",
       "2                      1996   \n",
       "3                      1999   \n",
       "4                      2001   \n",
       "...                     ...   \n",
       "1031131                1998   \n",
       "1031132                2000   \n",
       "1031133                1997   \n",
       "1031134                1996   \n",
       "1031135                1996   \n",
       "\n",
       "                                                 Publisher  \\\n",
       "0                                         Ballantine Books   \n",
       "1                                                   Heinle   \n",
       "2                                             Warner Books   \n",
       "3                               Cambridge University Press   \n",
       "4                               Cambridge University Press   \n",
       "...                                                    ...   \n",
       "1031131  A.R.E. Press (Association of Research &amp; Enlig   \n",
       "1031132                                   Longstreet Press   \n",
       "1031133                                    Alfred A. Knopf   \n",
       "1031134                                         Jove Books   \n",
       "1031135                                         Scholastic   \n",
       "\n",
       "                                               Image-URL-S  \\\n",
       "0        http://images.amazon.com/images/P/034545104X.0...   \n",
       "1        http://images.amazon.com/images/P/0155061224.0...   \n",
       "2        http://images.amazon.com/images/P/0446520802.0...   \n",
       "3        http://images.amazon.com/images/P/052165615X.0...   \n",
       "4        http://images.amazon.com/images/P/0521795028.0...   \n",
       "...                                                    ...   \n",
       "1031131  http://images.amazon.com/images/P/0876044011.0...   \n",
       "1031132  http://images.amazon.com/images/P/1563526298.0...   \n",
       "1031133  http://images.amazon.com/images/P/0679447156.0...   \n",
       "1031134  http://images.amazon.com/images/P/0515107662.0...   \n",
       "1031135  http://images.amazon.com/images/P/0590442449.0...   \n",
       "\n",
       "                                               Image-URL-M  \\\n",
       "0        http://images.amazon.com/images/P/034545104X.0...   \n",
       "1        http://images.amazon.com/images/P/0155061224.0...   \n",
       "2        http://images.amazon.com/images/P/0446520802.0...   \n",
       "3        http://images.amazon.com/images/P/052165615X.0...   \n",
       "4        http://images.amazon.com/images/P/0521795028.0...   \n",
       "...                                                    ...   \n",
       "1031131  http://images.amazon.com/images/P/0876044011.0...   \n",
       "1031132  http://images.amazon.com/images/P/1563526298.0...   \n",
       "1031133  http://images.amazon.com/images/P/0679447156.0...   \n",
       "1031134  http://images.amazon.com/images/P/0515107662.0...   \n",
       "1031135  http://images.amazon.com/images/P/0590442449.0...   \n",
       "\n",
       "                                               Image-URL-L  \n",
       "0        http://images.amazon.com/images/P/034545104X.0...  \n",
       "1        http://images.amazon.com/images/P/0155061224.0...  \n",
       "2        http://images.amazon.com/images/P/0446520802.0...  \n",
       "3        http://images.amazon.com/images/P/052165615X.0...  \n",
       "4        http://images.amazon.com/images/P/0521795028.0...  \n",
       "...                                                    ...  \n",
       "1031131  http://images.amazon.com/images/P/0876044011.0...  \n",
       "1031132  http://images.amazon.com/images/P/1563526298.0...  \n",
       "1031133  http://images.amazon.com/images/P/0679447156.0...  \n",
       "1031134  http://images.amazon.com/images/P/0515107662.0...  \n",
       "1031135  http://images.amazon.com/images/P/0590442449.0...  \n",
       "\n",
       "[1031136 rows x 10 columns]"
      ]
     },
     "execution_count": 15,
     "metadata": {},
     "output_type": "execute_result"
    }
   ],
   "source": [
    "ratings_and_books"
   ]
  },
  {
   "cell_type": "code",
   "execution_count": 16,
   "id": "b22385c6",
   "metadata": {},
   "outputs": [
    {
     "data": {
      "application/vnd.microsoft.datawrangler.viewer.v0+json": {
       "columns": [
        {
         "name": "Book-Title",
         "rawType": "object",
         "type": "string"
        },
        {
         "name": "User-ID",
         "rawType": "int64",
         "type": "integer"
        },
        {
         "name": "ISBN",
         "rawType": "int64",
         "type": "integer"
        },
        {
         "name": "Book-Rating",
         "rawType": "int64",
         "type": "integer"
        },
        {
         "name": "Book-Author",
         "rawType": "int64",
         "type": "integer"
        },
        {
         "name": "Year-Of-Publication",
         "rawType": "int64",
         "type": "integer"
        },
        {
         "name": "Publisher",
         "rawType": "int64",
         "type": "integer"
        },
        {
         "name": "Image-URL-S",
         "rawType": "int64",
         "type": "integer"
        },
        {
         "name": "Image-URL-M",
         "rawType": "int64",
         "type": "integer"
        },
        {
         "name": "Image-URL-L",
         "rawType": "int64",
         "type": "integer"
        }
       ],
       "ref": "e0d7c183-609a-4d31-aec8-7c9ac05fe83a",
       "rows": [
        [
         " A Light in the Storm: The Civil War Diary of Amelia Martin, Fenwick Island, Delaware, 1861 (Dear America)",
         "4",
         "4",
         "4",
         "4",
         "4",
         "4",
         "4",
         "4",
         "4"
        ],
        [
         " Always Have Popsicles",
         "1",
         "1",
         "1",
         "1",
         "1",
         "1",
         "1",
         "1",
         "1"
        ],
        [
         " Apple Magic (The Collector's series)",
         "1",
         "1",
         "1",
         "1",
         "1",
         "1",
         "1",
         "1",
         "1"
        ],
        [
         " Ask Lily (Young Women of Faith: Lily Series, Book 5)",
         "1",
         "1",
         "1",
         "1",
         "1",
         "1",
         "1",
         "1",
         "1"
        ],
        [
         " Beyond IBM: Leadership Marketing and Finance for the 1990s",
         "1",
         "1",
         "1",
         "1",
         "1",
         "1",
         "1",
         "1",
         "1"
        ],
        [
         " Clifford Visita El Hospital (Clifford El Gran Perro Colorado)",
         "1",
         "1",
         "1",
         "1",
         "1",
         "1",
         "1",
         "1",
         "1"
        ],
        [
         " Dark Justice",
         "1",
         "1",
         "1",
         "1",
         "1",
         "1",
         "1",
         "1",
         "1"
        ],
        [
         " Deceived",
         "2",
         "2",
         "2",
         "2",
         "2",
         "2",
         "2",
         "2",
         "2"
        ],
        [
         " Earth Prayers From around the World: 365 Prayers, Poems, and Invocations for Honoring the Earth",
         "10",
         "10",
         "10",
         "10",
         "10",
         "10",
         "10",
         "10",
         "10"
        ],
        [
         " Final Fantasy Anthology: Official Strategy Guide (Brady Games)",
         "4",
         "4",
         "4",
         "4",
         "4",
         "4",
         "4",
         "4",
         "4"
        ],
        [
         " Flight of Fancy: American Heiresses (Zebra Ballad Romance)",
         "2",
         "2",
         "2",
         "2",
         "2",
         "2",
         "2",
         "2",
         "2"
        ],
        [
         " Garfield Bigger and Better (Garfield (Numbered Paperback))",
         "2",
         "2",
         "2",
         "2",
         "2",
         "2",
         "2",
         "2",
         "2"
        ],
        [
         " God's Little Promise Book",
         "2",
         "2",
         "2",
         "2",
         "2",
         "2",
         "2",
         "2",
         "2"
        ],
        [
         " Good Wives: Image and Reality in the Lives of Women in Northern New England, 1650-1750",
         "10",
         "10",
         "10",
         "10",
         "10",
         "10",
         "10",
         "10",
         "10"
        ],
        [
         " Goosebumps Monster Edition 1: Welcome to Dead House, Stay Out of the Basement, and Say Cheese and Die!",
         "9",
         "9",
         "9",
         "9",
         "9",
         "9",
         "9",
         "9",
         "9"
        ],
        [
         " Harry Potter and the Bible: The Menace Behind the Magick (And the Bible Series)",
         "1",
         "1",
         "1",
         "1",
         "1",
         "1",
         "1",
         "1",
         "1"
        ],
        [
         " Highland Desire (Zebra Splendor Historical Romances)",
         "1",
         "1",
         "1",
         "1",
         "1",
         "1",
         "1",
         "1",
         "1"
        ],
        [
         " Hiking the California Coastal Trail: Oregon to Monterey",
         "1",
         "1",
         "1",
         "1",
         "1",
         "1",
         "1",
         "1",
         "1"
        ],
        [
         " It Takes Two",
         "2",
         "2",
         "2",
         "2",
         "2",
         "2",
         "2",
         "2",
         "2"
        ],
        [
         " LA Gallinita Roja/the Little Red Hen",
         "2",
         "2",
         "2",
         "2",
         "2",
         "2",
         "2",
         "2",
         "2"
        ],
        [
         " Little Comic Shop of Horrors (Give Yourself Goosebumps, Book 17)",
         "4",
         "4",
         "4",
         "4",
         "4",
         "4",
         "4",
         "4",
         "4"
        ],
        [
         " Microsoft Application Architecture For Microsoft .net: Designing Application (Pro-Other)",
         "1",
         "1",
         "1",
         "1",
         "1",
         "1",
         "1",
         "1",
         "1"
        ],
        [
         " Murder of a Sleeping Beauty (Scumble River Mysteries (Paperback))",
         "11",
         "11",
         "11",
         "11",
         "11",
         "11",
         "11",
         "11",
         "11"
        ],
        [
         " Mystery Mile",
         "2",
         "2",
         "2",
         "2",
         "2",
         "2",
         "2",
         "2",
         "2"
        ],
        [
         " Nonbook Materials: The Organization of Integrated Collections",
         "1",
         "1",
         "1",
         "1",
         "1",
         "1",
         "1",
         "1",
         "1"
        ],
        [
         " Pokemon: The Official Collector's Sticker Book",
         "1",
         "1",
         "1",
         "1",
         "1",
         "1",
         "1",
         "1",
         "1"
        ],
        [
         " Q-Space (Star Trek The Next Generation, Book 47)",
         "17",
         "17",
         "17",
         "17",
         "17",
         "17",
         "17",
         "17",
         "17"
        ],
        [
         " Q-Zone (Star Trek The Next Generation, Book 48)",
         "11",
         "11",
         "11",
         "11",
         "11",
         "11",
         "11",
         "11",
         "11"
        ],
        [
         " Stories of an Imaginary Childhood",
         "1",
         "1",
         "1",
         "1",
         "1",
         "1",
         "1",
         "1",
         "1"
        ],
        [
         " Summonings: Books of Magic, Vol. 2",
         "2",
         "2",
         "2",
         "2",
         "2",
         "2",
         "2",
         "2",
         "2"
        ],
        [
         " Tales of Terror and Suspense",
         "1",
         "1",
         "1",
         "1",
         "1",
         "1",
         "1",
         "1",
         "1"
        ],
        [
         " The Secret of the Old Clock (Nancy Drew, Book 1)",
         "3",
         "3",
         "3",
         "3",
         "3",
         "3",
         "3",
         "3",
         "3"
        ],
        [
         " The Tender Commandments : Reflections on the Father's Love",
         "2",
         "2",
         "2",
         "2",
         "2",
         "2",
         "2",
         "2",
         "2"
        ],
        [
         " The Town Cats and Other Tales",
         "1",
         "1",
         "1",
         "1",
         "1",
         "1",
         "1",
         "1",
         "1"
        ],
        [
         " This Place Has No Atmosphere (Laurel-Leaf Books)",
         "9",
         "9",
         "9",
         "9",
         "9",
         "9",
         "9",
         "9",
         "9"
        ],
        [
         " Tough Loser",
         "1",
         "1",
         "1",
         "1",
         "1",
         "1",
         "1",
         "1",
         "1"
        ],
        [
         " Travel Companion Chile and Easter Island (Travel Companion)",
         "1",
         "1",
         "1",
         "1",
         "1",
         "1",
         "1",
         "1",
         "1"
        ],
        [
         " Twenty Thousand Leagues Under the Sea (Illustrated Classics)",
         "1",
         "1",
         "1",
         "1",
         "1",
         "1",
         "1",
         "1",
         "1"
        ],
        [
         " Weird News Stories",
         "2",
         "2",
         "2",
         "2",
         "2",
         "2",
         "2",
         "2",
         "2"
        ],
        [
         " Zap!: Science Fair Surprise! (Abracadabra!, Book 5)",
         "1",
         "1",
         "1",
         "1",
         "1",
         "1",
         "1",
         "1",
         "1"
        ],
        [
         " the Devil Will Drag You Under",
         "1",
         "1",
         "1",
         "1",
         "1",
         "1",
         "1",
         "1",
         "1"
        ],
        [
         "!%@ (A Nutshell handbook)",
         "2",
         "2",
         "2",
         "2",
         "2",
         "2",
         "2",
         "2",
         "2"
        ],
        [
         "!Arriba! Comunicacion y cultura",
         "2",
         "2",
         "2",
         "2",
         "2",
         "2",
         "2",
         "2",
         "2"
        ],
        [
         "!Trato hecho!: Spanish for Real Life, Combined Edition",
         "1",
         "1",
         "1",
         "1",
         "1",
         "1",
         "1",
         "1",
         "1"
        ],
        [
         "!Yo!",
         "11",
         "11",
         "11",
         "11",
         "11",
         "11",
         "11",
         "11",
         "11"
        ],
        [
         "$14 In The Bank (Cathy Collection)",
         "5",
         "5",
         "5",
         "5",
         "5",
         "5",
         "5",
         "5",
         "5"
        ],
        [
         "$30 Film School",
         "1",
         "1",
         "1",
         "1",
         "1",
         "1",
         "1",
         "1",
         "1"
        ],
        [
         "$Weet Deal$",
         "1",
         "1",
         "1",
         "1",
         "1",
         "1",
         "1",
         "1",
         "1"
        ],
        [
         "$oft Money: The True Power in Our Nation's Capital",
         "5",
         "5",
         "5",
         "5",
         "5",
         "5",
         "5",
         "5",
         "5"
        ],
        [
         "' Allo 'Allo: the War Diaries of Rene Artois",
         "1",
         "1",
         "1",
         "1",
         "1",
         "1",
         "1",
         "1",
         "1"
        ]
       ],
       "shape": {
        "columns": 9,
        "rows": 241071
       }
      },
      "text/html": [
       "<div>\n",
       "<style scoped>\n",
       "    .dataframe tbody tr th:only-of-type {\n",
       "        vertical-align: middle;\n",
       "    }\n",
       "\n",
       "    .dataframe tbody tr th {\n",
       "        vertical-align: top;\n",
       "    }\n",
       "\n",
       "    .dataframe thead th {\n",
       "        text-align: right;\n",
       "    }\n",
       "</style>\n",
       "<table border=\"1\" class=\"dataframe\">\n",
       "  <thead>\n",
       "    <tr style=\"text-align: right;\">\n",
       "      <th></th>\n",
       "      <th>User-ID</th>\n",
       "      <th>ISBN</th>\n",
       "      <th>Book-Rating</th>\n",
       "      <th>Book-Author</th>\n",
       "      <th>Year-Of-Publication</th>\n",
       "      <th>Publisher</th>\n",
       "      <th>Image-URL-S</th>\n",
       "      <th>Image-URL-M</th>\n",
       "      <th>Image-URL-L</th>\n",
       "    </tr>\n",
       "    <tr>\n",
       "      <th>Book-Title</th>\n",
       "      <th></th>\n",
       "      <th></th>\n",
       "      <th></th>\n",
       "      <th></th>\n",
       "      <th></th>\n",
       "      <th></th>\n",
       "      <th></th>\n",
       "      <th></th>\n",
       "      <th></th>\n",
       "    </tr>\n",
       "  </thead>\n",
       "  <tbody>\n",
       "    <tr>\n",
       "      <th>A Light in the Storm: The Civil War Diary of Amelia Martin, Fenwick Island, Delaware, 1861 (Dear America)</th>\n",
       "      <td>4</td>\n",
       "      <td>4</td>\n",
       "      <td>4</td>\n",
       "      <td>4</td>\n",
       "      <td>4</td>\n",
       "      <td>4</td>\n",
       "      <td>4</td>\n",
       "      <td>4</td>\n",
       "      <td>4</td>\n",
       "    </tr>\n",
       "    <tr>\n",
       "      <th>Always Have Popsicles</th>\n",
       "      <td>1</td>\n",
       "      <td>1</td>\n",
       "      <td>1</td>\n",
       "      <td>1</td>\n",
       "      <td>1</td>\n",
       "      <td>1</td>\n",
       "      <td>1</td>\n",
       "      <td>1</td>\n",
       "      <td>1</td>\n",
       "    </tr>\n",
       "    <tr>\n",
       "      <th>Apple Magic (The Collector's series)</th>\n",
       "      <td>1</td>\n",
       "      <td>1</td>\n",
       "      <td>1</td>\n",
       "      <td>1</td>\n",
       "      <td>1</td>\n",
       "      <td>1</td>\n",
       "      <td>1</td>\n",
       "      <td>1</td>\n",
       "      <td>1</td>\n",
       "    </tr>\n",
       "    <tr>\n",
       "      <th>Ask Lily (Young Women of Faith: Lily Series, Book 5)</th>\n",
       "      <td>1</td>\n",
       "      <td>1</td>\n",
       "      <td>1</td>\n",
       "      <td>1</td>\n",
       "      <td>1</td>\n",
       "      <td>1</td>\n",
       "      <td>1</td>\n",
       "      <td>1</td>\n",
       "      <td>1</td>\n",
       "    </tr>\n",
       "    <tr>\n",
       "      <th>Beyond IBM: Leadership Marketing and Finance for the 1990s</th>\n",
       "      <td>1</td>\n",
       "      <td>1</td>\n",
       "      <td>1</td>\n",
       "      <td>1</td>\n",
       "      <td>1</td>\n",
       "      <td>1</td>\n",
       "      <td>1</td>\n",
       "      <td>1</td>\n",
       "      <td>1</td>\n",
       "    </tr>\n",
       "    <tr>\n",
       "      <th>...</th>\n",
       "      <td>...</td>\n",
       "      <td>...</td>\n",
       "      <td>...</td>\n",
       "      <td>...</td>\n",
       "      <td>...</td>\n",
       "      <td>...</td>\n",
       "      <td>...</td>\n",
       "      <td>...</td>\n",
       "      <td>...</td>\n",
       "    </tr>\n",
       "    <tr>\n",
       "      <th>Ã?Â?lpiraten.</th>\n",
       "      <td>2</td>\n",
       "      <td>2</td>\n",
       "      <td>2</td>\n",
       "      <td>2</td>\n",
       "      <td>2</td>\n",
       "      <td>2</td>\n",
       "      <td>2</td>\n",
       "      <td>2</td>\n",
       "      <td>2</td>\n",
       "    </tr>\n",
       "    <tr>\n",
       "      <th>Ã?Â?rger mit Produkt X. Roman.</th>\n",
       "      <td>4</td>\n",
       "      <td>4</td>\n",
       "      <td>4</td>\n",
       "      <td>4</td>\n",
       "      <td>4</td>\n",
       "      <td>4</td>\n",
       "      <td>4</td>\n",
       "      <td>4</td>\n",
       "      <td>4</td>\n",
       "    </tr>\n",
       "    <tr>\n",
       "      <th>Ã?Â?sterlich leben.</th>\n",
       "      <td>1</td>\n",
       "      <td>1</td>\n",
       "      <td>1</td>\n",
       "      <td>1</td>\n",
       "      <td>1</td>\n",
       "      <td>1</td>\n",
       "      <td>1</td>\n",
       "      <td>1</td>\n",
       "      <td>1</td>\n",
       "    </tr>\n",
       "    <tr>\n",
       "      <th>Ã?Â?stlich der Berge.</th>\n",
       "      <td>3</td>\n",
       "      <td>3</td>\n",
       "      <td>3</td>\n",
       "      <td>3</td>\n",
       "      <td>3</td>\n",
       "      <td>3</td>\n",
       "      <td>3</td>\n",
       "      <td>3</td>\n",
       "      <td>3</td>\n",
       "    </tr>\n",
       "    <tr>\n",
       "      <th>Ã?Â?thique en toc</th>\n",
       "      <td>2</td>\n",
       "      <td>2</td>\n",
       "      <td>2</td>\n",
       "      <td>2</td>\n",
       "      <td>2</td>\n",
       "      <td>2</td>\n",
       "      <td>2</td>\n",
       "      <td>2</td>\n",
       "      <td>2</td>\n",
       "    </tr>\n",
       "  </tbody>\n",
       "</table>\n",
       "<p>241071 rows × 9 columns</p>\n",
       "</div>"
      ],
      "text/plain": [
       "                                                    User-ID  ISBN  \\\n",
       "Book-Title                                                          \n",
       " A Light in the Storm: The Civil War Diary of A...        4     4   \n",
       " Always Have Popsicles                                    1     1   \n",
       " Apple Magic (The Collector's series)                     1     1   \n",
       " Ask Lily (Young Women of Faith: Lily Series, B...        1     1   \n",
       " Beyond IBM: Leadership Marketing and Finance f...        1     1   \n",
       "...                                                     ...   ...   \n",
       "Ã?Â?lpiraten.                                             2     2   \n",
       "Ã?Â?rger mit Produkt X. Roman.                            4     4   \n",
       "Ã?Â?sterlich leben.                                       1     1   \n",
       "Ã?Â?stlich der Berge.                                     3     3   \n",
       "Ã?Â?thique en toc                                         2     2   \n",
       "\n",
       "                                                    Book-Rating  Book-Author  \\\n",
       "Book-Title                                                                     \n",
       " A Light in the Storm: The Civil War Diary of A...            4            4   \n",
       " Always Have Popsicles                                        1            1   \n",
       " Apple Magic (The Collector's series)                         1            1   \n",
       " Ask Lily (Young Women of Faith: Lily Series, B...            1            1   \n",
       " Beyond IBM: Leadership Marketing and Finance f...            1            1   \n",
       "...                                                         ...          ...   \n",
       "Ã?Â?lpiraten.                                                 2            2   \n",
       "Ã?Â?rger mit Produkt X. Roman.                                4            4   \n",
       "Ã?Â?sterlich leben.                                           1            1   \n",
       "Ã?Â?stlich der Berge.                                         3            3   \n",
       "Ã?Â?thique en toc                                             2            2   \n",
       "\n",
       "                                                    Year-Of-Publication  \\\n",
       "Book-Title                                                                \n",
       " A Light in the Storm: The Civil War Diary of A...                    4   \n",
       " Always Have Popsicles                                                1   \n",
       " Apple Magic (The Collector's series)                                 1   \n",
       " Ask Lily (Young Women of Faith: Lily Series, B...                    1   \n",
       " Beyond IBM: Leadership Marketing and Finance f...                    1   \n",
       "...                                                                 ...   \n",
       "Ã?Â?lpiraten.                                                         2   \n",
       "Ã?Â?rger mit Produkt X. Roman.                                        4   \n",
       "Ã?Â?sterlich leben.                                                   1   \n",
       "Ã?Â?stlich der Berge.                                                 3   \n",
       "Ã?Â?thique en toc                                                     2   \n",
       "\n",
       "                                                    Publisher  Image-URL-S  \\\n",
       "Book-Title                                                                   \n",
       " A Light in the Storm: The Civil War Diary of A...          4            4   \n",
       " Always Have Popsicles                                      1            1   \n",
       " Apple Magic (The Collector's series)                       1            1   \n",
       " Ask Lily (Young Women of Faith: Lily Series, B...          1            1   \n",
       " Beyond IBM: Leadership Marketing and Finance f...          1            1   \n",
       "...                                                       ...          ...   \n",
       "Ã?Â?lpiraten.                                               2            2   \n",
       "Ã?Â?rger mit Produkt X. Roman.                              4            4   \n",
       "Ã?Â?sterlich leben.                                         1            1   \n",
       "Ã?Â?stlich der Berge.                                       3            3   \n",
       "Ã?Â?thique en toc                                           2            2   \n",
       "\n",
       "                                                    Image-URL-M  Image-URL-L  \n",
       "Book-Title                                                                    \n",
       " A Light in the Storm: The Civil War Diary of A...            4            4  \n",
       " Always Have Popsicles                                        1            1  \n",
       " Apple Magic (The Collector's series)                         1            1  \n",
       " Ask Lily (Young Women of Faith: Lily Series, B...            1            1  \n",
       " Beyond IBM: Leadership Marketing and Finance f...            1            1  \n",
       "...                                                         ...          ...  \n",
       "Ã?Â?lpiraten.                                                 2            2  \n",
       "Ã?Â?rger mit Produkt X. Roman.                                4            4  \n",
       "Ã?Â?sterlich leben.                                           1            1  \n",
       "Ã?Â?stlich der Berge.                                         3            3  \n",
       "Ã?Â?thique en toc                                             2            2  \n",
       "\n",
       "[241071 rows x 9 columns]"
      ]
     },
     "execution_count": 16,
     "metadata": {},
     "output_type": "execute_result"
    }
   ],
   "source": [
    "ratings_and_books.groupby('Book-Title').count()"
   ]
  },
  {
   "cell_type": "code",
   "execution_count": 19,
   "id": "d0001dc7",
   "metadata": {},
   "outputs": [],
   "source": [
    "no_of_ratings = ratings_and_books.groupby(\"Book-Title\")[\"Book-Rating\"].count().reset_index(name=\"No_of_Ratings\")"
   ]
  },
  {
   "cell_type": "code",
   "execution_count": 20,
   "id": "22025acd",
   "metadata": {},
   "outputs": [],
   "source": [
    "avg_rating = ratings_and_books.groupby(\"Book-Title\")[\"Book-Rating\"].mean().reset_index(name=\"Avg_Rating\")"
   ]
  },
  {
   "cell_type": "code",
   "execution_count": 21,
   "id": "b4d6b67c",
   "metadata": {},
   "outputs": [],
   "source": [
    "popularity_df = no_of_ratings.merge(avg_rating,on='Book-Title')"
   ]
  },
  {
   "cell_type": "code",
   "execution_count": 22,
   "id": "53dfb9ed",
   "metadata": {},
   "outputs": [
    {
     "data": {
      "application/vnd.microsoft.datawrangler.viewer.v0+json": {
       "columns": [
        {
         "name": "index",
         "rawType": "int64",
         "type": "integer"
        },
        {
         "name": "Book-Title",
         "rawType": "object",
         "type": "string"
        },
        {
         "name": "No_of_Ratings",
         "rawType": "int64",
         "type": "integer"
        },
        {
         "name": "Avg_Rating",
         "rawType": "float64",
         "type": "float"
        }
       ],
       "ref": "59d641f7-8971-4d28-b234-8511b48f5503",
       "rows": [
        [
         "0",
         " A Light in the Storm: The Civil War Diary of Amelia Martin, Fenwick Island, Delaware, 1861 (Dear America)",
         "4",
         "2.25"
        ],
        [
         "1",
         " Always Have Popsicles",
         "1",
         "0.0"
        ],
        [
         "2",
         " Apple Magic (The Collector's series)",
         "1",
         "0.0"
        ],
        [
         "3",
         " Ask Lily (Young Women of Faith: Lily Series, Book 5)",
         "1",
         "8.0"
        ],
        [
         "4",
         " Beyond IBM: Leadership Marketing and Finance for the 1990s",
         "1",
         "0.0"
        ],
        [
         "5",
         " Clifford Visita El Hospital (Clifford El Gran Perro Colorado)",
         "1",
         "0.0"
        ],
        [
         "6",
         " Dark Justice",
         "1",
         "10.0"
        ],
        [
         "7",
         " Deceived",
         "2",
         "0.0"
        ],
        [
         "8",
         " Earth Prayers From around the World: 365 Prayers, Poems, and Invocations for Honoring the Earth",
         "10",
         "5.0"
        ],
        [
         "9",
         " Final Fantasy Anthology: Official Strategy Guide (Brady Games)",
         "4",
         "5.0"
        ],
        [
         "10",
         " Flight of Fancy: American Heiresses (Zebra Ballad Romance)",
         "2",
         "4.0"
        ],
        [
         "11",
         " Garfield Bigger and Better (Garfield (Numbered Paperback))",
         "2",
         "3.5"
        ],
        [
         "12",
         " God's Little Promise Book",
         "2",
         "4.5"
        ],
        [
         "13",
         " Good Wives: Image and Reality in the Lives of Women in Northern New England, 1650-1750",
         "10",
         "3.2"
        ],
        [
         "14",
         " Goosebumps Monster Edition 1: Welcome to Dead House, Stay Out of the Basement, and Say Cheese and Die!",
         "9",
         "2.2222222222222223"
        ],
        [
         "15",
         " Harry Potter and the Bible: The Menace Behind the Magick (And the Bible Series)",
         "1",
         "0.0"
        ],
        [
         "16",
         " Highland Desire (Zebra Splendor Historical Romances)",
         "1",
         "7.0"
        ],
        [
         "17",
         " Hiking the California Coastal Trail: Oregon to Monterey",
         "1",
         "0.0"
        ],
        [
         "18",
         " It Takes Two",
         "2",
         "0.0"
        ],
        [
         "19",
         " LA Gallinita Roja/the Little Red Hen",
         "2",
         "0.0"
        ],
        [
         "20",
         " Little Comic Shop of Horrors (Give Yourself Goosebumps, Book 17)",
         "4",
         "1.25"
        ],
        [
         "21",
         " Microsoft Application Architecture For Microsoft .net: Designing Application (Pro-Other)",
         "1",
         "9.0"
        ],
        [
         "22",
         " Murder of a Sleeping Beauty (Scumble River Mysteries (Paperback))",
         "11",
         "3.1818181818181817"
        ],
        [
         "23",
         " Mystery Mile",
         "2",
         "0.0"
        ],
        [
         "24",
         " Nonbook Materials: The Organization of Integrated Collections",
         "1",
         "7.0"
        ],
        [
         "25",
         " Pokemon: The Official Collector's Sticker Book",
         "1",
         "0.0"
        ],
        [
         "26",
         " Q-Space (Star Trek The Next Generation, Book 47)",
         "17",
         "1.9411764705882353"
        ],
        [
         "27",
         " Q-Zone (Star Trek The Next Generation, Book 48)",
         "11",
         "1.0"
        ],
        [
         "28",
         " Stories of an Imaginary Childhood",
         "1",
         "0.0"
        ],
        [
         "29",
         " Summonings: Books of Magic, Vol. 2",
         "2",
         "7.0"
        ],
        [
         "30",
         " Tales of Terror and Suspense",
         "1",
         "0.0"
        ],
        [
         "31",
         " The Secret of the Old Clock (Nancy Drew, Book 1)",
         "3",
         "3.3333333333333335"
        ],
        [
         "32",
         " The Tender Commandments : Reflections on the Father's Love",
         "2",
         "0.0"
        ],
        [
         "33",
         " The Town Cats and Other Tales",
         "1",
         "0.0"
        ],
        [
         "34",
         " This Place Has No Atmosphere (Laurel-Leaf Books)",
         "9",
         "2.0"
        ],
        [
         "35",
         " Tough Loser",
         "1",
         "0.0"
        ],
        [
         "36",
         " Travel Companion Chile and Easter Island (Travel Companion)",
         "1",
         "5.0"
        ],
        [
         "37",
         " Twenty Thousand Leagues Under the Sea (Illustrated Classics)",
         "1",
         "0.0"
        ],
        [
         "38",
         " Weird News Stories",
         "2",
         "2.5"
        ],
        [
         "39",
         " Zap!: Science Fair Surprise! (Abracadabra!, Book 5)",
         "1",
         "0.0"
        ],
        [
         "40",
         " the Devil Will Drag You Under",
         "1",
         "8.0"
        ],
        [
         "41",
         "!%@ (A Nutshell handbook)",
         "2",
         "3.0"
        ],
        [
         "42",
         "!Arriba! Comunicacion y cultura",
         "2",
         "4.5"
        ],
        [
         "43",
         "!Trato hecho!: Spanish for Real Life, Combined Edition",
         "1",
         "5.0"
        ],
        [
         "44",
         "!Yo!",
         "11",
         "5.181818181818182"
        ],
        [
         "45",
         "$14 In The Bank (Cathy Collection)",
         "5",
         "1.8"
        ],
        [
         "46",
         "$30 Film School",
         "1",
         "8.0"
        ],
        [
         "47",
         "$Weet Deal$",
         "1",
         "0.0"
        ],
        [
         "48",
         "$oft Money: The True Power in Our Nation's Capital",
         "5",
         "5.4"
        ],
        [
         "49",
         "' Allo 'Allo: the War Diaries of Rene Artois",
         "1",
         "5.0"
        ]
       ],
       "shape": {
        "columns": 3,
        "rows": 241071
       }
      },
      "text/html": [
       "<div>\n",
       "<style scoped>\n",
       "    .dataframe tbody tr th:only-of-type {\n",
       "        vertical-align: middle;\n",
       "    }\n",
       "\n",
       "    .dataframe tbody tr th {\n",
       "        vertical-align: top;\n",
       "    }\n",
       "\n",
       "    .dataframe thead th {\n",
       "        text-align: right;\n",
       "    }\n",
       "</style>\n",
       "<table border=\"1\" class=\"dataframe\">\n",
       "  <thead>\n",
       "    <tr style=\"text-align: right;\">\n",
       "      <th></th>\n",
       "      <th>Book-Title</th>\n",
       "      <th>No_of_Ratings</th>\n",
       "      <th>Avg_Rating</th>\n",
       "    </tr>\n",
       "  </thead>\n",
       "  <tbody>\n",
       "    <tr>\n",
       "      <th>0</th>\n",
       "      <td>A Light in the Storm: The Civil War Diary of ...</td>\n",
       "      <td>4</td>\n",
       "      <td>2.250000</td>\n",
       "    </tr>\n",
       "    <tr>\n",
       "      <th>1</th>\n",
       "      <td>Always Have Popsicles</td>\n",
       "      <td>1</td>\n",
       "      <td>0.000000</td>\n",
       "    </tr>\n",
       "    <tr>\n",
       "      <th>2</th>\n",
       "      <td>Apple Magic (The Collector's series)</td>\n",
       "      <td>1</td>\n",
       "      <td>0.000000</td>\n",
       "    </tr>\n",
       "    <tr>\n",
       "      <th>3</th>\n",
       "      <td>Ask Lily (Young Women of Faith: Lily Series, ...</td>\n",
       "      <td>1</td>\n",
       "      <td>8.000000</td>\n",
       "    </tr>\n",
       "    <tr>\n",
       "      <th>4</th>\n",
       "      <td>Beyond IBM: Leadership Marketing and Finance ...</td>\n",
       "      <td>1</td>\n",
       "      <td>0.000000</td>\n",
       "    </tr>\n",
       "    <tr>\n",
       "      <th>...</th>\n",
       "      <td>...</td>\n",
       "      <td>...</td>\n",
       "      <td>...</td>\n",
       "    </tr>\n",
       "    <tr>\n",
       "      <th>241066</th>\n",
       "      <td>Ã?Â?lpiraten.</td>\n",
       "      <td>2</td>\n",
       "      <td>0.000000</td>\n",
       "    </tr>\n",
       "    <tr>\n",
       "      <th>241067</th>\n",
       "      <td>Ã?Â?rger mit Produkt X. Roman.</td>\n",
       "      <td>4</td>\n",
       "      <td>5.250000</td>\n",
       "    </tr>\n",
       "    <tr>\n",
       "      <th>241068</th>\n",
       "      <td>Ã?Â?sterlich leben.</td>\n",
       "      <td>1</td>\n",
       "      <td>7.000000</td>\n",
       "    </tr>\n",
       "    <tr>\n",
       "      <th>241069</th>\n",
       "      <td>Ã?Â?stlich der Berge.</td>\n",
       "      <td>3</td>\n",
       "      <td>2.666667</td>\n",
       "    </tr>\n",
       "    <tr>\n",
       "      <th>241070</th>\n",
       "      <td>Ã?Â?thique en toc</td>\n",
       "      <td>2</td>\n",
       "      <td>4.000000</td>\n",
       "    </tr>\n",
       "  </tbody>\n",
       "</table>\n",
       "<p>241071 rows × 3 columns</p>\n",
       "</div>"
      ],
      "text/plain": [
       "                                               Book-Title  No_of_Ratings  \\\n",
       "0        A Light in the Storm: The Civil War Diary of ...              4   \n",
       "1                                   Always Have Popsicles              1   \n",
       "2                    Apple Magic (The Collector's series)              1   \n",
       "3        Ask Lily (Young Women of Faith: Lily Series, ...              1   \n",
       "4        Beyond IBM: Leadership Marketing and Finance ...              1   \n",
       "...                                                   ...            ...   \n",
       "241066                                      Ã?Â?lpiraten.              2   \n",
       "241067                     Ã?Â?rger mit Produkt X. Roman.              4   \n",
       "241068                                Ã?Â?sterlich leben.              1   \n",
       "241069                              Ã?Â?stlich der Berge.              3   \n",
       "241070                                  Ã?Â?thique en toc              2   \n",
       "\n",
       "        Avg_Rating  \n",
       "0         2.250000  \n",
       "1         0.000000  \n",
       "2         0.000000  \n",
       "3         8.000000  \n",
       "4         0.000000  \n",
       "...            ...  \n",
       "241066    0.000000  \n",
       "241067    5.250000  \n",
       "241068    7.000000  \n",
       "241069    2.666667  \n",
       "241070    4.000000  \n",
       "\n",
       "[241071 rows x 3 columns]"
      ]
     },
     "execution_count": 22,
     "metadata": {},
     "output_type": "execute_result"
    }
   ],
   "source": [
    "popularity_df"
   ]
  },
  {
   "cell_type": "code",
   "execution_count": 23,
   "id": "93393cdb",
   "metadata": {},
   "outputs": [],
   "source": [
    "popularity_df = popularity_df.query('No_of_Ratings >= 250')"
   ]
  },
  {
   "cell_type": "code",
   "execution_count": 24,
   "id": "2fb9410a",
   "metadata": {},
   "outputs": [
    {
     "data": {
      "application/vnd.microsoft.datawrangler.viewer.v0+json": {
       "columns": [
        {
         "name": "index",
         "rawType": "int64",
         "type": "integer"
        },
        {
         "name": "Book-Title",
         "rawType": "object",
         "type": "string"
        },
        {
         "name": "No_of_Ratings",
         "rawType": "int64",
         "type": "integer"
        },
        {
         "name": "Avg_Rating",
         "rawType": "float64",
         "type": "float"
        }
       ],
       "ref": "69b9a787-3acd-4d5a-8d6a-864898a40c90",
       "rows": [
        [
         "764",
         "1984",
         "284",
         "4.454225352112676"
        ],
        [
         "818",
         "1st to Die: A Novel",
         "509",
         "3.5756385068762278"
        ],
        [
         "1048",
         "2nd Chance",
         "356",
         "3.269662921348315"
        ],
        [
         "1760",
         "A Bend in the Road",
         "346",
         "3.3641618497109826"
        ],
        [
         "2281",
         "A Child Called \\It\\\": One Child's Courage to Survive\"",
         "265",
         "4.086792452830188"
        ],
        [
         "3988",
         "A Heartbreaking Work of Staggering Genius",
         "302",
         "3.423841059602649"
        ],
        [
         "4229",
         "A Is for Alibi (Kinsey Millhone Mysteries (Paperback))",
         "285",
         "2.7333333333333334"
        ],
        [
         "4808",
         "A Map of the World",
         "327",
         "2.492354740061162"
        ],
        [
         "5303",
         "A Painted House",
         "838",
         "3.231503579952267"
        ],
        [
         "5664",
         "A Prayer for Owen Meany",
         "413",
         "3.7966101694915255"
        ],
        [
         "6980",
         "A Time to Kill",
         "549",
         "3.122040072859745"
        ],
        [
         "7379",
         "A Walk to Remember",
         "378",
         "3.3994708994708995"
        ],
        [
         "7474",
         "A Widow for One Year",
         "273",
         "2.7838827838827838"
        ],
        [
         "8434",
         "ANGELA'S ASHES",
         "279",
         "4.075268817204301"
        ],
        [
         "8752",
         "About a Boy",
         "262",
         "3.900763358778626"
        ],
        [
         "10429",
         "Airframe",
         "332",
         "2.9006024096385543"
        ],
        [
         "11215",
         "All I Really Need to Know",
         "258",
         "2.87984496124031"
        ],
        [
         "11924",
         "Along Came a Spider (Alex Cross Novels)",
         "304",
         "3.1217105263157894"
        ],
        [
         "12700",
         "American Gods",
         "302",
         "4.006622516556291"
        ],
        [
         "14351",
         "Angela's Ashes (MMP) : A Memoir",
         "326",
         "3.3374233128834354"
        ],
        [
         "14392",
         "Angels &amp; Demons",
         "670",
         "3.708955223880597"
        ],
        [
         "19241",
         "Back Roads",
         "276",
         "2.681159420289855"
        ],
        [
         "19780",
         "Balzac and the Little Chinese Seamstress : A Novel",
         "284",
         "3.676056338028169"
        ],
        [
         "21754",
         "Bel Canto: A Novel",
         "350",
         "3.702857142857143"
        ],
        [
         "24628",
         "Black Notice",
         "360",
         "2.783333333333333"
        ],
        [
         "24758",
         "Black and Blue",
         "263",
         "2.79467680608365"
        ],
        [
         "27922",
         "Bridget Jones's Diary",
         "815",
         "3.5276073619631902"
        ],
        [
         "32710",
         "Cause of Death",
         "287",
         "2.6202090592334493"
        ],
        [
         "34758",
         "Chocolat",
         "344",
         "3.4127906976744184"
        ],
        [
         "37121",
         "Cold Mountain : A Novel",
         "311",
         "3.35048231511254"
        ],
        [
         "38814",
         "Confessions of a Shopaholic (Summer Display Opportunity)",
         "350",
         "3.6342857142857143"
        ],
        [
         "38907",
         "Congo",
         "299",
         "2.431438127090301"
        ],
        [
         "40623",
         "Cradle and All",
         "265",
         "3.1358490566037736"
        ],
        [
         "43457",
         "Dance upon the Air (Three Sisters Island Trilogy)",
         "258",
         "3.2713178294573644"
        ],
        [
         "47417",
         "Deception Point",
         "262",
         "2.931297709923664"
        ],
        [
         "51986",
         "Digital Fortress : A Thriller",
         "293",
         "3.57679180887372"
        ],
        [
         "52409",
         "Disclosure",
         "318",
         "2.3459119496855347"
        ],
        [
         "52983",
         "Divine Secrets of the Ya-Ya Sisterhood: A Novel",
         "740",
         "3.437837837837838"
        ],
        [
         "53606",
         "Dolores Claiborne",
         "275",
         "3.1854545454545455"
        ],
        [
         "55358",
         "Dreamcatcher",
         "481",
         "3.212058212058212"
        ],
        [
         "60166",
         "Empire Falls",
         "392",
         "3.6301020408163267"
        ],
        [
         "63867",
         "Fahrenheit 451",
         "409",
         "4.264058679706602"
        ],
        [
         "64098",
         "Fall On Your Knees (Oprah #45)",
         "284",
         "3.387323943661972"
        ],
        [
         "64931",
         "Fast Food Nation: The Dark Side of the All-American Meal",
         "321",
         "4.037383177570093"
        ],
        [
         "67832",
         "Flesh and Blood",
         "254",
         "2.7755905511811023"
        ],
        [
         "70804",
         "Fried Green Tomatoes at the Whistle Stop Cafe",
         "313",
         "3.4345047923322682"
        ],
        [
         "71668",
         "Full House (Janet Evanovich's Full Series)",
         "257",
         "3.0428015564202333"
        ],
        [
         "74750",
         "Girl with a Pearl Earring",
         "526",
         "4.218631178707224"
        ],
        [
         "74758",
         "Girl, Interrupted",
         "262",
         "3.4198473282442747"
        ],
        [
         "76343",
         "Good in Bed",
         "490",
         "4.055102040816327"
        ]
       ],
       "shape": {
        "columns": 3,
        "rows": 186
       }
      },
      "text/html": [
       "<div>\n",
       "<style scoped>\n",
       "    .dataframe tbody tr th:only-of-type {\n",
       "        vertical-align: middle;\n",
       "    }\n",
       "\n",
       "    .dataframe tbody tr th {\n",
       "        vertical-align: top;\n",
       "    }\n",
       "\n",
       "    .dataframe thead th {\n",
       "        text-align: right;\n",
       "    }\n",
       "</style>\n",
       "<table border=\"1\" class=\"dataframe\">\n",
       "  <thead>\n",
       "    <tr style=\"text-align: right;\">\n",
       "      <th></th>\n",
       "      <th>Book-Title</th>\n",
       "      <th>No_of_Ratings</th>\n",
       "      <th>Avg_Rating</th>\n",
       "    </tr>\n",
       "  </thead>\n",
       "  <tbody>\n",
       "    <tr>\n",
       "      <th>764</th>\n",
       "      <td>1984</td>\n",
       "      <td>284</td>\n",
       "      <td>4.454225</td>\n",
       "    </tr>\n",
       "    <tr>\n",
       "      <th>818</th>\n",
       "      <td>1st to Die: A Novel</td>\n",
       "      <td>509</td>\n",
       "      <td>3.575639</td>\n",
       "    </tr>\n",
       "    <tr>\n",
       "      <th>1048</th>\n",
       "      <td>2nd Chance</td>\n",
       "      <td>356</td>\n",
       "      <td>3.269663</td>\n",
       "    </tr>\n",
       "    <tr>\n",
       "      <th>1760</th>\n",
       "      <td>A Bend in the Road</td>\n",
       "      <td>346</td>\n",
       "      <td>3.364162</td>\n",
       "    </tr>\n",
       "    <tr>\n",
       "      <th>2281</th>\n",
       "      <td>A Child Called \\It\\\": One Child's Courage to S...</td>\n",
       "      <td>265</td>\n",
       "      <td>4.086792</td>\n",
       "    </tr>\n",
       "    <tr>\n",
       "      <th>...</th>\n",
       "      <td>...</td>\n",
       "      <td>...</td>\n",
       "      <td>...</td>\n",
       "    </tr>\n",
       "    <tr>\n",
       "      <th>233850</th>\n",
       "      <td>White Oleander : A Novel</td>\n",
       "      <td>387</td>\n",
       "      <td>3.506460</td>\n",
       "    </tr>\n",
       "    <tr>\n",
       "      <th>233851</th>\n",
       "      <td>White Oleander : A Novel (Oprah's Book Club)</td>\n",
       "      <td>356</td>\n",
       "      <td>3.772472</td>\n",
       "    </tr>\n",
       "    <tr>\n",
       "      <th>234740</th>\n",
       "      <td>Wicked: The Life and Times of the Wicked Witch...</td>\n",
       "      <td>326</td>\n",
       "      <td>3.766871</td>\n",
       "    </tr>\n",
       "    <tr>\n",
       "      <th>234951</th>\n",
       "      <td>Wild Animus</td>\n",
       "      <td>2502</td>\n",
       "      <td>1.019584</td>\n",
       "    </tr>\n",
       "    <tr>\n",
       "      <th>240860</th>\n",
       "      <td>\\O\\\" Is for Outlaw\"</td>\n",
       "      <td>269</td>\n",
       "      <td>2.988848</td>\n",
       "    </tr>\n",
       "  </tbody>\n",
       "</table>\n",
       "<p>186 rows × 3 columns</p>\n",
       "</div>"
      ],
      "text/plain": [
       "                                               Book-Title  No_of_Ratings  \\\n",
       "764                                                  1984            284   \n",
       "818                                   1st to Die: A Novel            509   \n",
       "1048                                           2nd Chance            356   \n",
       "1760                                   A Bend in the Road            346   \n",
       "2281    A Child Called \\It\\\": One Child's Courage to S...            265   \n",
       "...                                                   ...            ...   \n",
       "233850                           White Oleander : A Novel            387   \n",
       "233851       White Oleander : A Novel (Oprah's Book Club)            356   \n",
       "234740  Wicked: The Life and Times of the Wicked Witch...            326   \n",
       "234951                                        Wild Animus           2502   \n",
       "240860                                \\O\\\" Is for Outlaw\"            269   \n",
       "\n",
       "        Avg_Rating  \n",
       "764       4.454225  \n",
       "818       3.575639  \n",
       "1048      3.269663  \n",
       "1760      3.364162  \n",
       "2281      4.086792  \n",
       "...            ...  \n",
       "233850    3.506460  \n",
       "233851    3.772472  \n",
       "234740    3.766871  \n",
       "234951    1.019584  \n",
       "240860    2.988848  \n",
       "\n",
       "[186 rows x 3 columns]"
      ]
     },
     "execution_count": 24,
     "metadata": {},
     "output_type": "execute_result"
    }
   ],
   "source": [
    "popularity_df"
   ]
  },
  {
   "cell_type": "code",
   "execution_count": 26,
   "id": "178136b8",
   "metadata": {},
   "outputs": [],
   "source": [
    "popularity_df = popularity_df.sort_values('Avg_Rating',ascending=False).head(50)"
   ]
  },
  {
   "cell_type": "code",
   "execution_count": 27,
   "id": "f493e971",
   "metadata": {},
   "outputs": [
    {
     "data": {
      "application/vnd.microsoft.datawrangler.viewer.v0+json": {
       "columns": [
        {
         "name": "index",
         "rawType": "int64",
         "type": "integer"
        },
        {
         "name": "Book-Title",
         "rawType": "object",
         "type": "string"
        },
        {
         "name": "No_of_Ratings",
         "rawType": "int64",
         "type": "integer"
        },
        {
         "name": "Avg_Rating",
         "rawType": "float64",
         "type": "float"
        }
       ],
       "ref": "af2a7c8a-256b-461f-b734-d266852eb653",
       "rows": [
        [
         "80434",
         "Harry Potter and the Prisoner of Azkaban (Book 3)",
         "428",
         "5.852803738317757"
        ],
        [
         "80422",
         "Harry Potter and the Goblet of Fire (Book 4)",
         "387",
         "5.8242894056847545"
        ],
        [
         "80441",
         "Harry Potter and the Sorcerer's Stone (Book 1)",
         "278",
         "5.737410071942446"
        ],
        [
         "80426",
         "Harry Potter and the Order of the Phoenix (Book 5)",
         "347",
         "5.501440922190202"
        ],
        [
         "80414",
         "Harry Potter and the Chamber of Secrets (Book 2)",
         "556",
         "5.183453237410072"
        ],
        [
         "191612",
         "The Hobbit : The Enchanting Prelude to The Lord of the Rings",
         "281",
         "5.00711743772242"
        ],
        [
         "187377",
         "The Fellowship of the Ring (The Lord of the Rings, Part 1)",
         "368",
         "4.948369565217392"
        ],
        [
         "80445",
         "Harry Potter and the Sorcerer's Stone (Harry Potter (Paperback))",
         "575",
         "4.895652173913043"
        ],
        [
         "211384",
         "The Two Towers (The Lord of the Rings, Part 2)",
         "260",
         "4.880769230769231"
        ],
        [
         "219741",
         "To Kill a Mockingbird",
         "510",
         "4.7"
        ],
        [
         "183573",
         "The Da Vinci Code",
         "898",
         "4.642538975501114"
        ],
        [
         "187880",
         "The Five People You Meet in Heaven",
         "430",
         "4.551162790697674"
        ],
        [
         "180556",
         "The Catcher in the Rye",
         "449",
         "4.5456570155902005"
        ],
        [
         "196326",
         "The Lovely Bones: A Novel",
         "1295",
         "4.468725868725869"
        ],
        [
         "764",
         "1984",
         "284",
         "4.454225352112676"
        ],
        [
         "144165",
         "Prodigal Summer: A Novel",
         "253",
         "4.450592885375494"
        ],
        [
         "128670",
         "Neverwhere",
         "265",
         "4.449056603773585"
        ],
        [
         "206502",
         "The Secret Life of Bees",
         "774",
         "4.447028423772609"
        ],
        [
         "168719",
         "Stupid White Men ...and Other Sorry Excuses for the State of the Nation!",
         "283",
         "4.3568904593639575"
        ],
        [
         "223135",
         "Tuesdays with Morrie: An Old Man, a Young Man, and Life's Greatest Lesson",
         "493",
         "4.354969574036511"
        ],
        [
         "204387",
         "The Red Tent (Bestselling Backlist)",
         "723",
         "4.334716459197787"
        ],
        [
         "191589",
         "The Hitchhiker's Guide to the Galaxy",
         "268",
         "4.3283582089552235"
        ],
        [
         "129379",
         "Nickel and Dimed: On (Not) Getting By in America",
         "335",
         "4.28955223880597"
        ],
        [
         "93381",
         "Into the Wild",
         "252",
         "4.273809523809524"
        ],
        [
         "63867",
         "Fahrenheit 451",
         "409",
         "4.264058679706602"
        ],
        [
         "74750",
         "Girl with a Pearl Earring",
         "526",
         "4.218631178707224"
        ],
        [
         "136145",
         "Outlander",
         "283",
         "4.173144876325089"
        ],
        [
         "233370",
         "Where the Heart Is (Oprah's Book Club (Paperback))",
         "585",
         "4.105982905982906"
        ],
        [
         "156102",
         "Seabiscuit: An American Legend",
         "275",
         "4.098181818181819"
        ],
        [
         "107962",
         "Life of Pi",
         "664",
         "4.088855421686747"
        ],
        [
         "176845",
         "The Bean Trees",
         "389",
         "4.087403598971722"
        ],
        [
         "2281",
         "A Child Called \\It\\\": One Child's Courage to Survive\"",
         "265",
         "4.086792452830188"
        ],
        [
         "8434",
         "ANGELA'S ASHES",
         "279",
         "4.075268817204301"
        ],
        [
         "76343",
         "Good in Bed",
         "490",
         "4.055102040816327"
        ],
        [
         "64931",
         "Fast Food Nation: The Dark Side of the All-American Meal",
         "321",
         "4.037383177570093"
        ],
        [
         "12700",
         "American Gods",
         "302",
         "4.006622516556291"
        ],
        [
         "161645",
         "Skipping Christmas",
         "322",
         "4.0062111801242235"
        ],
        [
         "105777",
         "Left Behind: A Novel of the Earth's Last Days (Left Behind No. 1)",
         "318",
         "4.00314465408805"
        ],
        [
         "189551",
         "The Golden Compass (His Dark Materials, Book 1)",
         "336",
         "4.0"
        ],
        [
         "181679",
         "The Color Purple",
         "314",
         "3.964968152866242"
        ],
        [
         "160336",
         "Silence of the Lambs",
         "256",
         "3.9609375"
        ],
        [
         "8752",
         "About a Boy",
         "262",
         "3.900763358778626"
        ],
        [
         "158138",
         "Seven Up (A Stephanie Plum Novel)",
         "278",
         "3.8884892086330933"
        ],
        [
         "175097",
         "The Alchemist: A Fable About Following Your Dream",
         "266",
         "3.8759398496240602"
        ],
        [
         "80069",
         "Hard Eight : A Stephanie Plum Novel (A Stephanie Plum Novel)",
         "269",
         "3.825278810408922"
        ],
        [
         "170101",
         "Suzanne's Diary for Nicholas",
         "457",
         "3.8205689277899344"
        ],
        [
         "111073",
         "Lord of the Flies",
         "259",
         "3.8185328185328187"
        ],
        [
         "5664",
         "A Prayer for Owen Meany",
         "413",
         "3.7966101694915255"
        ],
        [
         "212070",
         "The Vampire Lestat (Vampire Chronicles, Book II)",
         "301",
         "3.777408637873754"
        ],
        [
         "233851",
         "White Oleander : A Novel (Oprah's Book Club)",
         "356",
         "3.7724719101123596"
        ]
       ],
       "shape": {
        "columns": 3,
        "rows": 50
       }
      },
      "text/html": [
       "<div>\n",
       "<style scoped>\n",
       "    .dataframe tbody tr th:only-of-type {\n",
       "        vertical-align: middle;\n",
       "    }\n",
       "\n",
       "    .dataframe tbody tr th {\n",
       "        vertical-align: top;\n",
       "    }\n",
       "\n",
       "    .dataframe thead th {\n",
       "        text-align: right;\n",
       "    }\n",
       "</style>\n",
       "<table border=\"1\" class=\"dataframe\">\n",
       "  <thead>\n",
       "    <tr style=\"text-align: right;\">\n",
       "      <th></th>\n",
       "      <th>Book-Title</th>\n",
       "      <th>No_of_Ratings</th>\n",
       "      <th>Avg_Rating</th>\n",
       "    </tr>\n",
       "  </thead>\n",
       "  <tbody>\n",
       "    <tr>\n",
       "      <th>80434</th>\n",
       "      <td>Harry Potter and the Prisoner of Azkaban (Book 3)</td>\n",
       "      <td>428</td>\n",
       "      <td>5.852804</td>\n",
       "    </tr>\n",
       "    <tr>\n",
       "      <th>80422</th>\n",
       "      <td>Harry Potter and the Goblet of Fire (Book 4)</td>\n",
       "      <td>387</td>\n",
       "      <td>5.824289</td>\n",
       "    </tr>\n",
       "    <tr>\n",
       "      <th>80441</th>\n",
       "      <td>Harry Potter and the Sorcerer's Stone (Book 1)</td>\n",
       "      <td>278</td>\n",
       "      <td>5.737410</td>\n",
       "    </tr>\n",
       "    <tr>\n",
       "      <th>80426</th>\n",
       "      <td>Harry Potter and the Order of the Phoenix (Boo...</td>\n",
       "      <td>347</td>\n",
       "      <td>5.501441</td>\n",
       "    </tr>\n",
       "    <tr>\n",
       "      <th>80414</th>\n",
       "      <td>Harry Potter and the Chamber of Secrets (Book 2)</td>\n",
       "      <td>556</td>\n",
       "      <td>5.183453</td>\n",
       "    </tr>\n",
       "    <tr>\n",
       "      <th>191612</th>\n",
       "      <td>The Hobbit : The Enchanting Prelude to The Lor...</td>\n",
       "      <td>281</td>\n",
       "      <td>5.007117</td>\n",
       "    </tr>\n",
       "    <tr>\n",
       "      <th>187377</th>\n",
       "      <td>The Fellowship of the Ring (The Lord of the Ri...</td>\n",
       "      <td>368</td>\n",
       "      <td>4.948370</td>\n",
       "    </tr>\n",
       "    <tr>\n",
       "      <th>80445</th>\n",
       "      <td>Harry Potter and the Sorcerer's Stone (Harry P...</td>\n",
       "      <td>575</td>\n",
       "      <td>4.895652</td>\n",
       "    </tr>\n",
       "    <tr>\n",
       "      <th>211384</th>\n",
       "      <td>The Two Towers (The Lord of the Rings, Part 2)</td>\n",
       "      <td>260</td>\n",
       "      <td>4.880769</td>\n",
       "    </tr>\n",
       "    <tr>\n",
       "      <th>219741</th>\n",
       "      <td>To Kill a Mockingbird</td>\n",
       "      <td>510</td>\n",
       "      <td>4.700000</td>\n",
       "    </tr>\n",
       "    <tr>\n",
       "      <th>183573</th>\n",
       "      <td>The Da Vinci Code</td>\n",
       "      <td>898</td>\n",
       "      <td>4.642539</td>\n",
       "    </tr>\n",
       "    <tr>\n",
       "      <th>187880</th>\n",
       "      <td>The Five People You Meet in Heaven</td>\n",
       "      <td>430</td>\n",
       "      <td>4.551163</td>\n",
       "    </tr>\n",
       "    <tr>\n",
       "      <th>180556</th>\n",
       "      <td>The Catcher in the Rye</td>\n",
       "      <td>449</td>\n",
       "      <td>4.545657</td>\n",
       "    </tr>\n",
       "    <tr>\n",
       "      <th>196326</th>\n",
       "      <td>The Lovely Bones: A Novel</td>\n",
       "      <td>1295</td>\n",
       "      <td>4.468726</td>\n",
       "    </tr>\n",
       "    <tr>\n",
       "      <th>764</th>\n",
       "      <td>1984</td>\n",
       "      <td>284</td>\n",
       "      <td>4.454225</td>\n",
       "    </tr>\n",
       "    <tr>\n",
       "      <th>144165</th>\n",
       "      <td>Prodigal Summer: A Novel</td>\n",
       "      <td>253</td>\n",
       "      <td>4.450593</td>\n",
       "    </tr>\n",
       "    <tr>\n",
       "      <th>128670</th>\n",
       "      <td>Neverwhere</td>\n",
       "      <td>265</td>\n",
       "      <td>4.449057</td>\n",
       "    </tr>\n",
       "    <tr>\n",
       "      <th>206502</th>\n",
       "      <td>The Secret Life of Bees</td>\n",
       "      <td>774</td>\n",
       "      <td>4.447028</td>\n",
       "    </tr>\n",
       "    <tr>\n",
       "      <th>168719</th>\n",
       "      <td>Stupid White Men ...and Other Sorry Excuses fo...</td>\n",
       "      <td>283</td>\n",
       "      <td>4.356890</td>\n",
       "    </tr>\n",
       "    <tr>\n",
       "      <th>223135</th>\n",
       "      <td>Tuesdays with Morrie: An Old Man, a Young Man,...</td>\n",
       "      <td>493</td>\n",
       "      <td>4.354970</td>\n",
       "    </tr>\n",
       "    <tr>\n",
       "      <th>204387</th>\n",
       "      <td>The Red Tent (Bestselling Backlist)</td>\n",
       "      <td>723</td>\n",
       "      <td>4.334716</td>\n",
       "    </tr>\n",
       "    <tr>\n",
       "      <th>191589</th>\n",
       "      <td>The Hitchhiker's Guide to the Galaxy</td>\n",
       "      <td>268</td>\n",
       "      <td>4.328358</td>\n",
       "    </tr>\n",
       "    <tr>\n",
       "      <th>129379</th>\n",
       "      <td>Nickel and Dimed: On (Not) Getting By in America</td>\n",
       "      <td>335</td>\n",
       "      <td>4.289552</td>\n",
       "    </tr>\n",
       "    <tr>\n",
       "      <th>93381</th>\n",
       "      <td>Into the Wild</td>\n",
       "      <td>252</td>\n",
       "      <td>4.273810</td>\n",
       "    </tr>\n",
       "    <tr>\n",
       "      <th>63867</th>\n",
       "      <td>Fahrenheit 451</td>\n",
       "      <td>409</td>\n",
       "      <td>4.264059</td>\n",
       "    </tr>\n",
       "    <tr>\n",
       "      <th>74750</th>\n",
       "      <td>Girl with a Pearl Earring</td>\n",
       "      <td>526</td>\n",
       "      <td>4.218631</td>\n",
       "    </tr>\n",
       "    <tr>\n",
       "      <th>136145</th>\n",
       "      <td>Outlander</td>\n",
       "      <td>283</td>\n",
       "      <td>4.173145</td>\n",
       "    </tr>\n",
       "    <tr>\n",
       "      <th>233370</th>\n",
       "      <td>Where the Heart Is (Oprah's Book Club (Paperba...</td>\n",
       "      <td>585</td>\n",
       "      <td>4.105983</td>\n",
       "    </tr>\n",
       "    <tr>\n",
       "      <th>156102</th>\n",
       "      <td>Seabiscuit: An American Legend</td>\n",
       "      <td>275</td>\n",
       "      <td>4.098182</td>\n",
       "    </tr>\n",
       "    <tr>\n",
       "      <th>107962</th>\n",
       "      <td>Life of Pi</td>\n",
       "      <td>664</td>\n",
       "      <td>4.088855</td>\n",
       "    </tr>\n",
       "    <tr>\n",
       "      <th>176845</th>\n",
       "      <td>The Bean Trees</td>\n",
       "      <td>389</td>\n",
       "      <td>4.087404</td>\n",
       "    </tr>\n",
       "    <tr>\n",
       "      <th>2281</th>\n",
       "      <td>A Child Called \\It\\\": One Child's Courage to S...</td>\n",
       "      <td>265</td>\n",
       "      <td>4.086792</td>\n",
       "    </tr>\n",
       "    <tr>\n",
       "      <th>8434</th>\n",
       "      <td>ANGELA'S ASHES</td>\n",
       "      <td>279</td>\n",
       "      <td>4.075269</td>\n",
       "    </tr>\n",
       "    <tr>\n",
       "      <th>76343</th>\n",
       "      <td>Good in Bed</td>\n",
       "      <td>490</td>\n",
       "      <td>4.055102</td>\n",
       "    </tr>\n",
       "    <tr>\n",
       "      <th>64931</th>\n",
       "      <td>Fast Food Nation: The Dark Side of the All-Ame...</td>\n",
       "      <td>321</td>\n",
       "      <td>4.037383</td>\n",
       "    </tr>\n",
       "    <tr>\n",
       "      <th>12700</th>\n",
       "      <td>American Gods</td>\n",
       "      <td>302</td>\n",
       "      <td>4.006623</td>\n",
       "    </tr>\n",
       "    <tr>\n",
       "      <th>161645</th>\n",
       "      <td>Skipping Christmas</td>\n",
       "      <td>322</td>\n",
       "      <td>4.006211</td>\n",
       "    </tr>\n",
       "    <tr>\n",
       "      <th>105777</th>\n",
       "      <td>Left Behind: A Novel of the Earth's Last Days ...</td>\n",
       "      <td>318</td>\n",
       "      <td>4.003145</td>\n",
       "    </tr>\n",
       "    <tr>\n",
       "      <th>189551</th>\n",
       "      <td>The Golden Compass (His Dark Materials, Book 1)</td>\n",
       "      <td>336</td>\n",
       "      <td>4.000000</td>\n",
       "    </tr>\n",
       "    <tr>\n",
       "      <th>181679</th>\n",
       "      <td>The Color Purple</td>\n",
       "      <td>314</td>\n",
       "      <td>3.964968</td>\n",
       "    </tr>\n",
       "    <tr>\n",
       "      <th>160336</th>\n",
       "      <td>Silence of the Lambs</td>\n",
       "      <td>256</td>\n",
       "      <td>3.960938</td>\n",
       "    </tr>\n",
       "    <tr>\n",
       "      <th>8752</th>\n",
       "      <td>About a Boy</td>\n",
       "      <td>262</td>\n",
       "      <td>3.900763</td>\n",
       "    </tr>\n",
       "    <tr>\n",
       "      <th>158138</th>\n",
       "      <td>Seven Up (A Stephanie Plum Novel)</td>\n",
       "      <td>278</td>\n",
       "      <td>3.888489</td>\n",
       "    </tr>\n",
       "    <tr>\n",
       "      <th>175097</th>\n",
       "      <td>The Alchemist: A Fable About Following Your Dream</td>\n",
       "      <td>266</td>\n",
       "      <td>3.875940</td>\n",
       "    </tr>\n",
       "    <tr>\n",
       "      <th>80069</th>\n",
       "      <td>Hard Eight : A Stephanie Plum Novel (A Stephan...</td>\n",
       "      <td>269</td>\n",
       "      <td>3.825279</td>\n",
       "    </tr>\n",
       "    <tr>\n",
       "      <th>170101</th>\n",
       "      <td>Suzanne's Diary for Nicholas</td>\n",
       "      <td>457</td>\n",
       "      <td>3.820569</td>\n",
       "    </tr>\n",
       "    <tr>\n",
       "      <th>111073</th>\n",
       "      <td>Lord of the Flies</td>\n",
       "      <td>259</td>\n",
       "      <td>3.818533</td>\n",
       "    </tr>\n",
       "    <tr>\n",
       "      <th>5664</th>\n",
       "      <td>A Prayer for Owen Meany</td>\n",
       "      <td>413</td>\n",
       "      <td>3.796610</td>\n",
       "    </tr>\n",
       "    <tr>\n",
       "      <th>212070</th>\n",
       "      <td>The Vampire Lestat (Vampire Chronicles, Book II)</td>\n",
       "      <td>301</td>\n",
       "      <td>3.777409</td>\n",
       "    </tr>\n",
       "    <tr>\n",
       "      <th>233851</th>\n",
       "      <td>White Oleander : A Novel (Oprah's Book Club)</td>\n",
       "      <td>356</td>\n",
       "      <td>3.772472</td>\n",
       "    </tr>\n",
       "  </tbody>\n",
       "</table>\n",
       "</div>"
      ],
      "text/plain": [
       "                                               Book-Title  No_of_Ratings  \\\n",
       "80434   Harry Potter and the Prisoner of Azkaban (Book 3)            428   \n",
       "80422        Harry Potter and the Goblet of Fire (Book 4)            387   \n",
       "80441      Harry Potter and the Sorcerer's Stone (Book 1)            278   \n",
       "80426   Harry Potter and the Order of the Phoenix (Boo...            347   \n",
       "80414    Harry Potter and the Chamber of Secrets (Book 2)            556   \n",
       "191612  The Hobbit : The Enchanting Prelude to The Lor...            281   \n",
       "187377  The Fellowship of the Ring (The Lord of the Ri...            368   \n",
       "80445   Harry Potter and the Sorcerer's Stone (Harry P...            575   \n",
       "211384     The Two Towers (The Lord of the Rings, Part 2)            260   \n",
       "219741                              To Kill a Mockingbird            510   \n",
       "183573                                  The Da Vinci Code            898   \n",
       "187880                 The Five People You Meet in Heaven            430   \n",
       "180556                             The Catcher in the Rye            449   \n",
       "196326                          The Lovely Bones: A Novel           1295   \n",
       "764                                                  1984            284   \n",
       "144165                           Prodigal Summer: A Novel            253   \n",
       "128670                                         Neverwhere            265   \n",
       "206502                            The Secret Life of Bees            774   \n",
       "168719  Stupid White Men ...and Other Sorry Excuses fo...            283   \n",
       "223135  Tuesdays with Morrie: An Old Man, a Young Man,...            493   \n",
       "204387                The Red Tent (Bestselling Backlist)            723   \n",
       "191589               The Hitchhiker's Guide to the Galaxy            268   \n",
       "129379   Nickel and Dimed: On (Not) Getting By in America            335   \n",
       "93381                                       Into the Wild            252   \n",
       "63867                                      Fahrenheit 451            409   \n",
       "74750                           Girl with a Pearl Earring            526   \n",
       "136145                                          Outlander            283   \n",
       "233370  Where the Heart Is (Oprah's Book Club (Paperba...            585   \n",
       "156102                     Seabiscuit: An American Legend            275   \n",
       "107962                                         Life of Pi            664   \n",
       "176845                                     The Bean Trees            389   \n",
       "2281    A Child Called \\It\\\": One Child's Courage to S...            265   \n",
       "8434                                       ANGELA'S ASHES            279   \n",
       "76343                                         Good in Bed            490   \n",
       "64931   Fast Food Nation: The Dark Side of the All-Ame...            321   \n",
       "12700                                       American Gods            302   \n",
       "161645                                 Skipping Christmas            322   \n",
       "105777  Left Behind: A Novel of the Earth's Last Days ...            318   \n",
       "189551    The Golden Compass (His Dark Materials, Book 1)            336   \n",
       "181679                                   The Color Purple            314   \n",
       "160336                               Silence of the Lambs            256   \n",
       "8752                                          About a Boy            262   \n",
       "158138                  Seven Up (A Stephanie Plum Novel)            278   \n",
       "175097  The Alchemist: A Fable About Following Your Dream            266   \n",
       "80069   Hard Eight : A Stephanie Plum Novel (A Stephan...            269   \n",
       "170101                       Suzanne's Diary for Nicholas            457   \n",
       "111073                                  Lord of the Flies            259   \n",
       "5664                              A Prayer for Owen Meany            413   \n",
       "212070   The Vampire Lestat (Vampire Chronicles, Book II)            301   \n",
       "233851       White Oleander : A Novel (Oprah's Book Club)            356   \n",
       "\n",
       "        Avg_Rating  \n",
       "80434     5.852804  \n",
       "80422     5.824289  \n",
       "80441     5.737410  \n",
       "80426     5.501441  \n",
       "80414     5.183453  \n",
       "191612    5.007117  \n",
       "187377    4.948370  \n",
       "80445     4.895652  \n",
       "211384    4.880769  \n",
       "219741    4.700000  \n",
       "183573    4.642539  \n",
       "187880    4.551163  \n",
       "180556    4.545657  \n",
       "196326    4.468726  \n",
       "764       4.454225  \n",
       "144165    4.450593  \n",
       "128670    4.449057  \n",
       "206502    4.447028  \n",
       "168719    4.356890  \n",
       "223135    4.354970  \n",
       "204387    4.334716  \n",
       "191589    4.328358  \n",
       "129379    4.289552  \n",
       "93381     4.273810  \n",
       "63867     4.264059  \n",
       "74750     4.218631  \n",
       "136145    4.173145  \n",
       "233370    4.105983  \n",
       "156102    4.098182  \n",
       "107962    4.088855  \n",
       "176845    4.087404  \n",
       "2281      4.086792  \n",
       "8434      4.075269  \n",
       "76343     4.055102  \n",
       "64931     4.037383  \n",
       "12700     4.006623  \n",
       "161645    4.006211  \n",
       "105777    4.003145  \n",
       "189551    4.000000  \n",
       "181679    3.964968  \n",
       "160336    3.960938  \n",
       "8752      3.900763  \n",
       "158138    3.888489  \n",
       "175097    3.875940  \n",
       "80069     3.825279  \n",
       "170101    3.820569  \n",
       "111073    3.818533  \n",
       "5664      3.796610  \n",
       "212070    3.777409  \n",
       "233851    3.772472  "
      ]
     },
     "execution_count": 27,
     "metadata": {},
     "output_type": "execute_result"
    }
   ],
   "source": [
    "popularity_df"
   ]
  },
  {
   "cell_type": "code",
   "execution_count": null,
   "id": "f1486378",
   "metadata": {},
   "outputs": [],
   "source": []
  }
 ],
 "metadata": {
  "kernelspec": {
   "display_name": "env2",
   "language": "python",
   "name": "python3"
  },
  "language_info": {
   "codemirror_mode": {
    "name": "ipython",
    "version": 3
   },
   "file_extension": ".py",
   "mimetype": "text/x-python",
   "name": "python",
   "nbconvert_exporter": "python",
   "pygments_lexer": "ipython3",
   "version": "3.12.9"
  }
 },
 "nbformat": 4,
 "nbformat_minor": 5
}
